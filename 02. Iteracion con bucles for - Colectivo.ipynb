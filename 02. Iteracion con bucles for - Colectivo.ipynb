{
 "cells": [
  {
   "cell_type": "markdown",
   "metadata": {},
   "source": [
    "# La importancia de la repetición"
   ]
  },
  {
   "cell_type": "markdown",
   "metadata": {},
   "source": [
    "Los humanos odiamos repetir cosas muchas veces, ya que nos aburrimos muy rápidamente. Sin embargo, la repetición radica al seno de todos los métodos numéricos. Por lo tanto, empezaremos el curso con estudiar cómo llevar a cabo tareas repetitivas."
   ]
  },
  {
   "cell_type": "markdown",
   "metadata": {},
   "source": [
    "[1] Calcula *a mano* el producto 10 * 2. Para hacerlo, define una variable `x` y súmale 2 diez veces."
   ]
  },
  {
   "cell_type": "code",
   "execution_count": 84,
   "metadata": {},
   "outputs": [
    {
     "data": {
      "text/plain": [
       "20"
      ]
     },
     "execution_count": 84,
     "metadata": {},
     "output_type": "execute_result"
    }
   ],
   "source": [
    "y = 0 + 2 + 2 + 2 + 2 + 2 + 2 + 2 + 2 + 2 + 2"
   ]
  },
  {
   "cell_type": "code",
   "execution_count": 85,
   "metadata": {},
   "outputs": [
    {
     "data": {
      "text/plain": [
       "20"
      ]
     },
     "execution_count": 85,
     "metadata": {},
     "output_type": "execute_result"
    }
   ],
   "source": [
    "x = 0\n",
    "x = x + 2\n",
    "x = x + 2\n",
    "x = x + 2\n",
    "x = x + 2\n",
    "x = x + 2\n",
    "x = x + 2\n",
    "x = x + 2\n",
    "x = x + 2\n",
    "x = x + 2\n",
    "x = x + 2"
   ]
  },
  {
   "cell_type": "code",
   "execution_count": 86,
   "metadata": {},
   "outputs": [
    {
     "data": {
      "text/plain": [
       "4"
      ]
     },
     "execution_count": 86,
     "metadata": {},
     "output_type": "execute_result"
    }
   ],
   "source": [
    "y = 0\n",
    "y += 2 # abreviación de y = y + 2\n",
    "y += 2"
   ]
  },
  {
   "cell_type": "code",
   "execution_count": 87,
   "metadata": {},
   "outputs": [
    {
     "data": {
      "text/plain": [
       "2"
      ]
     },
     "execution_count": 87,
     "metadata": {},
     "output_type": "execute_result"
    }
   ],
   "source": [
    "z = 0\n",
    "z =+ 2\n",
    "z =+ 2"
   ]
  },
  {
   "cell_type": "markdown",
   "metadata": {},
   "source": [
    "Está claro que *nunca en la vida queremos volver a hacer cosas parecidas*. Podemos resumir esto en una regla:"
   ]
  },
  {
   "cell_type": "markdown",
   "metadata": {},
   "source": [
    "**REGLA: Nunca repitas a mano una operación más de 2 veces.**"
   ]
  },
  {
   "cell_type": "markdown",
   "metadata": {},
   "source": [
    "Si hay que hacer algo más de 2 veces, entonces necesitamos **automatizar** el proceso."
   ]
  },
  {
   "cell_type": "markdown",
   "metadata": {},
   "source": [
    "## Repetición en Julia: bucles `for`"
   ]
  },
  {
   "cell_type": "markdown",
   "metadata": {},
   "source": [
    "Existen varias formas de llevar a cabo cálculos de forma repetida en Julia. Uno de los más claves es la [**iteración**](https://es.wikipedia.org/wiki/Iteraci%C3%B3n). \n",
    "\n",
    "Un bucle `for` nos permite hacer que una variable recorra automáticamente un conjunto de valores.\n",
    "\n",
    "En el caso de la multiplicación, queremos repetir algo 10 veces. Una forma de hacerlo es tener una variable, llamada un *contador*, que cuenta de 1 a 10:"
   ]
  },
  {
   "cell_type": "code",
   "execution_count": 88,
   "metadata": {},
   "outputs": [
    {
     "name": "stdout",
     "output_type": "stream",
     "text": [
      "i = 1\n",
      "i = 2\n",
      "i = 3\n",
      "i = 4\n",
      "i = 5\n",
      "i = 6\n",
      "i = 7\n",
      "i = 8\n",
      "i = 9\n",
      "i = 10\n"
     ]
    }
   ],
   "source": [
    "for i in 1:10\n",
    "    @show i\n",
    "end"
   ]
  },
  {
   "cell_type": "markdown",
   "metadata": {},
   "source": [
    "[Recuerda que en el cuaderno de Jupyter, ejecutamos las celdas con `Shift-Enter`.]\n",
    "\n",
    "Todo lo que viene en la celda anterior constituye el *bucle `for`*. (Un bucle también se llama ciclo o loop.)\n",
    "El bucle total constituye un conjunto de instrucciones que le estamos dando a la computadora, diciéndole que lleve a cabo estas operaciones.\n",
    "\n",
    "Podemos leer la línea 1 como: \"para i que recorre el conjunto de 1 hasta 10, haz lo siguiente\".\n",
    "\n",
    "Todo lo que viene entre la primera línea y el `end` se llama el **cuerpo** del `for`; son las instrucciones que se repetirán cada vez, con el valor nuevo de la variable, que se va actualizando solo. (Nunca tuvimos nosotros que sumarle uno a `i`; esto es lo que hace automáticamente el `for`.)\n",
    "\n",
    "\n",
    "En este caso, lo único que estamos haciendo es imprimir en la pantalla el valor actual de la variable `i`, usando `@show`. (\"show\"=mostrar).\n",
    "\n",
    "Nótese que es necesario terminar el \"cuerpo\" del bucle `for` con `end` (=\"fin\").\n"
   ]
  },
  {
   "cell_type": "markdown",
   "metadata": {},
   "source": [
    "[2] Escribe el código a mano para imprimir lo mismo, *sin* utilizar un bucle. ¿Quisieras hacerlo para los números de 1 a 100? ¡Por algo se inventaron los bucles!"
   ]
  },
  {
   "cell_type": "code",
   "execution_count": 89,
   "metadata": {},
   "outputs": [
    {
     "name": "stdout",
     "output_type": "stream",
     "text": [
      "i = 1\n",
      "i = 2\n",
      "i = 3\n",
      "i = 4\n",
      "i = 5\n",
      "i = 6\n",
      "i = 7\n",
      "i = 8\n",
      "i = 9\n",
      "i = 10\n"
     ]
    },
    {
     "data": {
      "text/plain": [
       "10"
      ]
     },
     "execution_count": 89,
     "metadata": {},
     "output_type": "execute_result"
    }
   ],
   "source": [
    "i = 1\n",
    "    @show i\n",
    "i = 2\n",
    "    @show i\n",
    "i = 3\n",
    "    @show i\n",
    "i = 4\n",
    "    @show i\n",
    "i = 5\n",
    "    @show i\n",
    "i = 6\n",
    "    @show i\n",
    "i = 7\n",
    "    @show i\n",
    "i = 8\n",
    "    @show i\n",
    "i = 9\n",
    "    @show i\n",
    "i = 10\n",
    "    @show i"
   ]
  },
  {
   "cell_type": "markdown",
   "metadata": {},
   "source": [
    "## Multiplicación"
   ]
  },
  {
   "cell_type": "markdown",
   "metadata": {},
   "source": [
    "Regresemos al ejemplo de la multiplicación como una suma repetida. ¿Cómo podríamos escribir eso usando un bucle `for`? Necesitaremos *una variable extra* que guarda el \"estado actual\" al cual hemos llegado; este estado va a cambiar en cada vuelta del bucle:"
   ]
  },
  {
   "cell_type": "markdown",
   "metadata": {},
   "source": [
    "[3] (i) Escribe la multiplicación de dos enteros usando esta idea: crea una nueva variable `producto`, el cual se *va actualizando (cambiando) en cada vuelta del bucle*. La variable se crea *antes* del bucle y se modifica *adentro* del bucle. \n",
    "\n",
    "**Asegúrate de ¡utilizar la indentación (sangría) correcta!**\n",
    "\n",
    "(ii) Define una función `multiplicar` que acepta los dos números que multiplicará, `x` y `n`, y regresa el resultado de la multiplicación calculado con el pedazo de código que hiciste en la pregunta (i). (Es decir, tendrás que incorporar ese código como el cuerpo de la función.)"
   ]
  },
  {
   "cell_type": "code",
   "execution_count": 90,
   "metadata": {},
   "outputs": [
    {
     "name": "stdout",
     "output_type": "stream",
     "text": [
      "18"
     ]
    }
   ],
   "source": [
    "producto = 0\n",
    "x = 3\n",
    "n = 6\n",
    "\n",
    "for i in 1:n\n",
    "    producto = producto + x\n",
    "end\n",
    "\n",
    "print(producto) "
   ]
  },
  {
   "cell_type": "code",
   "execution_count": 91,
   "metadata": {},
   "outputs": [
    {
     "data": {
      "text/plain": [
       "multiplicar (generic function with 1 method)"
      ]
     },
     "execution_count": 91,
     "metadata": {},
     "output_type": "execute_result"
    }
   ],
   "source": [
    "function multiplicar(x, n)\n",
    "    \n",
    "    producto = 0\n",
    "    \n",
    "    for i in 1:n\n",
    "        producto += x\n",
    "    end\n",
    "    \n",
    "    return producto\n",
    "    \n",
    "end"
   ]
  },
  {
   "cell_type": "code",
   "execution_count": 92,
   "metadata": {},
   "outputs": [
    {
     "data": {
      "text/plain": [
       "8"
      ]
     },
     "execution_count": 92,
     "metadata": {},
     "output_type": "execute_result"
    }
   ],
   "source": [
    "multiplicar(2,4)"
   ]
  },
  {
   "cell_type": "code",
   "execution_count": 93,
   "metadata": {},
   "outputs": [
    {
     "data": {
      "text/plain": [
       "56"
      ]
     },
     "execution_count": 93,
     "metadata": {},
     "output_type": "execute_result"
    }
   ],
   "source": [
    "multiplicar(7,8)"
   ]
  },
  {
   "cell_type": "code",
   "execution_count": 94,
   "metadata": {},
   "outputs": [
    {
     "data": {
      "text/plain": [
       "-6"
      ]
     },
     "execution_count": 94,
     "metadata": {},
     "output_type": "execute_result"
    }
   ],
   "source": [
    "multiplicar(-2,3)"
   ]
  },
  {
   "cell_type": "code",
   "execution_count": 95,
   "metadata": {},
   "outputs": [
    {
     "data": {
      "text/plain": [
       "14.2"
      ]
     },
     "execution_count": 95,
     "metadata": {},
     "output_type": "execute_result"
    }
   ],
   "source": [
    "multiplicar(7.1,2)"
   ]
  },
  {
   "cell_type": "markdown",
   "metadata": {},
   "source": [
    "## Tests "
   ]
  },
  {
   "cell_type": "markdown",
   "metadata": {},
   "source": [
    "Es **sumamente importante** verificar que el código que vayamos escribiendo funcione correctamente. Una manera de hacerlo es el definir unos **tests** (pruebas) para verificar si tu código funciona correctamente. Ver https://es.wikipedia.org/wiki/Desarrollo_guiado_por_pruebas.\n",
    "\n",
    "Julia provee el paquete `Base.Test` que permite verificar  al comparar el resultado que arroja con la multiplicación usual de Julia. Para hacerlo, usamos el paquete como sigue:\n",
    "\n",
    "    using Base.Test  # cargar la librería de tests\n",
    "    \n",
    "    @test multiplicar(3, 4) == 3 * 4\n",
    "    \n",
    "El `==` verifica igualdad entre el resultado de tu función y el valor que calcula Julia al utilizar su función `*`."
   ]
  },
  {
   "cell_type": "markdown",
   "metadata": {},
   "source": [
    "[4] Escribe varios tests. ¿Qué ocurre si utilizas números reales (de punto flotante) en lugar de enteros?  ¿Qué ocurre si un test fracasa?"
   ]
  },
  {
   "cell_type": "code",
   "execution_count": 96,
   "metadata": {},
   "outputs": [
    {
     "ename": "LoadError",
     "evalue": "\u001b[91mUndefVarError: @test not defined\u001b[39m",
     "output_type": "error",
     "traceback": [
      "\u001b[91mUndefVarError: @test not defined\u001b[39m",
      "",
      "Stacktrace:",
      " [1] \u001b[1minclude_string\u001b[22m\u001b[22m\u001b[1m(\u001b[22m\u001b[22m::String, ::String\u001b[1m)\u001b[22m\u001b[22m at \u001b[1m./loading.jl:515\u001b[22m\u001b[22m"
     ]
    }
   ],
   "source": [
    "@test multiplicar(2,3) == 2 * 3"
   ]
  },
  {
   "cell_type": "code",
   "execution_count": 97,
   "metadata": {},
   "outputs": [
    {
     "ename": "LoadError",
     "evalue": "\u001b[91mUndefVarError: @test not defined\u001b[39m",
     "output_type": "error",
     "traceback": [
      "\u001b[91mUndefVarError: @test not defined\u001b[39m",
      "",
      "Stacktrace:",
      " [1] \u001b[1minclude_string\u001b[22m\u001b[22m\u001b[1m(\u001b[22m\u001b[22m::String, ::String\u001b[1m)\u001b[22m\u001b[22m at \u001b[1m./loading.jl:515\u001b[22m\u001b[22m"
     ]
    }
   ],
   "source": [
    "@test multiplicar(-2,3) == -2 * 3"
   ]
  },
  {
   "cell_type": "code",
   "execution_count": 98,
   "metadata": {},
   "outputs": [
    {
     "ename": "LoadError",
     "evalue": "\u001b[91mUndefVarError: @test not defined\u001b[39m",
     "output_type": "error",
     "traceback": [
      "\u001b[91mUndefVarError: @test not defined\u001b[39m",
      "",
      "Stacktrace:",
      " [1] \u001b[1minclude_string\u001b[22m\u001b[22m\u001b[1m(\u001b[22m\u001b[22m::String, ::String\u001b[1m)\u001b[22m\u001b[22m at \u001b[1m./loading.jl:515\u001b[22m\u001b[22m"
     ]
    }
   ],
   "source": [
    "@test multiplicar(2,-3) == -2 * 3"
   ]
  },
  {
   "cell_type": "code",
   "execution_count": 99,
   "metadata": {},
   "outputs": [
    {
     "ename": "LoadError",
     "evalue": "\u001b[91mUndefVarError: @test not defined\u001b[39m",
     "output_type": "error",
     "traceback": [
      "\u001b[91mUndefVarError: @test not defined\u001b[39m",
      "",
      "Stacktrace:",
      " [1] \u001b[1minclude_string\u001b[22m\u001b[22m\u001b[1m(\u001b[22m\u001b[22m::String, ::String\u001b[1m)\u001b[22m\u001b[22m at \u001b[1m./loading.jl:515\u001b[22m\u001b[22m"
     ]
    }
   ],
   "source": [
    "@test multiplicar(2.6,3) == 2.6 * 3"
   ]
  },
  {
   "cell_type": "code",
   "execution_count": 100,
   "metadata": {},
   "outputs": [
    {
     "ename": "LoadError",
     "evalue": "\u001b[91mUndefVarError: @test not defined\u001b[39m",
     "output_type": "error",
     "traceback": [
      "\u001b[91mUndefVarError: @test not defined\u001b[39m",
      "",
      "Stacktrace:",
      " [1] \u001b[1minclude_string\u001b[22m\u001b[22m\u001b[1m(\u001b[22m\u001b[22m::String, ::String\u001b[1m)\u001b[22m\u001b[22m at \u001b[1m./loading.jl:515\u001b[22m\u001b[22m"
     ]
    }
   ],
   "source": [
    "@test multiplicar(2,3.6) == -2 * 3"
   ]
  },
  {
   "cell_type": "markdown",
   "metadata": {},
   "source": [
    "[5] (i) Haz una nueva versión de la función `multiplicar` (en otra celda del notebook), en la cual verificas si el argumento `n` un `if` para verificar si `n` realmente sea positivo y entero. [Pista: checa la función `isinteger`.] Si no, arroja un error usando la función `error`.\n",
    " \n",
    "(ii) ¿Cómo puedes cambiar tu función para que funcione para *cualquier* entero `n`?\n",
    "\n",
    "(iii) Escribe más pruebas.\n",
    "\n",
    "[Posteriormente, veremos cómo unir las pruebas con el código en un paquete.]"
   ]
  },
  {
   "cell_type": "code",
   "execution_count": 101,
   "metadata": {},
   "outputs": [
    {
     "data": {
      "text/plain": [
       "multiplicar (generic function with 1 method)"
      ]
     },
     "execution_count": 101,
     "metadata": {},
     "output_type": "execute_result"
    }
   ],
   "source": [
    "function multiplicar(x, n)\n",
    "    \n",
    "    if (!isinteger(n) && n < 0)\n",
    "        error(\"n tiene que ser entero positivo\") # la condición más particular va primero \n",
    "    \n",
    "    elseif !isinteger(n)\n",
    "        error(\"n tiene que ser entero\")\n",
    "        \n",
    "    elseif n < 0\n",
    "        error(\"n tiene que ser positivo\")\n",
    "        \n",
    "    end\n",
    "    \n",
    "    \n",
    "    producto = 0\n",
    "    \n",
    "    for i in 1:n\n",
    "        producto += x\n",
    "    end\n",
    "    \n",
    "    return producto\n",
    "    \n",
    "end"
   ]
  },
  {
   "cell_type": "code",
   "execution_count": 102,
   "metadata": {},
   "outputs": [
    {
     "ename": "LoadError",
     "evalue": "\u001b[91mn tiene que ser positivo\u001b[39m",
     "output_type": "error",
     "traceback": [
      "\u001b[91mn tiene que ser positivo\u001b[39m",
      "",
      "Stacktrace:",
      " [1] \u001b[1mmultiplicar\u001b[22m\u001b[22m\u001b[1m(\u001b[22m\u001b[22m::Int64, ::Int64\u001b[1m)\u001b[22m\u001b[22m at \u001b[1m./In[101]:10\u001b[22m\u001b[22m",
      " [2] \u001b[1minclude_string\u001b[22m\u001b[22m\u001b[1m(\u001b[22m\u001b[22m::String, ::String\u001b[1m)\u001b[22m\u001b[22m at \u001b[1m./loading.jl:515\u001b[22m\u001b[22m"
     ]
    }
   ],
   "source": [
    "multiplicar(2,-4)"
   ]
  },
  {
   "cell_type": "code",
   "execution_count": 103,
   "metadata": {},
   "outputs": [
    {
     "ename": "LoadError",
     "evalue": "\u001b[91mn tiene que ser entero\u001b[39m",
     "output_type": "error",
     "traceback": [
      "\u001b[91mn tiene que ser entero\u001b[39m",
      "",
      "Stacktrace:",
      " [1] \u001b[1mmultiplicar\u001b[22m\u001b[22m\u001b[1m(\u001b[22m\u001b[22m::Int64, ::Float64\u001b[1m)\u001b[22m\u001b[22m at \u001b[1m./In[101]:7\u001b[22m\u001b[22m",
      " [2] \u001b[1minclude_string\u001b[22m\u001b[22m\u001b[1m(\u001b[22m\u001b[22m::String, ::String\u001b[1m)\u001b[22m\u001b[22m at \u001b[1m./loading.jl:515\u001b[22m\u001b[22m"
     ]
    }
   ],
   "source": [
    "multiplicar(2,4.5)"
   ]
  },
  {
   "cell_type": "code",
   "execution_count": 104,
   "metadata": {},
   "outputs": [
    {
     "ename": "LoadError",
     "evalue": "\u001b[91mn tiene que ser entero positivo\u001b[39m",
     "output_type": "error",
     "traceback": [
      "\u001b[91mn tiene que ser entero positivo\u001b[39m",
      "",
      "Stacktrace:",
      " [1] \u001b[1mmultiplicar\u001b[22m\u001b[22m\u001b[1m(\u001b[22m\u001b[22m::Int64, ::Float64\u001b[1m)\u001b[22m\u001b[22m at \u001b[1m./In[101]:4\u001b[22m\u001b[22m",
      " [2] \u001b[1minclude_string\u001b[22m\u001b[22m\u001b[1m(\u001b[22m\u001b[22m::String, ::String\u001b[1m)\u001b[22m\u001b[22m at \u001b[1m./loading.jl:515\u001b[22m\u001b[22m"
     ]
    }
   ],
   "source": [
    "multiplicar(2,-4.5)"
   ]
  },
  {
   "cell_type": "code",
   "execution_count": 105,
   "metadata": {},
   "outputs": [
    {
     "data": {
      "text/plain": [
       "operacion_multiplicar (generic function with 1 method)"
      ]
     },
     "execution_count": 105,
     "metadata": {},
     "output_type": "execute_result"
    }
   ],
   "source": [
    "function operacion_multiplicar(x,n)\n",
    "\n",
    "    producto = 0\n",
    "    \n",
    "    for i in 1:n\n",
    "        producto += x\n",
    "    end\n",
    "    \n",
    "    return producto\n",
    "    \n",
    "end"
   ]
  },
  {
   "cell_type": "code",
   "execution_count": 106,
   "metadata": {},
   "outputs": [
    {
     "data": {
      "text/plain": [
       "multiplicar (generic function with 1 method)"
      ]
     },
     "execution_count": 106,
     "metadata": {},
     "output_type": "execute_result"
    }
   ],
   "source": [
    "function multiplicar(x,n)\n",
    "    \n",
    "    if n < 0  #si el entero ingresado es negativo\n",
    "        \n",
    "        n = abs(n) #conviértelo en positivo mediante la función valor absoluto \n",
    "        return - operacion_multiplicar(x,n) #y una vez obtenido el resultado \"agrégale a mano\" el signo menos\n",
    "        \n",
    "    end\n",
    "    \n",
    "    return operacion_multiplicar(x,n)\n",
    "    \n",
    "end"
   ]
  },
  {
   "cell_type": "code",
   "execution_count": 107,
   "metadata": {},
   "outputs": [
    {
     "data": {
      "text/plain": [
       "4"
      ]
     },
     "execution_count": 107,
     "metadata": {},
     "output_type": "execute_result"
    }
   ],
   "source": [
    "multiplicar(2,2)"
   ]
  },
  {
   "cell_type": "markdown",
   "metadata": {},
   "source": [
    "## Suma de números naturales"
   ]
  },
  {
   "cell_type": "markdown",
   "metadata": {},
   "source": [
    "[6] (i) Crea una función `suma` que calcula la suma de los primeros $N$ números naturales $1$, $2$, etc. (Es decir, `N` es argumento de la función `suma`.)\n",
    "\n",
    "(ii) Escribe tests al comparar el resultado con el resultado analítico conocido.\n",
    "\n",
    "(iii) Crea una función `suma2` que calcula, en un solo bucle, la suma de los primeros $N$ enteros, y también de sus cuadrados. Regresa *las dos* sumas. [Pista: sepáralos con una coma.] Verifica que funcione usando la fórmula para la suma de los cuadrados."
   ]
  },
  {
   "cell_type": "code",
   "execution_count": 108,
   "metadata": {},
   "outputs": [
    {
     "data": {
      "text/plain": [
       "suma (generic function with 1 method)"
      ]
     },
     "execution_count": 108,
     "metadata": {},
     "output_type": "execute_result"
    }
   ],
   "source": [
    "function suma(N)\n",
    "    \n",
    "    j = 0\n",
    "    \n",
    "    for i in 1:N\n",
    "        j += i\n",
    "    end\n",
    "    \n",
    "    return j\n",
    "    \n",
    "end"
   ]
  },
  {
   "cell_type": "code",
   "execution_count": 109,
   "metadata": {},
   "outputs": [
    {
     "data": {
      "text/plain": [
       "15"
      ]
     },
     "execution_count": 109,
     "metadata": {},
     "output_type": "execute_result"
    }
   ],
   "source": [
    "suma(5)"
   ]
  },
  {
   "cell_type": "code",
   "execution_count": 110,
   "metadata": {},
   "outputs": [
    {
     "ename": "LoadError",
     "evalue": "\u001b[91mUndefVarError: @test not defined\u001b[39m",
     "output_type": "error",
     "traceback": [
      "\u001b[91mUndefVarError: @test not defined\u001b[39m",
      "",
      "Stacktrace:",
      " [1] \u001b[1minclude_string\u001b[22m\u001b[22m\u001b[1m(\u001b[22m\u001b[22m::String, ::String\u001b[1m)\u001b[22m\u001b[22m at \u001b[1m./loading.jl:515\u001b[22m\u001b[22m"
     ]
    }
   ],
   "source": [
    "@test suma(5) == 1 + 2 + 3 + 4 + 5"
   ]
  },
  {
   "cell_type": "code",
   "execution_count": 111,
   "metadata": {},
   "outputs": [
    {
     "ename": "LoadError",
     "evalue": "\u001b[91mUndefVarError: @test not defined\u001b[39m",
     "output_type": "error",
     "traceback": [
      "\u001b[91mUndefVarError: @test not defined\u001b[39m",
      "",
      "Stacktrace:",
      " [1] \u001b[1minclude_string\u001b[22m\u001b[22m\u001b[1m(\u001b[22m\u001b[22m::String, ::String\u001b[1m)\u001b[22m\u001b[22m at \u001b[1m./loading.jl:515\u001b[22m\u001b[22m"
     ]
    }
   ],
   "source": [
    "@test suma(8) == 1 + 2 + 3 + 4 + 5 + 6 + 7 + 8"
   ]
  },
  {
   "cell_type": "markdown",
   "metadata": {},
   "source": [
    "## Números primos"
   ]
  },
  {
   "cell_type": "markdown",
   "metadata": {},
   "source": [
    "[7] Crea una función que cuenta el número de enteros hasta $N$ que sean divisibles por $2$, $3$ y/o $5$. [Pista: puedes utilizar la función `mod` o `%`.] ¿Tiene sentido el resultado? "
   ]
  },
  {
   "cell_type": "code",
   "execution_count": 112,
   "metadata": {},
   "outputs": [
    {
     "data": {
      "text/plain": [
       "divisibilidad (generic function with 1 method)"
      ]
     },
     "execution_count": 112,
     "metadata": {},
     "output_type": "execute_result"
    }
   ],
   "source": [
    "function divisibilidad(N)\n",
    "    \n",
    "    #los ci son contadores para cada uno de los casos (2, 3, 5, 2 y 3 y 5, 2 o 3 o 5) \n",
    "    \n",
    "    c2 = 0 \n",
    "    c3 = 0\n",
    "    c5 = 0\n",
    "    c235 = 0\n",
    "    c532 = 0\n",
    "    \n",
    "   for i in 1:N\n",
    "\n",
    "        if i%2 == 0 #si i es divisible entre 2 (el residuo es cero)\n",
    "        c2 += 1 #súmale un 1 al contador correspondiente\n",
    "        end\n",
    "        \n",
    "        if i%3 == 0\n",
    "        c3 += 1\n",
    "        end\n",
    "        \n",
    "        if i%5 == 0\n",
    "        c5 += 1\n",
    "        end\n",
    "        \n",
    "        if (i%5 == 0 && i%3 == 0 && i%2 == 0)\n",
    "        c235 += 1\n",
    "        end\n",
    "        \n",
    "        if (i%5 == 0 || i%3 == 0 || i%2 == 0)\n",
    "        c532 += 1\n",
    "        end\n",
    "        \n",
    "    end\n",
    "    \n",
    "    println(\"El número de veces que $N es divisible entre 2 es: \", c2) \n",
    "    println(\"El número de veces que $N es divisible entre 3 es: \", c3)\n",
    "    println(\"El número de veces que $N es divisible entre 5 es: \", c5) \n",
    "    println(\"El número de veces que $N es divisible entre 2, 3 y 5 es: \", c235)\n",
    "    println(\"El número de veces que $N es divisible entre 2 o 3 o 5 es: \", c532)\n",
    "    \n",
    "end"
   ]
  },
  {
   "cell_type": "code",
   "execution_count": 113,
   "metadata": {},
   "outputs": [
    {
     "name": "stdout",
     "output_type": "stream",
     "text": [
      "El número de veces que 100 es divisible entre 2 es: 50\n",
      "El número de veces que 100 es divisible entre 3 es: 33\n",
      "El número de veces que 100 es divisible entre 5 es: 20\n",
      "El número de veces que 100 es divisible entre 2, 3 y 5 es: 3\n",
      "El número de veces que 100 es divisible entre 2 o 3 o 5 es: 74\n"
     ]
    }
   ],
   "source": [
    "divisibilidad(100)"
   ]
  },
  {
   "cell_type": "markdown",
   "metadata": {},
   "source": [
    "Recordemos que los **números primos** son los enteros positivos mayores que $1$ que sólo son divisibles exactamente entre $1$ y sí mismo.\n",
    "\n",
    "[8] Escribe una función que verifica si un número es primo o no.\n",
    "\n",
    "[9] (i) Escribe una función que construye un arreglo de $\\pi(n)$, el número de primos menores o iguales a `n`. [Pista: recuerda que `[]` crea un arreglo vacío, y `push!` agrega un elemento a un arreglo.]\n",
    "\n",
    "(ii) Grafica la función como sigue:\n",
    "\n",
    "    Pkg.add(\"Plots\")\n",
    "    gr()\n",
    "    using Plots\n",
    "    \n",
    "    plot(x, y)\n",
    "    \n",
    "donde `n` y `p` son arreglos de los números `n` y de $\\pi(n)$.\n",
    "\n",
    "(iii) ¿Qué tan rápido crece esta función en comparación con `n`? Experimenta al dibujar distintas funciones que crecen, o al manipular los datos."
   ]
  },
  {
   "cell_type": "code",
   "execution_count": 114,
   "metadata": {},
   "outputs": [
    {
     "data": {
      "text/plain": [
       "primo (generic function with 1 method)"
      ]
     },
     "execution_count": 114,
     "metadata": {},
     "output_type": "execute_result"
    }
   ],
   "source": [
    "function primo(n)\n",
    "    \n",
    "    c = 0 #contador de \"cuántos números dividen exactamente a n\"\n",
    "    \n",
    "    for i in 1:n\n",
    "        if n%i == 0 #si n es divisible entre i\n",
    "            c += 1 #súmale un 1 al contador\n",
    "        end\n",
    "    end\n",
    "    \n",
    "    #¿n es primo?\n",
    "    \n",
    "    if c <= 2 #los números primos sólo son divisibles entre dos números, 1 y si mismos\n",
    "        true\n",
    "    else\n",
    "        false\n",
    "    end\n",
    "    \n",
    "end"
   ]
  },
  {
   "cell_type": "code",
   "execution_count": 115,
   "metadata": {},
   "outputs": [
    {
     "data": {
      "text/plain": [
       "true"
      ]
     },
     "execution_count": 115,
     "metadata": {},
     "output_type": "execute_result"
    }
   ],
   "source": [
    "primo(1)"
   ]
  },
  {
   "cell_type": "code",
   "execution_count": 116,
   "metadata": {},
   "outputs": [
    {
     "data": {
      "text/plain": [
       "false"
      ]
     },
     "execution_count": 116,
     "metadata": {},
     "output_type": "execute_result"
    }
   ],
   "source": [
    "primo(6)"
   ]
  },
  {
   "cell_type": "code",
   "execution_count": null,
   "metadata": {
    "collapsed": true
   },
   "outputs": [],
   "source": []
  },
  {
   "cell_type": "code",
   "execution_count": 117,
   "metadata": {},
   "outputs": [
    {
     "data": {
      "text/plain": [
       "primos_en (generic function with 1 method)"
      ]
     },
     "execution_count": 117,
     "metadata": {},
     "output_type": "execute_result"
    }
   ],
   "source": [
    "function primos_en(N)\n",
    "    \n",
    " A = []   \n",
    "    \n",
    "    for i in 1:N #el contador del bucle for va desde 1 hasta el valor de N\n",
    "        \n",
    "        if primo(i) == true #si es primo\n",
    "            push!(A, i) #agrégalo al arreglo\n",
    "        end\n",
    "    end\n",
    "    \n",
    "return A\n",
    "    \n",
    "end"
   ]
  },
  {
   "cell_type": "code",
   "execution_count": 118,
   "metadata": {},
   "outputs": [
    {
     "data": {
      "text/plain": [
       "5-element Array{Any,1}:\n",
       " 1\n",
       " 2\n",
       " 3\n",
       " 5\n",
       " 7"
      ]
     },
     "execution_count": 118,
     "metadata": {},
     "output_type": "execute_result"
    }
   ],
   "source": [
    "primos_en(9)"
   ]
  },
  {
   "cell_type": "code",
   "execution_count": 119,
   "metadata": {},
   "outputs": [
    {
     "data": {
      "text/plain": [
       "cuantos_primos_en (generic function with 1 method)"
      ]
     },
     "execution_count": 119,
     "metadata": {},
     "output_type": "execute_result"
    }
   ],
   "source": [
    "function cuantos_primos_en(N)\n",
    "    \n",
    "c = 0 #contador de \"cuántos primos hay menores o iguales a N\"\n",
    "    \n",
    "    for i in 1:N #nuevamente, el bucle for termina cuando i = N\n",
    "\n",
    "        if primo(i) == true #si i es primo\n",
    "            c += 1 #súmale un 1 al contador\n",
    "        end\n",
    "    end\n",
    "    \n",
    "return c\n",
    "    \n",
    "end"
   ]
  },
  {
   "cell_type": "code",
   "execution_count": 120,
   "metadata": {},
   "outputs": [
    {
     "data": {
      "text/plain": [
       "6"
      ]
     },
     "execution_count": 120,
     "metadata": {},
     "output_type": "execute_result"
    }
   ],
   "source": [
    "cuantos_primos_en(11)"
   ]
  },
  {
   "cell_type": "code",
   "execution_count": 121,
   "metadata": {},
   "outputs": [
    {
     "data": {
      "text/plain": [
       "11"
      ]
     },
     "execution_count": 121,
     "metadata": {},
     "output_type": "execute_result"
    }
   ],
   "source": [
    "cuantos_primos_en(29)"
   ]
  },
  {
   "cell_type": "code",
   "execution_count": 122,
   "metadata": {},
   "outputs": [
    {
     "data": {
      "text/plain": [
       "primitos (generic function with 1 method)"
      ]
     },
     "execution_count": 122,
     "metadata": {},
     "output_type": "execute_result"
    }
   ],
   "source": [
    "function primitos(N)\n",
    "    \n",
    "    P = []\n",
    "    \n",
    "    for i in 1:N \n",
    "        push!(P, cuantos_primos_en(i)) #para cada i averigua cuántos primos menores o iguales hay y pon ese valor en el arreglo P\n",
    "    end\n",
    "    \n",
    "    return P\n",
    "end"
   ]
  },
  {
   "cell_type": "code",
   "execution_count": 123,
   "metadata": {},
   "outputs": [
    {
     "data": {
      "text/plain": [
       "100-element Array{Any,1}:\n",
       "  1\n",
       "  2\n",
       "  3\n",
       "  3\n",
       "  4\n",
       "  4\n",
       "  5\n",
       "  5\n",
       "  5\n",
       "  5\n",
       "  6\n",
       "  6\n",
       "  7\n",
       "  ⋮\n",
       " 25\n",
       " 25\n",
       " 25\n",
       " 25\n",
       " 25\n",
       " 25\n",
       " 25\n",
       " 25\n",
       " 26\n",
       " 26\n",
       " 26\n",
       " 26"
      ]
     },
     "execution_count": 123,
     "metadata": {},
     "output_type": "execute_result"
    }
   ],
   "source": [
    "graf = primitos(100)"
   ]
  },
  {
   "cell_type": "code",
   "execution_count": 124,
   "metadata": {
    "collapsed": true
   },
   "outputs": [],
   "source": [
    "using Plots"
   ]
  },
  {
   "cell_type": "code",
   "execution_count": 125,
   "metadata": {},
   "outputs": [
    {
     "data": {
      "text/html": [
       "<script src=\"/Users/Valentina/.julia/v0.6/Plots/src/backends/../../deps/plotly-latest.min.js\"></script>    <div id=\"81aa8661-ddcb-45ae-ae5d-bb910e949c10\" style=\"width:600px;height:400px;\"></div>\n",
       "    <script>\n",
       "    PLOT = document.getElementById('81aa8661-ddcb-45ae-ae5d-bb910e949c10');\n",
       "    Plotly.plot(PLOT, [{\"showlegend\":true,\"mode\":\"lines\",\"xaxis\":\"x\",\"colorbar\":{\"title\":\"\"},\"line\":{\"color\":\"rgba(0, 154, 250, 1.000)\",\"shape\":\"linear\",\"dash\":\"solid\",\"width\":1},\"y\":[1.0,2.0,3.0,3.0,4.0,4.0,5.0,5.0,5.0,5.0,6.0,6.0,7.0,7.0,7.0,7.0,8.0,8.0,9.0,9.0,9.0,9.0,10.0,10.0,10.0,10.0,10.0,10.0,11.0,11.0,12.0,12.0,12.0,12.0,12.0,12.0,13.0,13.0,13.0,13.0,14.0,14.0,15.0,15.0,15.0,15.0,16.0,16.0,16.0,16.0,16.0,16.0,17.0,17.0,17.0,17.0,17.0,17.0,18.0,18.0,19.0,19.0,19.0,19.0,19.0,19.0,20.0,20.0,20.0,20.0,21.0,21.0,22.0,22.0,22.0,22.0,22.0,22.0,23.0,23.0,23.0,23.0,24.0,24.0,24.0,24.0,24.0,24.0,25.0,25.0,25.0,25.0,25.0,25.0,25.0,25.0,26.0,26.0,26.0,26.0],\"type\":\"scatter\",\"name\":\"y1\",\"yaxis\":\"y\",\"x\":[1,2,3,4,5,6,7,8,9,10,11,12,13,14,15,16,17,18,19,20,21,22,23,24,25,26,27,28,29,30,31,32,33,34,35,36,37,38,39,40,41,42,43,44,45,46,47,48,49,50,51,52,53,54,55,56,57,58,59,60,61,62,63,64,65,66,67,68,69,70,71,72,73,74,75,76,77,78,79,80,81,82,83,84,85,86,87,88,89,90,91,92,93,94,95,96,97,98,99,100]}], {\"showlegend\":true,\"xaxis\":{\"tickvals\":[25.0,50.0,75.0,100.0],\"ticks\":\"inside\",\"tickmode\":\"array\",\"domain\":[0.03619130941965587,0.9934383202099738],\"linecolor\":\"rgba(0, 0, 0, 1.000)\",\"showgrid\":true,\"title\":\"\",\"tickangle\":0,\"titlefont\":{\"color\":\"rgba(0, 0, 0, 1.000)\",\"family\":\"sans-serif\",\"size\":15},\"tickcolor\":\"rgba(0, 0, 0, 1.000)\",\"ticktext\":[\"25\",\"50\",\"75\",\"100\"],\"zeroline\":false,\"type\":\"-\",\"tickfont\":{\"color\":\"rgba(0, 0, 0, 1.000)\",\"family\":\"sans-serif\",\"size\":11},\"anchor\":\"y\"},\"paper_bgcolor\":\"rgba(255, 255, 255, 1.000)\",\"annotations\":[],\"height\":400,\"margin\":{\"l\":0,\"b\":20,\"r\":0,\"t\":20},\"plot_bgcolor\":\"rgba(255, 255, 255, 1.000)\",\"yaxis\":{\"tickvals\":[10.0,20.0],\"ticks\":\"inside\",\"tickmode\":\"array\",\"domain\":[0.03762029746281716,0.9901574803149606],\"linecolor\":\"rgba(0, 0, 0, 1.000)\",\"showgrid\":true,\"title\":\"\",\"tickangle\":0,\"titlefont\":{\"color\":\"rgba(0, 0, 0, 1.000)\",\"family\":\"sans-serif\",\"size\":15},\"tickcolor\":\"rgba(0, 0, 0, 1.000)\",\"ticktext\":[\"10\",\"20\"],\"zeroline\":false,\"type\":\"-\",\"tickfont\":{\"color\":\"rgba(0, 0, 0, 1.000)\",\"family\":\"sans-serif\",\"size\":11},\"anchor\":\"x\"},\"legend\":{\"bordercolor\":\"rgba(0, 0, 0, 1.000)\",\"bgcolor\":\"rgba(255, 255, 255, 1.000)\",\"font\":{\"color\":\"rgba(0, 0, 0, 1.000)\",\"family\":\"sans-serif\",\"size\":11},\"y\":1.0,\"x\":1.0},\"width\":600});\n",
       "    </script>\n"
      ]
     },
     "execution_count": 125,
     "metadata": {},
     "output_type": "execute_result"
    }
   ],
   "source": [
    "plot(primitos(100))  "
   ]
  },
  {
   "cell_type": "markdown",
   "metadata": {},
   "source": [
    "[10] Crea una función que calcula los factores primos de un número natural, o te dice si el número es primo."
   ]
  },
  {
   "cell_type": "code",
   "execution_count": 133,
   "metadata": {},
   "outputs": [
    {
     "data": {
      "text/plain": [
       "factores_primos (generic function with 1 method)"
      ]
     },
     "execution_count": 133,
     "metadata": {},
     "output_type": "execute_result"
    }
   ],
   "source": [
    "function factores_primos(N0)\n",
    "    \n",
    "    A = primos_en(N0) #de entrada, el arreglo A consiste en todos los primos menores o iguales a N0\n",
    "    N = N0/A[1] #redefinimos la variable N como N0/A[1] que es lo mismo que N = N0/1 = N0. Esto para poder modificar el valor de N en el bucle sin perder el valor de N0\n",
    "    \n",
    "    for i in 2:length(A) #el bucle for comienza en 2 en lugar de 1 porque mod(cualquier número/1) == 0 siempre y el bucle while sería infinito\n",
    "        \n",
    "        while mod(N,A[i]) == 0 #divide a N entre el primo correspondiente A[i] y verifica si la división es exacta, utilizamos un bucle while porque es posible que N/A[i] sea divisible entre el mismo A[i] varias veces \n",
    "            @show A[i] #de ser así, muéstrame el número\n",
    "            N = N/A[i] #y después redefine a N\n",
    "        end #cuando la condición del while no se cumpla, termina el bucle y pasa al siguiente primo A[i] \n",
    "    end\n",
    "    \n",
    "        if primo(N0) == true #finalmente, revisa si N0 es primo\n",
    "            println(\"$N0 es primo\") #y en caso de ser así, dímelo\n",
    "        end\n",
    "    \n",
    "end"
   ]
  },
  {
   "cell_type": "code",
   "execution_count": 134,
   "metadata": {},
   "outputs": [
    {
     "name": "stdout",
     "output_type": "stream",
     "text": [
      "A[i] = 2\n",
      "A[i] = 2\n",
      "A[i] = 2\n",
      "1.0 es primo\n"
     ]
    }
   ],
   "source": [
    "factores_primos(8)"
   ]
  },
  {
   "cell_type": "code",
   "execution_count": 130,
   "metadata": {},
   "outputs": [
    {
     "name": "stdout",
     "output_type": "stream",
     "text": [
      "A[i] = 13\n",
      "13 es primo\n"
     ]
    }
   ],
   "source": [
    "factores_primos(13)"
   ]
  }
 ],
 "metadata": {
  "kernelspec": {
   "display_name": "Julia 0.6.0",
   "language": "julia",
   "name": "julia-0.6"
  },
  "language_info": {
   "file_extension": ".jl",
   "mimetype": "application/julia",
   "name": "julia",
   "version": "0.6.0"
  },
  "toc": {
   "colors": {
    "hover_highlight": "#DAA520",
    "running_highlight": "#FF0000",
    "selected_highlight": "#FFD700"
   },
   "moveMenuLeft": true,
   "nav_menu": {
    "height": "30px",
    "width": "252px"
   },
   "navigate_menu": true,
   "number_sections": true,
   "sideBar": true,
   "threshold": "1",
   "toc_cell": false,
   "toc_section_display": "block",
   "toc_window_display": false
  }
 },
 "nbformat": 4,
 "nbformat_minor": 1
}
