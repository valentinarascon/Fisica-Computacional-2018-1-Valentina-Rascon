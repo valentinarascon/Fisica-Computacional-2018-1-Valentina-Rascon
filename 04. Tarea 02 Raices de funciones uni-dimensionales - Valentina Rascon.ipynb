{
 "cells": [
  {
   "cell_type": "markdown",
   "metadata": {},
   "source": [
    "# Raíces de funciones uni-dimensionales"
   ]
  },
  {
   "cell_type": "markdown",
   "metadata": {},
   "source": [
    "En este notebook, investigaremos algunos métodos para encontrar **raíces** de funciones uni-dimensionales, usando métodos iterativos. Esto es un problema que ocurre por todos lados en la física, por ejemplo para el pozo cuadrado en mecánica cuántica, o para encontrar el valor máximo de una función.\n",
    "\n",
    "Recuerda que $x^*$ es una **raíz** (también llamado \"cero\") de la función $f$ si $f(x^*) = 0$. Como sabemos, en general las raíces de una función no se pueden encontrar de manera analítica, excepto para funciones $f$ que sean polinomios de grado $\\le 4$.\n",
    "\n",
    "Por lo tanto, para encontrar raíces tendremos que utilizar algoritmos iterativos.\n",
    "Recuerda que un algoritmo iterativo tiene la forma general\n",
    "\n",
    "$$x_{n+1} := f(x_n),$$\n",
    "\n",
    "y consiste en comenzar en un punto inicial $x_0$ y generar una secuencia $x_1 = f(x_0)$; $x_2 = f(x_1)$, etc.\n",
    "Si diseñamos correctamente el algoritmo, la esperanza es que la secuencia $(x_n)_{n=1}^\\infty$ converja a alguna raíz  $x^*$ con $f(x_\\infty) = 0$, es decir que $f(x_n) \\to 0$ cuando $n \\to \\infty$."
   ]
  },
  {
   "cell_type": "markdown",
   "metadata": {},
   "source": [
    "Dado que no podemos llevar a cabo la iteración un número infinito de veces, se corta la iteración después de un cierto número de pasos, para dar una solución *aproximada*, que se encuentra dentro de cierta *tolerancia* del resultado teórico exacto $x^*$. Por lo tanto, cualquier algoritmo iterativo requiere una condición de terminación."
   ]
  },
  {
   "cell_type": "markdown",
   "metadata": {},
   "source": [
    "# Tasa de convergencia de un algoritmo iterativo"
   ]
  },
  {
   "cell_type": "markdown",
   "metadata": {},
   "source": [
    "Un tema crucial en torno a los métodos iterativos es saber no sólo si converge, sino también a *qué velocidad* converge, o con qué tasa converge - es decir, \"qué tan rápido\" va convergiendo a la solución."
   ]
  },
  {
   "cell_type": "markdown",
   "metadata": {},
   "source": [
    "**[1]** Considera la iteración $x_{n+1} = f(x_n)$. Supón que para algún valor de $n$, ya se acercó a un punto fijo $x_{\\infty}$. Define la distancia $\\delta_n := x_n - x_\\infty$, que suponemos es chica.\n",
    "\n",
    "(i) Sustituye esto en la fórmula de la iteración para encontrar una expresión aproximada que relaciona $\\delta_{n+1}$ con la distancia al paso anterior, $\\delta_n$, es decir, cómo se va variando el error. [Pista: ¿De cuál teorema famoso necesitas echar mano?]\n",
    "\n",
    "(ii) Por lo tanto, encuentra una expresión aproximada explícita para $\\delta_n$ en términos de $n$.\n",
    "\n",
    "(iii) Verifica numéricamente el comportamiento de los $\\delta_n$ con una iteración específica, por ejemplo con $f=\\cos$.\n",
    "\n",
    "(iv) ¿Cómo puedes graficar *de forma útil* el comportamiento de $\\delta_n$ en función de $n$? Hazlo.\n",
    "\n",
    "(v) Estima cuántas iteraciones se necesitan para llegar a que el error sea del orden de $2^{-p}$\n",
    "\n",
    "(vi) Verifica esto numéricamente para $f=\\cos$ usando `BigFloat`s con precisión $p=1000$ bits y verificando cuánto tiempo se requiere para que llegue a un punto fijo. [Recuerda que la precisión de los `BigFloat` se cambia a $p$ bits con `setprecision(p)`.]"
   ]
  },
  {
   "cell_type": "code",
   "execution_count": 1,
   "metadata": {},
   "outputs": [
    {
     "data": {
      "text/plain": [
       "x_infinito (generic function with 1 method)"
      ]
     },
     "execution_count": 1,
     "metadata": {},
     "output_type": "execute_result"
    }
   ],
   "source": [
    "function x_infinito(f, x0)\n",
    "    \n",
    "    x_actual = x0\n",
    "    x_inf = 0\n",
    "    A = []\n",
    "    \n",
    "    for i in 1:100\n",
    "        \n",
    "        x_nuevo = f(x_actual)\n",
    "        \n",
    "        if abs(x_actual - x_nuevo) < 0.000001\n",
    "            x_inf = x_nuevo\n",
    "            break\n",
    "        end\n",
    "        \n",
    "        x_actual = x_nuevo\n",
    "        push!(A,x_nuevo)\n",
    "        \n",
    "    end\n",
    "    return x_inf, A\n",
    "end"
   ]
  },
  {
   "cell_type": "code",
   "execution_count": 12,
   "metadata": {},
   "outputs": [
    {
     "data": {
      "text/plain": [
       "convergencia (generic function with 1 method)"
      ]
     },
     "execution_count": 12,
     "metadata": {},
     "output_type": "execute_result"
    }
   ],
   "source": [
    "function convergencia(f, x0, d) \n",
    "    contador = 0\n",
    "    while abs(x0 - f(x0)) > d\n",
    "        x0 = f(x0)\n",
    "        contador += 1\n",
    "    end\n",
    "    println(\"Número de iteraciones: $contador\")\n",
    "    return x0\n",
    "end"
   ]
  },
  {
   "cell_type": "code",
   "execution_count": 20,
   "metadata": {},
   "outputs": [
    {
     "name": "stdout",
     "output_type": "stream",
     "text": [
      "Número de iteraciones: 90\n"
     ]
    },
    {
     "data": {
      "text/plain": [
       "0.7390851332151607"
      ]
     },
     "execution_count": 20,
     "metadata": {},
     "output_type": "execute_result"
    }
   ],
   "source": [
    "convergencia(cos, 1, 0.0000000000000001)"
   ]
  },
  {
   "cell_type": "code",
   "execution_count": 4,
   "metadata": {},
   "outputs": [
    {
     "data": {
      "text/plain": [
       "diferencia (generic function with 1 method)"
      ]
     },
     "execution_count": 4,
     "metadata": {},
     "output_type": "execute_result"
    }
   ],
   "source": [
    "function diferencia(f, x0)\n",
    "    \n",
    "    (x_inf,A) = x_infinito(f, x0)\n",
    "    x_actual = x0\n",
    "    B = []\n",
    "    \n",
    "    for i in 1:length(A)\n",
    "        x_nuevo = f(x_actual)\n",
    "            push!(B,x_nuevo)\n",
    "        x_actual = x_nuevo\n",
    "        \n",
    "    end\n",
    "    return abs.(B - x_inf)\n",
    "end"
   ]
  },
  {
   "cell_type": "code",
   "execution_count": 5,
   "metadata": {},
   "outputs": [
    {
     "data": {
      "text/plain": [
       "33-element Array{Float64,1}:\n",
       " 0.198783  \n",
       " 0.118468  \n",
       " 0.0847957 \n",
       " 0.0543948 \n",
       " 0.0377168 \n",
       " 0.0248742 \n",
       " 0.0169831 \n",
       " 0.0113322 \n",
       " 0.00768148\n",
       " 0.00515183\n",
       " 0.00348079\n",
       " 0.00233956\n",
       " 0.00157864\n",
       " ⋮         \n",
       " 4.46502e-5\n",
       " 3.07356e-5\n",
       " 2.00456e-5\n",
       " 1.41611e-5\n",
       " 8.88102e-6\n",
       " 6.64037e-6\n",
       " 3.81504e-6\n",
       " 3.22784e-6\n",
       " 1.51633e-6\n",
       " 1.6794e-6 \n",
       " 4.73286e-7\n",
       " 9.76787e-7"
      ]
     },
     "execution_count": 5,
     "metadata": {},
     "output_type": "execute_result"
    }
   ],
   "source": [
    "diferencia(cos, 1)"
   ]
  },
  {
   "cell_type": "markdown",
   "metadata": {},
   "source": [
    "# Raíz cuadrada: El algoritmo Babilónico"
   ]
  },
  {
   "cell_type": "markdown",
   "metadata": {},
   "source": [
    "Un ejemplo de un algoritmo iterativo sorprendentemente eficaz y bonito es el *algoritmo Babilónico* (o de Herón) para calcular la raiz cuadrada $\\sqrt{y}$ de un número real $y$ [cosa que probablemente nunca antes sabías hacer (más que tecleando una cierta tecla en una calculadora, ¡lo cual *no* cuenta!)]."
   ]
  },
  {
   "cell_type": "markdown",
   "metadata": {},
   "source": [
    "**[2]** ¿De cuál ecuación es raíz el número $\\sqrt{y}$? ¿Cuál otra solución de esta ecuación hay?"
   ]
  },
  {
   "cell_type": "markdown",
   "metadata": {},
   "source": [
    "- $\\sqrt{y}$ es solución de la ecuación $ay^2 + by + c = 0$ y la otra solución a la misma ecuación es $-\\sqrt{y}$"
   ]
  },
  {
   "cell_type": "markdown",
   "metadata": {},
   "source": [
    "Para un algoritmo, siempre necesitamos una *idea*, que toma una adivinanza $x_n$ y produce una (probablemente) mejor, $x_{n+1}$. La idea del algoritmo Babilónico es la siguiente."
   ]
  },
  {
   "cell_type": "markdown",
   "metadata": {},
   "source": [
    "**[3]** (i) Dada una adivinanza $x_n$, es posible (pero improbable) que $x_n$ ya sea igual a $\\sqrt{y}$. ¿Cómo lo puedes verificar, sin utilizar (por supuesto) alguna función en Julia que calcule la raíz cuadrada? Escribe el código correspondiente.\n",
    "\n",
    "(ii) Si $x_n$ no es raíz, demuestra (a mano) que $\\frac{y}{x_n}$ se encuentra *del lado opuesto de $\\sqrt{y}$ que $x_n$* sobre la recta real.\n",
    "\n",
    "(iii) Así, tenemos dos valores que se encuentran por dos lados diferentes de $\\sqrt{y}$. ¿Cuál sería una mejor adivinanza para $x_{n+1}$? "
   ]
  },
  {
   "cell_type": "markdown",
   "metadata": {},
   "source": [
    "- Intentaremos \"adivinar\" cuál es la solución de $\\sqrt{49}$"
   ]
  },
  {
   "cell_type": "code",
   "execution_count": 6,
   "metadata": {},
   "outputs": [
    {
     "name": "stdout",
     "output_type": "stream",
     "text": [
      "7 es solución\n"
     ]
    }
   ],
   "source": [
    "y = 7\n",
    "if y*y == 49\n",
    "    println(\"$y es solución\")\n",
    "else \n",
    "    println(\"$y no es solución\")\n",
    "end"
   ]
  },
  {
   "cell_type": "code",
   "execution_count": 7,
   "metadata": {},
   "outputs": [
    {
     "name": "stdout",
     "output_type": "stream",
     "text": [
      "5 no es solución\n"
     ]
    }
   ],
   "source": [
    "y = 5\n",
    "if y*y == 49\n",
    "    println(\"$y es solución\")\n",
    "else \n",
    "    println(\"$y no es solución\")\n",
    "end"
   ]
  },
  {
   "cell_type": "code",
   "execution_count": null,
   "metadata": {
    "collapsed": true
   },
   "outputs": [],
   "source": []
  },
  {
   "cell_type": "markdown",
   "metadata": {},
   "source": [
    "**[4]** (i) Utiliza esta idea para escribir una función que calcule $\\sqrt{y}$ para una $y$ dada. ¿Cuál condición de terminación de la iteración te parece razonable? Impleméntalo.\n",
    "\n",
    "(ii) Dibuja el comportamiento de $\\delta_n$ en función de $n$. ¿Qué observas? ¿Qué implica esto sobre la eficiencia del algoritmo comparado con una iteración de punto fijo?"
   ]
  },
  {
   "cell_type": "markdown",
   "metadata": {},
   "source": [
    "# Raíces de funciones: Bisección"
   ]
  },
  {
   "cell_type": "markdown",
   "metadata": {},
   "source": [
    "Un primer método para encontrar una raíz de una función general $f$ es el **método de bisección**.\n",
    "Dada una función continua $f$, una condición suficiente (pero no necesaria) para que *exista* una raiz en un intervalo dado $[a, b]$ es que $F$ cambie de signo en el intervalo, es decir, que $f(a)$ y $f(b)$ tengan signos opuestos. Si ocurre esto, entonces el teorema del valor intermedio nos dice que se sigue que $f$ sí tiene al menos una raíz en $[a, b]$."
   ]
  },
  {
   "cell_type": "markdown",
   "metadata": {},
   "source": [
    "**[5]** La idea del método de bisección es el siguiente. Lo implementaremos en una función `biseccion` que tome como argumento la función $f$ y el intervalo $[a, b]$.\n",
    "\n",
    "(i) Verifica que $f(a)$ y $f(b)$ tengan signos opuestos. Si no, arroja un error.\n",
    "\n",
    "(ii) Define $c$ como algún punto del intervalo. [Pista: ¿cuál sería uno sencillo?]\n",
    "\n",
    "(iii) Esto divide el intervalo original en dos partes. Es posible (aunque improbable) que $c$ ya sea la raíz, en cuyo caso ya se termina la función y se regresa la raíz que hemos encontrado. ¿Cómo se checa si ya es la raíz? \n",
    "\n",
    "Si no, ¿cómo podemos saber en cuál de los dos sub-intervalos cae la raíz? Impleméntalo. \n",
    "\n",
    "[Pista: Probablmente querrás definir una función `signo` que toma un argumento `x` y regresa $0$ si `x` es igual a `0`, regresa `1` si `x` es mayor que cero, y regresa `-1` si `x` es menor que cero.]\n",
    "\n",
    "(iv) Repite estos pasos hasta que encuentres la raíz con cierta tolerancia."
   ]
  },
  {
   "cell_type": "markdown",
   "metadata": {},
   "source": [
    "**[6]** Aplica tu función para encontrar *las dos* raíces cuadradas de $2$. Para hacerlo, tendrás que escoger (a mano) intervalos iniciales que cumplan con la condición de cambio de signo. \n",
    "\n",
    "**[7]** Haz una versión nueva de tu función que regresa un arreglo de todos los iterados `x`. Utiliza un método gráfico para estimar la tasa de convergencia del método hacia la raíz. "
   ]
  }
 ],
 "metadata": {
  "kernelspec": {
   "display_name": "Julia 0.6.0",
   "language": "julia",
   "name": "julia-0.6"
  },
  "language_info": {
   "file_extension": ".jl",
   "mimetype": "application/julia",
   "name": "julia",
   "version": "0.6.0"
  }
 },
 "nbformat": 4,
 "nbformat_minor": 1
}
