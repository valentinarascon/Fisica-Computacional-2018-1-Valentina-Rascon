{
 "cells": [
  {
   "cell_type": "markdown",
   "metadata": {},
   "source": [
    "# ¿Qué es un algoritmo?"
   ]
  },
  {
   "cell_type": "markdown",
   "metadata": {},
   "source": [
    "En este notebook, empezaremos nuestro estudio de algoritmos computacionales."
   ]
  },
  {
   "cell_type": "markdown",
   "metadata": {},
   "source": [
    "Un **algoritmo** es una \"receta\" computacional, que consiste en una serie de instrucciones para que la computadora lleve a cabo un cálculo dado. Gran parte del curso consistirá en desarrollar algoritmos para calcular, de forma numérica, distintas cantidades en la física, a partir de algún modelo matemático. El campo que se ocupa de diseñar y estudiar estos algoritmos es el **análisis numérico**. Su aplicación a problemas de física se puede decir que constituye la **física computacional**.\n",
    "\n",
    "Algunos algoritmos (por ejemplo, la eliminación gaussiana que veremos más adelante) proveen una manera de llevar a cabo un cálculo de manera \"exacta\" (dentro de las restricciones impuestas por el uso de números con precisión finita) en un número finito de pasos.\n",
    "\n",
    "Sin embargo, en general, no podemos esperar que haya una fórmula analítica cerrada para calcular las cantidades de interés de manera exacta. En este caso, será necesario emplear un algoritmo **iterativo**, que en principio podría correr ¡por un tiempo infinito! Lo pararemos cuando pensemos que el problema ya se resolvió de forma \"suficientemente buena\"."
   ]
  },
  {
   "cell_type": "markdown",
   "metadata": {},
   "source": [
    "## Algoritmos iterativos"
   ]
  },
  {
   "cell_type": "markdown",
   "metadata": {},
   "source": [
    "Un **algoritmo iterativo** repite un mismo cálculo un gran número de veces, modificando un valor (o varios valores) en el proceso, hasta que (en el mejor de los casos) converja a una solución.\n",
    "\n",
    "Un algorithmo iterativo empieza desde una adivinanza inicial $x_0$, y aplica un procedimiento / receta matemática, o sea alguna función $f$ (que puede ser complicada), para producir una siguiente adivinanza $x_1 := f(x_0)$. Esto se repite para producir una secuencia $x_0, x_1, \\ldots, x_n, \\ldots$, tales que\n",
    "\n",
    "$$x_1 = f(x_0)$$\n",
    "$$x_2 = f(x_1)$$\n",
    "$$x_3 = f(x_2)$$\n",
    "\n",
    "etc. En general, escribimos una iteración como \n",
    "\n",
    "$$x_{n+1} := f(x_n).$$\n",
    "\n",
    "La esperanza es que la secuencia $x_n$ converja hacia un valor límite $x^*$ cuando $n \\to \\infty$, y que el $x^*$ resultante sea solución del problema original.\n",
    "\n",
    "Dado que no podemos llevar a cabo la iteración un número infinito de veces, se corta la iteración después de un cierto número de pasos, para dar una solución *aproximada*, que se acerca dentro de cierta *tolerancia* al resultado teórico exacto $x^*$. Por lo tanto, cualquier algoritmo iterativo requiere una condición de terminación.\n",
    "\n",
    "En la computadora, no pensamos en escribir $x_n$, sino pensamos en el **valor actual** de $x$, y el **valor siguiente** de $x$. Dentro del bucle, usamos el valor actual de $x$ para calcular el valor nuevo. Al final del bucle, debemos actualizar el \"valor actual\"."
   ]
  },
  {
   "cell_type": "markdown",
   "metadata": {},
   "source": [
    "# Iteraciones de punto fijo"
   ]
  },
  {
   "cell_type": "markdown",
   "metadata": {},
   "source": [
    "**[1]** (i) Define la función $f_1(x) = \\frac{x}{2} - 1$.\n",
    "\n",
    "(ii) Toma una condición inicial $x_0$ y lleva a cabo la iteración a mano. ¿Qué observas?\n",
    "\n",
    "(iii) Utiliza un bucle `for` para ver cómo son los primeros $N$ iterados $x_n$. Haz una función que tome como argumento $x_0$ y $N$.\n",
    "\n",
    "(iv) Repite la iteración para varios valores de $x_0$. ¿Qué observas?"
   ]
  },
  {
   "cell_type": "markdown",
   "metadata": {},
   "source": [
    "- Definición de la función f1(x)"
   ]
  },
  {
   "cell_type": "code",
   "execution_count": 4,
   "metadata": {},
   "outputs": [
    {
     "data": {
      "text/plain": [
       "f1 (generic function with 1 method)"
      ]
     },
     "execution_count": 4,
     "metadata": {},
     "output_type": "execute_result"
    }
   ],
   "source": [
    "#la forma larga de escribir la función f1(x)\n",
    "function f1(x)\n",
    "    x_nuevo = (x/2) - 1\n",
    "    \n",
    "    return x_nuevo\n",
    "end"
   ]
  },
  {
   "cell_type": "code",
   "execution_count": 5,
   "metadata": {},
   "outputs": [
    {
     "data": {
      "text/plain": [
       "f1 (generic function with 1 method)"
      ]
     },
     "execution_count": 5,
     "metadata": {},
     "output_type": "execute_result"
    }
   ],
   "source": [
    "#la forma corta de escribir la función f1(x)\n",
    "f1(x) = x/2 - 1"
   ]
  },
  {
   "cell_type": "markdown",
   "metadata": {},
   "source": [
    "- Iteración hecha a mano"
   ]
  },
  {
   "cell_type": "code",
   "execution_count": 6,
   "metadata": {},
   "outputs": [
    {
     "name": "stdout",
     "output_type": "stream",
     "text": [
      "x0 = 1\n",
      "x1 = -0.5\n",
      "x2 = -1.25\n",
      "x3 = -1.625\n",
      "x4 = -1.8125\n",
      "x5 = -1.90625\n",
      "x6 = -1.953125\n",
      "x7 = -1.9765625\n",
      "x8 = -1.98828125\n"
     ]
    },
    {
     "data": {
      "text/plain": [
       "-1.98828125"
      ]
     },
     "execution_count": 6,
     "metadata": {},
     "output_type": "execute_result"
    }
   ],
   "source": [
    "x0 = 1\n",
    "@show x0\n",
    "x1 = f1(x0)\n",
    "@show x1\n",
    "x2 = f1(x1)\n",
    "@show x2\n",
    "x3 = f1(x2)\n",
    "@show x3\n",
    "x4 = f1(x3)\n",
    "@show x4\n",
    "x5 = f1(x4)\n",
    "@show x5\n",
    "x6 = f1(x5)\n",
    "@show x6\n",
    "x7 = f1(x6)\n",
    "@show x7\n",
    "x8 = f1(x7)\n",
    "@show x8"
   ]
  },
  {
   "cell_type": "markdown",
   "metadata": {},
   "source": [
    "- Observamos dos cosas: La primera, que en cada iteración obtenemos más valores decimalos. La segunda, que conforme n crece, la \"distancia\" entre xn y x(n+1) decrece"
   ]
  },
  {
   "cell_type": "code",
   "execution_count": 7,
   "metadata": {},
   "outputs": [
    {
     "data": {
      "text/plain": [
       "funcion_iterada (generic function with 1 method)"
      ]
     },
     "execution_count": 7,
     "metadata": {},
     "output_type": "execute_result"
    }
   ],
   "source": [
    "function funcion_iterada(x0,N)\n",
    "    \n",
    "    x_actual = x0\n",
    "    \n",
    "    for i in 1:N\n",
    "        \n",
    "        x_nuevo = f1(x_actual)\n",
    "        \n",
    "        @show x_actual, x_nuevo #primero muéstrame a x_actual junto con su x_nuevo correspondiente\n",
    "        \n",
    "        x_actual = x_nuevo #y después redefine a x_actual para volver al principio del bucle\n",
    "        \n",
    "    end\n",
    "    \n",
    "end"
   ]
  },
  {
   "cell_type": "code",
   "execution_count": 8,
   "metadata": {},
   "outputs": [
    {
     "name": "stdout",
     "output_type": "stream",
     "text": [
      "(x_actual, x_nuevo) = (2.4, 0.19999999999999996)\n",
      "(x_actual, x_nuevo) = (0.19999999999999996, -0.9)\n",
      "(x_actual, x_nuevo) = (-0.9, -1.45)\n",
      "(x_actual, x_nuevo) = (-1.45, -1.725)\n",
      "(x_actual, x_nuevo) = (-1.725, -1.8625)\n",
      "(x_actual, x_nuevo) = (-1.8625, -1.93125)\n",
      "(x_actual, x_nuevo) = (-1.93125, -1.965625)\n",
      "(x_actual, x_nuevo) = (-1.965625, -1.9828125)\n",
      "(x_actual, x_nuevo) = (-1.9828125, -1.99140625)\n",
      "(x_actual, x_nuevo) = (-1.99140625, -1.995703125)\n"
     ]
    }
   ],
   "source": [
    "funcion_iterada(2.4,10)"
   ]
  },
  {
   "cell_type": "code",
   "execution_count": 9,
   "metadata": {},
   "outputs": [
    {
     "data": {
      "text/plain": [
       "funcion_iterada (generic function with 1 method)"
      ]
     },
     "execution_count": 9,
     "metadata": {},
     "output_type": "execute_result"
    }
   ],
   "source": [
    "#estructura básica de cualquier iteración\n",
    "\n",
    "function funcion_iterada(x0,N)\n",
    "    \n",
    "    x = x0 #valor inicial\n",
    "    \n",
    "    for i in 1:N\n",
    "        x = f1(x) #una variable que se irá actualizando en el bucle\n",
    "        @show (i,x)\n",
    "        \n",
    "    end\n",
    "    \n",
    "end"
   ]
  },
  {
   "cell_type": "code",
   "execution_count": 10,
   "metadata": {},
   "outputs": [
    {
     "name": "stdout",
     "output_type": "stream",
     "text": [
      "(i, x) = (1, 3.0)\n",
      "(i, x) = (2, 0.5)\n",
      "(i, x) = (3, -0.75)\n",
      "(i, x) = (4, -1.375)\n",
      "(i, x) = (5, -1.6875)\n",
      "(i, x) = (6, -1.84375)\n",
      "(i, x) = (7, -1.921875)\n",
      "(i, x) = (8, -1.9609375)\n",
      "(i, x) = (9, -1.98046875)\n",
      "(i, x) = (10, -1.990234375)\n",
      "(i, x) = (11, -1.9951171875)\n",
      "(i, x) = (12, -1.99755859375)\n",
      "(i, x) = (13, -1.998779296875)\n",
      "(i, x) = (14, -1.9993896484375)\n",
      "(i, x) = (15, -1.99969482421875)\n",
      "(i, x) = (16, -1.999847412109375)\n",
      "(i, x) = (17, -1.9999237060546875)\n",
      "(i, x) = (18, -1.9999618530273438)\n",
      "(i, x) = (19, -1.9999809265136719)\n",
      "(i, x) = (20, -1.999990463256836)\n",
      "(i, x) = (21, -1.999995231628418)\n",
      "(i, x) = (22, -1.999997615814209)\n",
      "(i, x) = (23, -1.9999988079071045)\n",
      "(i, x) = (24, -1.9999994039535522)\n",
      "(i, x) = (25, -1.9999997019767761)\n",
      "(i, x) = (26, -1.999999850988388)\n",
      "(i, x) = (27, -1.999999925494194)\n",
      "(i, x) = (28, -1.999999962747097)\n",
      "(i, x) = (29, -1.9999999813735485)\n",
      "(i, x) = (30, -1.9999999906867743)\n",
      "(i, x) = (31, -1.9999999953433871)\n",
      "(i, x) = (32, -1.9999999976716936)\n",
      "(i, x) = (33, -1.9999999988358468)\n",
      "(i, x) = (34, -1.9999999994179234)\n",
      "(i, x) = (35, -1.9999999997089617)\n",
      "(i, x) = (36, -1.9999999998544808)\n",
      "(i, x) = (37, -1.9999999999272404)\n",
      "(i, x) = (38, -1.9999999999636202)\n",
      "(i, x) = (39, -1.99999999998181)\n",
      "(i, x) = (40, -1.999999999990905)\n",
      "(i, x) = (41, -1.9999999999954525)\n",
      "(i, x) = (42, -1.9999999999977263)\n",
      "(i, x) = (43, -1.9999999999988631)\n",
      "(i, x) = (44, -1.9999999999994316)\n",
      "(i, x) = (45, -1.9999999999997158)\n",
      "(i, x) = (46, -1.999999999999858)\n",
      "(i, x) = (47, -1.999999999999929)\n",
      "(i, x) = (48, -1.9999999999999645)\n",
      "(i, x) = (49, -1.9999999999999822)\n",
      "(i, x) = (50, -1.9999999999999911)\n",
      "(i, x) = (51, -1.9999999999999956)\n",
      "(i, x) = (52, -1.9999999999999978)\n",
      "(i, x) = (53, -1.999999999999999)\n",
      "(i, x) = (54, -1.9999999999999996)\n",
      "(i, x) = (55, -1.9999999999999998)\n",
      "(i, x) = (56, -2.0)\n",
      "(i, x) = (57, -2.0)\n",
      "(i, x) = (58, -2.0)\n",
      "(i, x) = (59, -2.0)\n",
      "(i, x) = (60, -2.0)\n"
     ]
    }
   ],
   "source": [
    "funcion_iterada(8,60)"
   ]
  },
  {
   "cell_type": "code",
   "execution_count": 11,
   "metadata": {},
   "outputs": [
    {
     "name": "stdout",
     "output_type": "stream",
     "text": [
      "(i, x) = (1, -3.5)\n",
      "(i, x) = (2, -2.75)\n",
      "(i, x) = (3, -2.375)\n",
      "(i, x) = (4, -2.1875)\n",
      "(i, x) = (5, -2.09375)\n",
      "(i, x) = (6, -2.046875)\n",
      "(i, x) = (7, -2.0234375)\n",
      "(i, x) = (8, -2.01171875)\n",
      "(i, x) = (9, -2.005859375)\n",
      "(i, x) = (10, -2.0029296875)\n",
      "(i, x) = (11, -2.00146484375)\n",
      "(i, x) = (12, -2.000732421875)\n",
      "(i, x) = (13, -2.0003662109375)\n",
      "(i, x) = (14, -2.00018310546875)\n",
      "(i, x) = (15, -2.000091552734375)\n",
      "(i, x) = (16, -2.0000457763671875)\n",
      "(i, x) = (17, -2.0000228881835938)\n",
      "(i, x) = (18, -2.000011444091797)\n",
      "(i, x) = (19, -2.0000057220458984)\n",
      "(i, x) = (20, -2.000002861022949)\n",
      "(i, x) = (21, -2.0000014305114746)\n",
      "(i, x) = (22, -2.0000007152557373)\n",
      "(i, x) = (23, -2.0000003576278687)\n",
      "(i, x) = (24, -2.0000001788139343)\n",
      "(i, x) = (25, -2.000000089406967)\n",
      "(i, x) = (26, -2.0000000447034836)\n",
      "(i, x) = (27, -2.000000022351742)\n",
      "(i, x) = (28, -2.000000011175871)\n",
      "(i, x) = (29, -2.0000000055879354)\n",
      "(i, x) = (30, -2.0000000027939677)\n",
      "(i, x) = (31, -2.000000001396984)\n",
      "(i, x) = (32, -2.000000000698492)\n",
      "(i, x) = (33, -2.000000000349246)\n",
      "(i, x) = (34, -2.000000000174623)\n",
      "(i, x) = (35, -2.0000000000873115)\n",
      "(i, x) = (36, -2.0000000000436557)\n",
      "(i, x) = (37, -2.000000000021828)\n",
      "(i, x) = (38, -2.000000000010914)\n",
      "(i, x) = (39, -2.000000000005457)\n",
      "(i, x) = (40, -2.0000000000027285)\n",
      "(i, x) = (41, -2.0000000000013642)\n",
      "(i, x) = (42, -2.000000000000682)\n",
      "(i, x) = (43, -2.000000000000341)\n",
      "(i, x) = (44, -2.0000000000001705)\n",
      "(i, x) = (45, -2.0000000000000853)\n",
      "(i, x) = (46, -2.0000000000000426)\n",
      "(i, x) = (47, -2.0000000000000213)\n",
      "(i, x) = (48, -2.0000000000000107)\n",
      "(i, x) = (49, -2.0000000000000053)\n",
      "(i, x) = (50, -2.0000000000000027)\n",
      "(i, x) = (51, -2.0000000000000013)\n",
      "(i, x) = (52, -2.000000000000001)\n",
      "(i, x) = (53, -2.0000000000000004)\n",
      "(i, x) = (54, -2.0)\n",
      "(i, x) = (55, -2.0)\n",
      "(i, x) = (56, -2.0)\n",
      "(i, x) = (57, -2.0)\n",
      "(i, x) = (58, -2.0)\n",
      "(i, x) = (59, -2.0)\n",
      "(i, x) = (60, -2.0)\n"
     ]
    }
   ],
   "source": [
    "funcion_iterada(-5,60)"
   ]
  },
  {
   "cell_type": "markdown",
   "metadata": {},
   "source": [
    "- Podemos observar que a partir de la iteración número 56, cualquier número converge a -2.0"
   ]
  },
  {
   "cell_type": "markdown",
   "metadata": {},
   "source": [
    "**[2]** (i) Define una función `orbita` que lleva a cabo lo que hiciste en la pregunta 1. Debe aceptar como su primer argumento (el nombre de) *la función `f` que iterar*, así como el número de veces que se iterará, y la condición inicial.\n",
    "\n",
    "(ii) Utilízalo para iterar la función $f_2(x) = \\cos(x)$.\n",
    "\n",
    "(iii) ¿Adónde converge la iteración? ¿Cuál ecuación hemos resuelto?\n"
   ]
  },
  {
   "cell_type": "code",
   "execution_count": 12,
   "metadata": {},
   "outputs": [
    {
     "data": {
      "text/plain": [
       "orbita (generic function with 1 method)"
      ]
     },
     "execution_count": 12,
     "metadata": {},
     "output_type": "execute_result"
    }
   ],
   "source": [
    "function orbita(f, x0, N)\n",
    "    \n",
    "    x = x0\n",
    "    \n",
    "    for i in 1:N\n",
    "        x = f(x)\n",
    "    end\n",
    "    \n",
    "    return x\n",
    "    \n",
    "end"
   ]
  },
  {
   "cell_type": "code",
   "execution_count": 13,
   "metadata": {},
   "outputs": [
    {
     "data": {
      "text/plain": [
       "f2 (generic function with 1 method)"
      ]
     },
     "execution_count": 13,
     "metadata": {},
     "output_type": "execute_result"
    }
   ],
   "source": [
    "f2(x) = cos(x)"
   ]
  },
  {
   "cell_type": "code",
   "execution_count": 14,
   "metadata": {},
   "outputs": [
    {
     "data": {
      "text/plain": [
       "0.7390851332151607"
      ]
     },
     "execution_count": 14,
     "metadata": {},
     "output_type": "execute_result"
    }
   ],
   "source": [
    "orbita(f2,1,100)"
   ]
  },
  {
   "cell_type": "markdown",
   "metadata": {},
   "source": [
    "- La iteración converge a 0.7390851332151607"
   ]
  },
  {
   "cell_type": "markdown",
   "metadata": {},
   "source": [
    "**[3]** Ahora queremos graficar. \n",
    "\n",
    "(i) Modifica la función `iterar` para que vaya guardando los valores de $x_n$ en un arreglo, el cual regresa.\n",
    "\n",
    "(ii) Utiliza el paquete `Plots` para graficar el resultado. ¡Ten cuidado con el tipo de gráfica que dibujas: deben ser puntos! Para eso puedes utilizar la función `scatter`.\n",
    "\n",
    "(iii) Grafica la trayectoria para varios valores de $x_0$ en una sola gráfica. [Utiliza `scatter!`, con `!` al final, para *agregar* más información a un `plot` ya existente.] ¿Qué observas?\n",
    "\n",
    "(iv) Importa el paquete `Interact` y utiliza `@manipulate` antes de un bucle `for` sobre `x_0` para ver cómo cambia la visualización (de una sola condición inicial) de forma interactiva."
   ]
  },
  {
   "cell_type": "code",
   "execution_count": 15,
   "metadata": {},
   "outputs": [
    {
     "data": {
      "text/plain": [
       "iterar (generic function with 2 methods)"
      ]
     },
     "execution_count": 15,
     "metadata": {},
     "output_type": "execute_result"
    }
   ],
   "source": [
    "function iterar(f, x0, N)\n",
    "    \n",
    "    x = x0\n",
    "    A = []\n",
    "    \n",
    "    for i in 1:N\n",
    "        x = f(x)\n",
    "        push!(A,x) #llena el arreglo A con las iteraciones de f(x0)\n",
    "    end\n",
    "    \n",
    "    return A\n",
    "    \n",
    "end"
   ]
  },
  {
   "cell_type": "code",
   "execution_count": 16,
   "metadata": {},
   "outputs": [
    {
     "data": {
      "text/plain": [
       "f2 (generic function with 1 method)"
      ]
     },
     "execution_count": 16,
     "metadata": {},
     "output_type": "execute_result"
    }
   ],
   "source": [
    "f2(x) = cos(x)"
   ]
  },
  {
   "cell_type": "code",
   "execution_count": 17,
   "metadata": {},
   "outputs": [
    {
     "data": {
      "text/plain": [
       "6-element Array{Any,1}:\n",
       " 0.0044257\n",
       " 0.99999  \n",
       " 0.540311 \n",
       " 0.857549 \n",
       " 0.654293 \n",
       " 0.793478 "
      ]
     },
     "execution_count": 17,
     "metadata": {},
     "output_type": "execute_result"
    }
   ],
   "source": [
    "iterar(f2, 11, 6)"
   ]
  },
  {
   "cell_type": "code",
   "execution_count": 18,
   "metadata": {},
   "outputs": [
    {
     "name": "stderr",
     "output_type": "stream",
     "text": [
      "\u001b[1m\u001b[36mINFO: \u001b[39m\u001b[22m\u001b[36mPackage Plots is already installed\n",
      "\u001b[39m\u001b[1m\u001b[36mINFO: \u001b[39m\u001b[22m\u001b[36mMETADATA is out-of-date — you may not have the latest version of Plots\n",
      "\u001b[39m\u001b[1m\u001b[36mINFO: \u001b[39m\u001b[22m\u001b[36mUse `Pkg.update()` to get the latest versions of your packages\n",
      "\u001b[39m"
     ]
    }
   ],
   "source": [
    "Pkg.add(\"Plots\")"
   ]
  },
  {
   "cell_type": "code",
   "execution_count": 19,
   "metadata": {
    "collapsed": true
   },
   "outputs": [],
   "source": [
    "using Plots"
   ]
  },
  {
   "cell_type": "code",
   "execution_count": 20,
   "metadata": {},
   "outputs": [
    {
     "data": {
      "text/html": [
       "<?xml version=\"1.0\" encoding=\"utf-8\"?>\n",
       "<svg xmlns=\"http://www.w3.org/2000/svg\" xmlns:xlink=\"http://www.w3.org/1999/xlink\" width=\"600\" height=\"400\" viewBox=\"0 0 600 400\">\n",
       "<defs>\n",
       "  <clipPath id=\"clip00\">\n",
       "    <rect x=\"0\" y=\"0\" width=\"600\" height=\"400\"/>\n",
       "  </clipPath>\n",
       "</defs>\n",
       "<polygon clip-path=\"url(#clip00)\" points=\"\n",
       "0,400 600,400 600,0 0,0 \n",
       "  \" fill=\"#ffffff\" fill-opacity=\"1\"/>\n",
       "<defs>\n",
       "  <clipPath id=\"clip01\">\n",
       "    <rect x=\"120\" y=\"0\" width=\"421\" height=\"400\"/>\n",
       "  </clipPath>\n",
       "</defs>\n",
       "<polygon clip-path=\"url(#clip00)\" points=\"\n",
       "39.3701,376.378 592.126,376.378 592.126,7.87402 39.3701,7.87402 \n",
       "  \" fill=\"#ffffff\" fill-opacity=\"1\"/>\n",
       "<defs>\n",
       "  <clipPath id=\"clip02\">\n",
       "    <rect x=\"39\" y=\"7\" width=\"554\" height=\"370\"/>\n",
       "  </clipPath>\n",
       "</defs>\n",
       "<polyline clip-path=\"url(#clip02)\" style=\"stroke:#000000; stroke-width:1; stroke-opacity:0.5; fill:none\" stroke-dasharray=\"1, 2\" points=\"\n",
       "  47.4566,370.85 47.4566,13.4016 \n",
       "  \"/>\n",
       "<polyline clip-path=\"url(#clip02)\" style=\"stroke:#000000; stroke-width:1; stroke-opacity:0.5; fill:none\" stroke-dasharray=\"1, 2\" points=\"\n",
       "  236.394,370.85 236.394,13.4016 \n",
       "  \"/>\n",
       "<polyline clip-path=\"url(#clip02)\" style=\"stroke:#000000; stroke-width:1; stroke-opacity:0.5; fill:none\" stroke-dasharray=\"1, 2\" points=\"\n",
       "  425.332,370.85 425.332,13.4016 \n",
       "  \"/>\n",
       "<polyline clip-path=\"url(#clip02)\" style=\"stroke:#000000; stroke-width:1; stroke-opacity:0.5; fill:none\" stroke-dasharray=\"1, 2\" points=\"\n",
       "  47.6614,291.161 583.835,291.161 \n",
       "  \"/>\n",
       "<polyline clip-path=\"url(#clip02)\" style=\"stroke:#000000; stroke-width:1; stroke-opacity:0.5; fill:none\" stroke-dasharray=\"1, 2\" points=\"\n",
       "  47.6614,200.208 583.835,200.208 \n",
       "  \"/>\n",
       "<polyline clip-path=\"url(#clip02)\" style=\"stroke:#000000; stroke-width:1; stroke-opacity:0.5; fill:none\" stroke-dasharray=\"1, 2\" points=\"\n",
       "  47.6614,109.255 583.835,109.255 \n",
       "  \"/>\n",
       "<polyline clip-path=\"url(#clip02)\" style=\"stroke:#000000; stroke-width:1; stroke-opacity:0.5; fill:none\" stroke-dasharray=\"1, 2\" points=\"\n",
       "  47.6614,18.3016 583.835,18.3016 \n",
       "  \"/>\n",
       "<polyline clip-path=\"url(#clip00)\" style=\"stroke:#000000; stroke-width:1; stroke-opacity:1; fill:none\" points=\"\n",
       "  39.3701,376.378 592.126,376.378 \n",
       "  \"/>\n",
       "<polyline clip-path=\"url(#clip00)\" style=\"stroke:#000000; stroke-width:1; stroke-opacity:1; fill:none\" points=\"\n",
       "  47.4566,376.378 47.4566,370.85 \n",
       "  \"/>\n",
       "<polyline clip-path=\"url(#clip00)\" style=\"stroke:#000000; stroke-width:1; stroke-opacity:1; fill:none\" points=\"\n",
       "  236.394,376.378 236.394,370.85 \n",
       "  \"/>\n",
       "<polyline clip-path=\"url(#clip00)\" style=\"stroke:#000000; stroke-width:1; stroke-opacity:1; fill:none\" points=\"\n",
       "  425.332,376.378 425.332,370.85 \n",
       "  \"/>\n",
       "<polyline clip-path=\"url(#clip00)\" style=\"stroke:#000000; stroke-width:1; stroke-opacity:1; fill:none\" points=\"\n",
       "  39.3701,376.378 39.3701,7.87402 \n",
       "  \"/>\n",
       "<polyline clip-path=\"url(#clip00)\" style=\"stroke:#000000; stroke-width:1; stroke-opacity:1; fill:none\" points=\"\n",
       "  39.3701,291.161 47.6614,291.161 \n",
       "  \"/>\n",
       "<polyline clip-path=\"url(#clip00)\" style=\"stroke:#000000; stroke-width:1; stroke-opacity:1; fill:none\" points=\"\n",
       "  39.3701,200.208 47.6614,200.208 \n",
       "  \"/>\n",
       "<polyline clip-path=\"url(#clip00)\" style=\"stroke:#000000; stroke-width:1; stroke-opacity:1; fill:none\" points=\"\n",
       "  39.3701,109.255 47.6614,109.255 \n",
       "  \"/>\n",
       "<polyline clip-path=\"url(#clip00)\" style=\"stroke:#000000; stroke-width:1; stroke-opacity:1; fill:none\" points=\"\n",
       "  39.3701,18.3016 47.6614,18.3016 \n",
       "  \"/>\n",
       "<g clip-path=\"url(#clip00)\">\n",
       "<text style=\"fill:#000000; fill-opacity:1; font-family:Arial,Helvetica Neue,Helvetica,sans-serif; font-size:12; text-anchor:middle;\" transform=\"rotate(0, 47.4566, 390.178)\" x=\"47.4566\" y=\"390.178\">0</text>\n",
       "</g>\n",
       "<g clip-path=\"url(#clip00)\">\n",
       "<text style=\"fill:#000000; fill-opacity:1; font-family:Arial,Helvetica Neue,Helvetica,sans-serif; font-size:12; text-anchor:middle;\" transform=\"rotate(0, 236.394, 390.178)\" x=\"236.394\" y=\"390.178\">25</text>\n",
       "</g>\n",
       "<g clip-path=\"url(#clip00)\">\n",
       "<text style=\"fill:#000000; fill-opacity:1; font-family:Arial,Helvetica Neue,Helvetica,sans-serif; font-size:12; text-anchor:middle;\" transform=\"rotate(0, 425.332, 390.178)\" x=\"425.332\" y=\"390.178\">50</text>\n",
       "</g>\n",
       "<g clip-path=\"url(#clip00)\">\n",
       "<text style=\"fill:#000000; fill-opacity:1; font-family:Arial,Helvetica Neue,Helvetica,sans-serif; font-size:12; text-anchor:end;\" transform=\"rotate(0, 33.3701, 295.661)\" x=\"33.3701\" y=\"295.661\">-0.5</text>\n",
       "</g>\n",
       "<g clip-path=\"url(#clip00)\">\n",
       "<text style=\"fill:#000000; fill-opacity:1; font-family:Arial,Helvetica Neue,Helvetica,sans-serif; font-size:12; text-anchor:end;\" transform=\"rotate(0, 33.3701, 204.708)\" x=\"33.3701\" y=\"204.708\">0.0</text>\n",
       "</g>\n",
       "<g clip-path=\"url(#clip00)\">\n",
       "<text style=\"fill:#000000; fill-opacity:1; font-family:Arial,Helvetica Neue,Helvetica,sans-serif; font-size:12; text-anchor:end;\" transform=\"rotate(0, 33.3701, 113.755)\" x=\"33.3701\" y=\"113.755\">0.5</text>\n",
       "</g>\n",
       "<g clip-path=\"url(#clip00)\">\n",
       "<text style=\"fill:#000000; fill-opacity:1; font-family:Arial,Helvetica Neue,Helvetica,sans-serif; font-size:12; text-anchor:end;\" transform=\"rotate(0, 33.3701, 22.8016)\" x=\"33.3701\" y=\"22.8016\">1.0</text>\n",
       "</g>\n",
       "<circle clip-path=\"url(#clip02)\" style=\"fill:#000000; stroke:none; fill-opacity:1\" cx=\"55.0141\" cy=\"199.403\" r=\"4\"/>\n",
       "<circle clip-path=\"url(#clip02)\" style=\"fill:#009af9; stroke:none; fill-opacity:1\" cx=\"55.0141\" cy=\"199.403\" r=\"3\"/>\n",
       "<circle clip-path=\"url(#clip02)\" style=\"fill:#000000; stroke:none; fill-opacity:1\" cx=\"62.5716\" cy=\"18.3034\" r=\"4\"/>\n",
       "<circle clip-path=\"url(#clip02)\" style=\"fill:#009af9; stroke:none; fill-opacity:1\" cx=\"62.5716\" cy=\"18.3034\" r=\"3\"/>\n",
       "<circle clip-path=\"url(#clip02)\" style=\"fill:#000000; stroke:none; fill-opacity:1\" cx=\"70.1291\" cy=\"101.922\" r=\"4\"/>\n",
       "<circle clip-path=\"url(#clip02)\" style=\"fill:#009af9; stroke:none; fill-opacity:1\" cx=\"70.1291\" cy=\"101.922\" r=\"3\"/>\n",
       "<circle clip-path=\"url(#clip02)\" style=\"fill:#000000; stroke:none; fill-opacity:1\" cx=\"77.6866\" cy=\"44.2144\" r=\"4\"/>\n",
       "<circle clip-path=\"url(#clip02)\" style=\"fill:#009af9; stroke:none; fill-opacity:1\" cx=\"77.6866\" cy=\"44.2144\" r=\"3\"/>\n",
       "<circle clip-path=\"url(#clip02)\" style=\"fill:#000000; stroke:none; fill-opacity:1\" cx=\"85.2441\" cy=\"81.1879\" r=\"4\"/>\n",
       "<circle clip-path=\"url(#clip02)\" style=\"fill:#009af9; stroke:none; fill-opacity:1\" cx=\"85.2441\" cy=\"81.1879\" r=\"3\"/>\n",
       "<circle clip-path=\"url(#clip02)\" style=\"fill:#000000; stroke:none; fill-opacity:1\" cx=\"92.8016\" cy=\"55.8692\" r=\"4\"/>\n",
       "<circle clip-path=\"url(#clip02)\" style=\"fill:#009af9; stroke:none; fill-opacity:1\" cx=\"92.8016\" cy=\"55.8692\" r=\"3\"/>\n",
       "<circle clip-path=\"url(#clip02)\" style=\"fill:#000000; stroke:none; fill-opacity:1\" cx=\"100.359\" cy=\"72.6243\" r=\"4\"/>\n",
       "<circle clip-path=\"url(#clip02)\" style=\"fill:#009af9; stroke:none; fill-opacity:1\" cx=\"100.359\" cy=\"72.6243\" r=\"3\"/>\n",
       "<circle clip-path=\"url(#clip02)\" style=\"fill:#000000; stroke:none; fill-opacity:1\" cx=\"107.917\" cy=\"61.239\" r=\"4\"/>\n",
       "<circle clip-path=\"url(#clip02)\" style=\"fill:#009af9; stroke:none; fill-opacity:1\" cx=\"107.917\" cy=\"61.239\" r=\"3\"/>\n",
       "<circle clip-path=\"url(#clip02)\" style=\"fill:#000000; stroke:none; fill-opacity:1\" cx=\"115.474\" cy=\"68.8529\" r=\"4\"/>\n",
       "<circle clip-path=\"url(#clip02)\" style=\"fill:#009af9; stroke:none; fill-opacity:1\" cx=\"115.474\" cy=\"68.8529\" r=\"3\"/>\n",
       "<circle clip-path=\"url(#clip02)\" style=\"fill:#000000; stroke:none; fill-opacity:1\" cx=\"123.032\" cy=\"63.7023\" r=\"4\"/>\n",
       "<circle clip-path=\"url(#clip02)\" style=\"fill:#009af9; stroke:none; fill-opacity:1\" cx=\"123.032\" cy=\"63.7023\" r=\"3\"/>\n",
       "<circle clip-path=\"url(#clip02)\" style=\"fill:#000000; stroke:none; fill-opacity:1\" cx=\"130.589\" cy=\"67.1609\" r=\"4\"/>\n",
       "<circle clip-path=\"url(#clip02)\" style=\"fill:#009af9; stroke:none; fill-opacity:1\" cx=\"130.589\" cy=\"67.1609\" r=\"3\"/>\n",
       "<circle clip-path=\"url(#clip02)\" style=\"fill:#000000; stroke:none; fill-opacity:1\" cx=\"138.147\" cy=\"64.8265\" r=\"4\"/>\n",
       "<circle clip-path=\"url(#clip02)\" style=\"fill:#009af9; stroke:none; fill-opacity:1\" cx=\"138.147\" cy=\"64.8265\" r=\"3\"/>\n",
       "<circle clip-path=\"url(#clip02)\" style=\"fill:#000000; stroke:none; fill-opacity:1\" cx=\"145.704\" cy=\"66.3968\" r=\"4\"/>\n",
       "<circle clip-path=\"url(#clip02)\" style=\"fill:#009af9; stroke:none; fill-opacity:1\" cx=\"145.704\" cy=\"66.3968\" r=\"3\"/>\n",
       "<circle clip-path=\"url(#clip02)\" style=\"fill:#000000; stroke:none; fill-opacity:1\" cx=\"153.262\" cy=\"65.3381\" r=\"4\"/>\n",
       "<circle clip-path=\"url(#clip02)\" style=\"fill:#009af9; stroke:none; fill-opacity:1\" cx=\"153.262\" cy=\"65.3381\" r=\"3\"/>\n",
       "<circle clip-path=\"url(#clip02)\" style=\"fill:#000000; stroke:none; fill-opacity:1\" cx=\"160.819\" cy=\"66.0508\" r=\"4\"/>\n",
       "<circle clip-path=\"url(#clip02)\" style=\"fill:#009af9; stroke:none; fill-opacity:1\" cx=\"160.819\" cy=\"66.0508\" r=\"3\"/>\n",
       "<circle clip-path=\"url(#clip02)\" style=\"fill:#000000; stroke:none; fill-opacity:1\" cx=\"168.377\" cy=\"65.5705\" r=\"4\"/>\n",
       "<circle clip-path=\"url(#clip02)\" style=\"fill:#009af9; stroke:none; fill-opacity:1\" cx=\"168.377\" cy=\"65.5705\" r=\"3\"/>\n",
       "<circle clip-path=\"url(#clip02)\" style=\"fill:#000000; stroke:none; fill-opacity:1\" cx=\"175.934\" cy=\"65.8939\" r=\"4\"/>\n",
       "<circle clip-path=\"url(#clip02)\" style=\"fill:#009af9; stroke:none; fill-opacity:1\" cx=\"175.934\" cy=\"65.8939\" r=\"3\"/>\n",
       "<circle clip-path=\"url(#clip02)\" style=\"fill:#000000; stroke:none; fill-opacity:1\" cx=\"183.492\" cy=\"65.676\" r=\"4\"/>\n",
       "<circle clip-path=\"url(#clip02)\" style=\"fill:#009af9; stroke:none; fill-opacity:1\" cx=\"183.492\" cy=\"65.676\" r=\"3\"/>\n",
       "<circle clip-path=\"url(#clip02)\" style=\"fill:#000000; stroke:none; fill-opacity:1\" cx=\"191.049\" cy=\"65.8228\" r=\"4\"/>\n",
       "<circle clip-path=\"url(#clip02)\" style=\"fill:#009af9; stroke:none; fill-opacity:1\" cx=\"191.049\" cy=\"65.8228\" r=\"3\"/>\n",
       "<circle clip-path=\"url(#clip02)\" style=\"fill:#000000; stroke:none; fill-opacity:1\" cx=\"198.607\" cy=\"65.7239\" r=\"4\"/>\n",
       "<circle clip-path=\"url(#clip02)\" style=\"fill:#009af9; stroke:none; fill-opacity:1\" cx=\"198.607\" cy=\"65.7239\" r=\"3\"/>\n",
       "<circle clip-path=\"url(#clip02)\" style=\"fill:#000000; stroke:none; fill-opacity:1\" cx=\"206.164\" cy=\"65.7905\" r=\"4\"/>\n",
       "<circle clip-path=\"url(#clip02)\" style=\"fill:#009af9; stroke:none; fill-opacity:1\" cx=\"206.164\" cy=\"65.7905\" r=\"3\"/>\n",
       "<circle clip-path=\"url(#clip02)\" style=\"fill:#000000; stroke:none; fill-opacity:1\" cx=\"213.722\" cy=\"65.7456\" r=\"4\"/>\n",
       "<circle clip-path=\"url(#clip02)\" style=\"fill:#009af9; stroke:none; fill-opacity:1\" cx=\"213.722\" cy=\"65.7456\" r=\"3\"/>\n",
       "<circle clip-path=\"url(#clip02)\" style=\"fill:#000000; stroke:none; fill-opacity:1\" cx=\"221.279\" cy=\"65.7759\" r=\"4\"/>\n",
       "<circle clip-path=\"url(#clip02)\" style=\"fill:#009af9; stroke:none; fill-opacity:1\" cx=\"221.279\" cy=\"65.7759\" r=\"3\"/>\n",
       "<circle clip-path=\"url(#clip02)\" style=\"fill:#000000; stroke:none; fill-opacity:1\" cx=\"228.837\" cy=\"65.7555\" r=\"4\"/>\n",
       "<circle clip-path=\"url(#clip02)\" style=\"fill:#009af9; stroke:none; fill-opacity:1\" cx=\"228.837\" cy=\"65.7555\" r=\"3\"/>\n",
       "<circle clip-path=\"url(#clip02)\" style=\"fill:#000000; stroke:none; fill-opacity:1\" cx=\"236.394\" cy=\"65.7692\" r=\"4\"/>\n",
       "<circle clip-path=\"url(#clip02)\" style=\"fill:#009af9; stroke:none; fill-opacity:1\" cx=\"236.394\" cy=\"65.7692\" r=\"3\"/>\n",
       "<circle clip-path=\"url(#clip02)\" style=\"fill:#000000; stroke:none; fill-opacity:1\" cx=\"243.952\" cy=\"65.76\" r=\"4\"/>\n",
       "<circle clip-path=\"url(#clip02)\" style=\"fill:#009af9; stroke:none; fill-opacity:1\" cx=\"243.952\" cy=\"65.76\" r=\"3\"/>\n",
       "<circle clip-path=\"url(#clip02)\" style=\"fill:#000000; stroke:none; fill-opacity:1\" cx=\"251.509\" cy=\"65.7662\" r=\"4\"/>\n",
       "<circle clip-path=\"url(#clip02)\" style=\"fill:#009af9; stroke:none; fill-opacity:1\" cx=\"251.509\" cy=\"65.7662\" r=\"3\"/>\n",
       "<circle clip-path=\"url(#clip02)\" style=\"fill:#000000; stroke:none; fill-opacity:1\" cx=\"259.067\" cy=\"65.762\" r=\"4\"/>\n",
       "<circle clip-path=\"url(#clip02)\" style=\"fill:#009af9; stroke:none; fill-opacity:1\" cx=\"259.067\" cy=\"65.762\" r=\"3\"/>\n",
       "<circle clip-path=\"url(#clip02)\" style=\"fill:#000000; stroke:none; fill-opacity:1\" cx=\"266.624\" cy=\"65.7648\" r=\"4\"/>\n",
       "<circle clip-path=\"url(#clip02)\" style=\"fill:#009af9; stroke:none; fill-opacity:1\" cx=\"266.624\" cy=\"65.7648\" r=\"3\"/>\n",
       "<circle clip-path=\"url(#clip02)\" style=\"fill:#000000; stroke:none; fill-opacity:1\" cx=\"274.182\" cy=\"65.7629\" r=\"4\"/>\n",
       "<circle clip-path=\"url(#clip02)\" style=\"fill:#009af9; stroke:none; fill-opacity:1\" cx=\"274.182\" cy=\"65.7629\" r=\"3\"/>\n",
       "<circle clip-path=\"url(#clip02)\" style=\"fill:#000000; stroke:none; fill-opacity:1\" cx=\"281.739\" cy=\"65.7642\" r=\"4\"/>\n",
       "<circle clip-path=\"url(#clip02)\" style=\"fill:#009af9; stroke:none; fill-opacity:1\" cx=\"281.739\" cy=\"65.7642\" r=\"3\"/>\n",
       "<circle clip-path=\"url(#clip02)\" style=\"fill:#000000; stroke:none; fill-opacity:1\" cx=\"289.297\" cy=\"65.7634\" r=\"4\"/>\n",
       "<circle clip-path=\"url(#clip02)\" style=\"fill:#009af9; stroke:none; fill-opacity:1\" cx=\"289.297\" cy=\"65.7634\" r=\"3\"/>\n",
       "<circle clip-path=\"url(#clip02)\" style=\"fill:#000000; stroke:none; fill-opacity:1\" cx=\"296.854\" cy=\"65.7639\" r=\"4\"/>\n",
       "<circle clip-path=\"url(#clip02)\" style=\"fill:#009af9; stroke:none; fill-opacity:1\" cx=\"296.854\" cy=\"65.7639\" r=\"3\"/>\n",
       "<circle clip-path=\"url(#clip02)\" style=\"fill:#000000; stroke:none; fill-opacity:1\" cx=\"304.412\" cy=\"65.7635\" r=\"4\"/>\n",
       "<circle clip-path=\"url(#clip02)\" style=\"fill:#009af9; stroke:none; fill-opacity:1\" cx=\"304.412\" cy=\"65.7635\" r=\"3\"/>\n",
       "<circle clip-path=\"url(#clip02)\" style=\"fill:#000000; stroke:none; fill-opacity:1\" cx=\"311.969\" cy=\"65.7638\" r=\"4\"/>\n",
       "<circle clip-path=\"url(#clip02)\" style=\"fill:#009af9; stroke:none; fill-opacity:1\" cx=\"311.969\" cy=\"65.7638\" r=\"3\"/>\n",
       "<circle clip-path=\"url(#clip02)\" style=\"fill:#000000; stroke:none; fill-opacity:1\" cx=\"319.527\" cy=\"65.7636\" r=\"4\"/>\n",
       "<circle clip-path=\"url(#clip02)\" style=\"fill:#009af9; stroke:none; fill-opacity:1\" cx=\"319.527\" cy=\"65.7636\" r=\"3\"/>\n",
       "<circle clip-path=\"url(#clip02)\" style=\"fill:#000000; stroke:none; fill-opacity:1\" cx=\"327.084\" cy=\"65.7637\" r=\"4\"/>\n",
       "<circle clip-path=\"url(#clip02)\" style=\"fill:#009af9; stroke:none; fill-opacity:1\" cx=\"327.084\" cy=\"65.7637\" r=\"3\"/>\n",
       "<circle clip-path=\"url(#clip02)\" style=\"fill:#000000; stroke:none; fill-opacity:1\" cx=\"334.642\" cy=\"65.7637\" r=\"4\"/>\n",
       "<circle clip-path=\"url(#clip02)\" style=\"fill:#009af9; stroke:none; fill-opacity:1\" cx=\"334.642\" cy=\"65.7637\" r=\"3\"/>\n",
       "<circle clip-path=\"url(#clip02)\" style=\"fill:#000000; stroke:none; fill-opacity:1\" cx=\"342.199\" cy=\"65.7637\" r=\"4\"/>\n",
       "<circle clip-path=\"url(#clip02)\" style=\"fill:#009af9; stroke:none; fill-opacity:1\" cx=\"342.199\" cy=\"65.7637\" r=\"3\"/>\n",
       "<circle clip-path=\"url(#clip02)\" style=\"fill:#000000; stroke:none; fill-opacity:1\" cx=\"349.757\" cy=\"65.7637\" r=\"4\"/>\n",
       "<circle clip-path=\"url(#clip02)\" style=\"fill:#009af9; stroke:none; fill-opacity:1\" cx=\"349.757\" cy=\"65.7637\" r=\"3\"/>\n",
       "<circle clip-path=\"url(#clip02)\" style=\"fill:#000000; stroke:none; fill-opacity:1\" cx=\"357.314\" cy=\"65.7637\" r=\"4\"/>\n",
       "<circle clip-path=\"url(#clip02)\" style=\"fill:#009af9; stroke:none; fill-opacity:1\" cx=\"357.314\" cy=\"65.7637\" r=\"3\"/>\n",
       "<circle clip-path=\"url(#clip02)\" style=\"fill:#000000; stroke:none; fill-opacity:1\" cx=\"364.872\" cy=\"65.7637\" r=\"4\"/>\n",
       "<circle clip-path=\"url(#clip02)\" style=\"fill:#009af9; stroke:none; fill-opacity:1\" cx=\"364.872\" cy=\"65.7637\" r=\"3\"/>\n",
       "<circle clip-path=\"url(#clip02)\" style=\"fill:#000000; stroke:none; fill-opacity:1\" cx=\"372.429\" cy=\"65.7637\" r=\"4\"/>\n",
       "<circle clip-path=\"url(#clip02)\" style=\"fill:#009af9; stroke:none; fill-opacity:1\" cx=\"372.429\" cy=\"65.7637\" r=\"3\"/>\n",
       "<circle clip-path=\"url(#clip02)\" style=\"fill:#000000; stroke:none; fill-opacity:1\" cx=\"379.987\" cy=\"65.7637\" r=\"4\"/>\n",
       "<circle clip-path=\"url(#clip02)\" style=\"fill:#009af9; stroke:none; fill-opacity:1\" cx=\"379.987\" cy=\"65.7637\" r=\"3\"/>\n",
       "<circle clip-path=\"url(#clip02)\" style=\"fill:#000000; stroke:none; fill-opacity:1\" cx=\"387.544\" cy=\"65.7637\" r=\"4\"/>\n",
       "<circle clip-path=\"url(#clip02)\" style=\"fill:#009af9; stroke:none; fill-opacity:1\" cx=\"387.544\" cy=\"65.7637\" r=\"3\"/>\n",
       "<circle clip-path=\"url(#clip02)\" style=\"fill:#000000; stroke:none; fill-opacity:1\" cx=\"395.102\" cy=\"65.7637\" r=\"4\"/>\n",
       "<circle clip-path=\"url(#clip02)\" style=\"fill:#009af9; stroke:none; fill-opacity:1\" cx=\"395.102\" cy=\"65.7637\" r=\"3\"/>\n",
       "<circle clip-path=\"url(#clip02)\" style=\"fill:#000000; stroke:none; fill-opacity:1\" cx=\"402.659\" cy=\"65.7637\" r=\"4\"/>\n",
       "<circle clip-path=\"url(#clip02)\" style=\"fill:#009af9; stroke:none; fill-opacity:1\" cx=\"402.659\" cy=\"65.7637\" r=\"3\"/>\n",
       "<circle clip-path=\"url(#clip02)\" style=\"fill:#000000; stroke:none; fill-opacity:1\" cx=\"410.217\" cy=\"65.7637\" r=\"4\"/>\n",
       "<circle clip-path=\"url(#clip02)\" style=\"fill:#009af9; stroke:none; fill-opacity:1\" cx=\"410.217\" cy=\"65.7637\" r=\"3\"/>\n",
       "<circle clip-path=\"url(#clip02)\" style=\"fill:#000000; stroke:none; fill-opacity:1\" cx=\"417.774\" cy=\"65.7637\" r=\"4\"/>\n",
       "<circle clip-path=\"url(#clip02)\" style=\"fill:#009af9; stroke:none; fill-opacity:1\" cx=\"417.774\" cy=\"65.7637\" r=\"3\"/>\n",
       "<circle clip-path=\"url(#clip02)\" style=\"fill:#000000; stroke:none; fill-opacity:1\" cx=\"425.332\" cy=\"65.7637\" r=\"4\"/>\n",
       "<circle clip-path=\"url(#clip02)\" style=\"fill:#009af9; stroke:none; fill-opacity:1\" cx=\"425.332\" cy=\"65.7637\" r=\"3\"/>\n",
       "<circle clip-path=\"url(#clip02)\" style=\"fill:#000000; stroke:none; fill-opacity:1\" cx=\"432.889\" cy=\"65.7637\" r=\"4\"/>\n",
       "<circle clip-path=\"url(#clip02)\" style=\"fill:#009af9; stroke:none; fill-opacity:1\" cx=\"432.889\" cy=\"65.7637\" r=\"3\"/>\n",
       "<circle clip-path=\"url(#clip02)\" style=\"fill:#000000; stroke:none; fill-opacity:1\" cx=\"440.447\" cy=\"65.7637\" r=\"4\"/>\n",
       "<circle clip-path=\"url(#clip02)\" style=\"fill:#009af9; stroke:none; fill-opacity:1\" cx=\"440.447\" cy=\"65.7637\" r=\"3\"/>\n",
       "<circle clip-path=\"url(#clip02)\" style=\"fill:#000000; stroke:none; fill-opacity:1\" cx=\"448.004\" cy=\"65.7637\" r=\"4\"/>\n",
       "<circle clip-path=\"url(#clip02)\" style=\"fill:#009af9; stroke:none; fill-opacity:1\" cx=\"448.004\" cy=\"65.7637\" r=\"3\"/>\n",
       "<circle clip-path=\"url(#clip02)\" style=\"fill:#000000; stroke:none; fill-opacity:1\" cx=\"455.562\" cy=\"65.7637\" r=\"4\"/>\n",
       "<circle clip-path=\"url(#clip02)\" style=\"fill:#009af9; stroke:none; fill-opacity:1\" cx=\"455.562\" cy=\"65.7637\" r=\"3\"/>\n",
       "<circle clip-path=\"url(#clip02)\" style=\"fill:#000000; stroke:none; fill-opacity:1\" cx=\"463.119\" cy=\"65.7637\" r=\"4\"/>\n",
       "<circle clip-path=\"url(#clip02)\" style=\"fill:#009af9; stroke:none; fill-opacity:1\" cx=\"463.119\" cy=\"65.7637\" r=\"3\"/>\n",
       "<circle clip-path=\"url(#clip02)\" style=\"fill:#000000; stroke:none; fill-opacity:1\" cx=\"470.677\" cy=\"65.7637\" r=\"4\"/>\n",
       "<circle clip-path=\"url(#clip02)\" style=\"fill:#009af9; stroke:none; fill-opacity:1\" cx=\"470.677\" cy=\"65.7637\" r=\"3\"/>\n",
       "<circle clip-path=\"url(#clip02)\" style=\"fill:#000000; stroke:none; fill-opacity:1\" cx=\"478.234\" cy=\"65.7637\" r=\"4\"/>\n",
       "<circle clip-path=\"url(#clip02)\" style=\"fill:#009af9; stroke:none; fill-opacity:1\" cx=\"478.234\" cy=\"65.7637\" r=\"3\"/>\n",
       "<circle clip-path=\"url(#clip02)\" style=\"fill:#000000; stroke:none; fill-opacity:1\" cx=\"485.792\" cy=\"65.7637\" r=\"4\"/>\n",
       "<circle clip-path=\"url(#clip02)\" style=\"fill:#009af9; stroke:none; fill-opacity:1\" cx=\"485.792\" cy=\"65.7637\" r=\"3\"/>\n",
       "<circle clip-path=\"url(#clip02)\" style=\"fill:#000000; stroke:none; fill-opacity:1\" cx=\"493.349\" cy=\"65.7637\" r=\"4\"/>\n",
       "<circle clip-path=\"url(#clip02)\" style=\"fill:#009af9; stroke:none; fill-opacity:1\" cx=\"493.349\" cy=\"65.7637\" r=\"3\"/>\n",
       "<circle clip-path=\"url(#clip02)\" style=\"fill:#000000; stroke:none; fill-opacity:1\" cx=\"500.907\" cy=\"65.7637\" r=\"4\"/>\n",
       "<circle clip-path=\"url(#clip02)\" style=\"fill:#009af9; stroke:none; fill-opacity:1\" cx=\"500.907\" cy=\"65.7637\" r=\"3\"/>\n",
       "<circle clip-path=\"url(#clip02)\" style=\"fill:#000000; stroke:none; fill-opacity:1\" cx=\"508.464\" cy=\"65.7637\" r=\"4\"/>\n",
       "<circle clip-path=\"url(#clip02)\" style=\"fill:#009af9; stroke:none; fill-opacity:1\" cx=\"508.464\" cy=\"65.7637\" r=\"3\"/>\n",
       "<circle clip-path=\"url(#clip02)\" style=\"fill:#000000; stroke:none; fill-opacity:1\" cx=\"516.022\" cy=\"65.7637\" r=\"4\"/>\n",
       "<circle clip-path=\"url(#clip02)\" style=\"fill:#009af9; stroke:none; fill-opacity:1\" cx=\"516.022\" cy=\"65.7637\" r=\"3\"/>\n",
       "<circle clip-path=\"url(#clip02)\" style=\"fill:#000000; stroke:none; fill-opacity:1\" cx=\"523.579\" cy=\"65.7637\" r=\"4\"/>\n",
       "<circle clip-path=\"url(#clip02)\" style=\"fill:#009af9; stroke:none; fill-opacity:1\" cx=\"523.579\" cy=\"65.7637\" r=\"3\"/>\n",
       "<circle clip-path=\"url(#clip02)\" style=\"fill:#000000; stroke:none; fill-opacity:1\" cx=\"531.137\" cy=\"65.7637\" r=\"4\"/>\n",
       "<circle clip-path=\"url(#clip02)\" style=\"fill:#009af9; stroke:none; fill-opacity:1\" cx=\"531.137\" cy=\"65.7637\" r=\"3\"/>\n",
       "<circle clip-path=\"url(#clip02)\" style=\"fill:#000000; stroke:none; fill-opacity:1\" cx=\"538.694\" cy=\"65.7637\" r=\"4\"/>\n",
       "<circle clip-path=\"url(#clip02)\" style=\"fill:#009af9; stroke:none; fill-opacity:1\" cx=\"538.694\" cy=\"65.7637\" r=\"3\"/>\n",
       "<circle clip-path=\"url(#clip02)\" style=\"fill:#000000; stroke:none; fill-opacity:1\" cx=\"546.252\" cy=\"65.7637\" r=\"4\"/>\n",
       "<circle clip-path=\"url(#clip02)\" style=\"fill:#009af9; stroke:none; fill-opacity:1\" cx=\"546.252\" cy=\"65.7637\" r=\"3\"/>\n",
       "<circle clip-path=\"url(#clip02)\" style=\"fill:#000000; stroke:none; fill-opacity:1\" cx=\"553.809\" cy=\"65.7637\" r=\"4\"/>\n",
       "<circle clip-path=\"url(#clip02)\" style=\"fill:#009af9; stroke:none; fill-opacity:1\" cx=\"553.809\" cy=\"65.7637\" r=\"3\"/>\n",
       "<circle clip-path=\"url(#clip02)\" style=\"fill:#000000; stroke:none; fill-opacity:1\" cx=\"561.367\" cy=\"65.7637\" r=\"4\"/>\n",
       "<circle clip-path=\"url(#clip02)\" style=\"fill:#009af9; stroke:none; fill-opacity:1\" cx=\"561.367\" cy=\"65.7637\" r=\"3\"/>\n",
       "<circle clip-path=\"url(#clip02)\" style=\"fill:#000000; stroke:none; fill-opacity:1\" cx=\"568.924\" cy=\"65.7637\" r=\"4\"/>\n",
       "<circle clip-path=\"url(#clip02)\" style=\"fill:#009af9; stroke:none; fill-opacity:1\" cx=\"568.924\" cy=\"65.7637\" r=\"3\"/>\n",
       "<circle clip-path=\"url(#clip02)\" style=\"fill:#000000; stroke:none; fill-opacity:1\" cx=\"576.482\" cy=\"65.7637\" r=\"4\"/>\n",
       "<circle clip-path=\"url(#clip02)\" style=\"fill:#009af9; stroke:none; fill-opacity:1\" cx=\"576.482\" cy=\"65.7637\" r=\"3\"/>\n",
       "<circle clip-path=\"url(#clip02)\" style=\"fill:#000000; stroke:none; fill-opacity:1\" cx=\"55.0141\" cy=\"365.949\" r=\"4\"/>\n",
       "<circle clip-path=\"url(#clip02)\" style=\"fill:#e26f46; stroke:none; fill-opacity:1\" cx=\"55.0141\" cy=\"365.949\" r=\"3\"/>\n",
       "<circle clip-path=\"url(#clip02)\" style=\"fill:#000000; stroke:none; fill-opacity:1\" cx=\"62.5716\" cy=\"88.7261\" r=\"4\"/>\n",
       "<circle clip-path=\"url(#clip02)\" style=\"fill:#e26f46; stroke:none; fill-opacity:1\" cx=\"62.5716\" cy=\"88.7261\" r=\"3\"/>\n",
       "<circle clip-path=\"url(#clip02)\" style=\"fill:#000000; stroke:none; fill-opacity:1\" cx=\"70.1291\" cy=\"51.4067\" r=\"4\"/>\n",
       "<circle clip-path=\"url(#clip02)\" style=\"fill:#e26f46; stroke:none; fill-opacity:1\" cx=\"70.1291\" cy=\"51.4067\" r=\"3\"/>\n",
       "<circle clip-path=\"url(#clip02)\" style=\"fill:#000000; stroke:none; fill-opacity:1\" cx=\"77.6866\" cy=\"75.8432\" r=\"4\"/>\n",
       "<circle clip-path=\"url(#clip02)\" style=\"fill:#e26f46; stroke:none; fill-opacity:1\" cx=\"77.6866\" cy=\"75.8432\" r=\"3\"/>\n",
       "<circle clip-path=\"url(#clip02)\" style=\"fill:#000000; stroke:none; fill-opacity:1\" cx=\"85.2441\" cy=\"59.1838\" r=\"4\"/>\n",
       "<circle clip-path=\"url(#clip02)\" style=\"fill:#e26f46; stroke:none; fill-opacity:1\" cx=\"85.2441\" cy=\"59.1838\" r=\"3\"/>\n",
       "<circle clip-path=\"url(#clip02)\" style=\"fill:#000000; stroke:none; fill-opacity:1\" cx=\"92.8016\" cy=\"70.283\" r=\"4\"/>\n",
       "<circle clip-path=\"url(#clip02)\" style=\"fill:#e26f46; stroke:none; fill-opacity:1\" cx=\"92.8016\" cy=\"70.283\" r=\"3\"/>\n",
       "<circle clip-path=\"url(#clip02)\" style=\"fill:#000000; stroke:none; fill-opacity:1\" cx=\"100.359\" cy=\"62.7613\" r=\"4\"/>\n",
       "<circle clip-path=\"url(#clip02)\" style=\"fill:#e26f46; stroke:none; fill-opacity:1\" cx=\"100.359\" cy=\"62.7613\" r=\"3\"/>\n",
       "<circle clip-path=\"url(#clip02)\" style=\"fill:#000000; stroke:none; fill-opacity:1\" cx=\"107.917\" cy=\"67.8044\" r=\"4\"/>\n",
       "<circle clip-path=\"url(#clip02)\" style=\"fill:#e26f46; stroke:none; fill-opacity:1\" cx=\"107.917\" cy=\"67.8044\" r=\"3\"/>\n",
       "<circle clip-path=\"url(#clip02)\" style=\"fill:#000000; stroke:none; fill-opacity:1\" cx=\"115.474\" cy=\"64.3976\" r=\"4\"/>\n",
       "<circle clip-path=\"url(#clip02)\" style=\"fill:#e26f46; stroke:none; fill-opacity:1\" cx=\"115.474\" cy=\"64.3976\" r=\"3\"/>\n",
       "<circle clip-path=\"url(#clip02)\" style=\"fill:#000000; stroke:none; fill-opacity:1\" cx=\"123.032\" cy=\"66.6877\" r=\"4\"/>\n",
       "<circle clip-path=\"url(#clip02)\" style=\"fill:#e26f46; stroke:none; fill-opacity:1\" cx=\"123.032\" cy=\"66.6877\" r=\"3\"/>\n",
       "<circle clip-path=\"url(#clip02)\" style=\"fill:#000000; stroke:none; fill-opacity:1\" cx=\"130.589\" cy=\"65.143\" r=\"4\"/>\n",
       "<circle clip-path=\"url(#clip02)\" style=\"fill:#e26f46; stroke:none; fill-opacity:1\" cx=\"130.589\" cy=\"65.143\" r=\"3\"/>\n",
       "<circle clip-path=\"url(#clip02)\" style=\"fill:#000000; stroke:none; fill-opacity:1\" cx=\"138.147\" cy=\"66.1826\" r=\"4\"/>\n",
       "<circle clip-path=\"url(#clip02)\" style=\"fill:#e26f46; stroke:none; fill-opacity:1\" cx=\"138.147\" cy=\"66.1826\" r=\"3\"/>\n",
       "<circle clip-path=\"url(#clip02)\" style=\"fill:#000000; stroke:none; fill-opacity:1\" cx=\"145.704\" cy=\"65.4819\" r=\"4\"/>\n",
       "<circle clip-path=\"url(#clip02)\" style=\"fill:#e26f46; stroke:none; fill-opacity:1\" cx=\"145.704\" cy=\"65.4819\" r=\"3\"/>\n",
       "<circle clip-path=\"url(#clip02)\" style=\"fill:#000000; stroke:none; fill-opacity:1\" cx=\"153.262\" cy=\"65.9537\" r=\"4\"/>\n",
       "<circle clip-path=\"url(#clip02)\" style=\"fill:#e26f46; stroke:none; fill-opacity:1\" cx=\"153.262\" cy=\"65.9537\" r=\"3\"/>\n",
       "<circle clip-path=\"url(#clip02)\" style=\"fill:#000000; stroke:none; fill-opacity:1\" cx=\"160.819\" cy=\"65.6358\" r=\"4\"/>\n",
       "<circle clip-path=\"url(#clip02)\" style=\"fill:#e26f46; stroke:none; fill-opacity:1\" cx=\"160.819\" cy=\"65.6358\" r=\"3\"/>\n",
       "<circle clip-path=\"url(#clip02)\" style=\"fill:#000000; stroke:none; fill-opacity:1\" cx=\"168.377\" cy=\"65.8499\" r=\"4\"/>\n",
       "<circle clip-path=\"url(#clip02)\" style=\"fill:#e26f46; stroke:none; fill-opacity:1\" cx=\"168.377\" cy=\"65.8499\" r=\"3\"/>\n",
       "<circle clip-path=\"url(#clip02)\" style=\"fill:#000000; stroke:none; fill-opacity:1\" cx=\"175.934\" cy=\"65.7057\" r=\"4\"/>\n",
       "<circle clip-path=\"url(#clip02)\" style=\"fill:#e26f46; stroke:none; fill-opacity:1\" cx=\"175.934\" cy=\"65.7057\" r=\"3\"/>\n",
       "<circle clip-path=\"url(#clip02)\" style=\"fill:#000000; stroke:none; fill-opacity:1\" cx=\"183.492\" cy=\"65.8028\" r=\"4\"/>\n",
       "<circle clip-path=\"url(#clip02)\" style=\"fill:#e26f46; stroke:none; fill-opacity:1\" cx=\"183.492\" cy=\"65.8028\" r=\"3\"/>\n",
       "<circle clip-path=\"url(#clip02)\" style=\"fill:#000000; stroke:none; fill-opacity:1\" cx=\"191.049\" cy=\"65.7374\" r=\"4\"/>\n",
       "<circle clip-path=\"url(#clip02)\" style=\"fill:#e26f46; stroke:none; fill-opacity:1\" cx=\"191.049\" cy=\"65.7374\" r=\"3\"/>\n",
       "<circle clip-path=\"url(#clip02)\" style=\"fill:#000000; stroke:none; fill-opacity:1\" cx=\"198.607\" cy=\"65.7814\" r=\"4\"/>\n",
       "<circle clip-path=\"url(#clip02)\" style=\"fill:#e26f46; stroke:none; fill-opacity:1\" cx=\"198.607\" cy=\"65.7814\" r=\"3\"/>\n",
       "<circle clip-path=\"url(#clip02)\" style=\"fill:#000000; stroke:none; fill-opacity:1\" cx=\"206.164\" cy=\"65.7517\" r=\"4\"/>\n",
       "<circle clip-path=\"url(#clip02)\" style=\"fill:#e26f46; stroke:none; fill-opacity:1\" cx=\"206.164\" cy=\"65.7517\" r=\"3\"/>\n",
       "<circle clip-path=\"url(#clip02)\" style=\"fill:#000000; stroke:none; fill-opacity:1\" cx=\"213.722\" cy=\"65.7718\" r=\"4\"/>\n",
       "<circle clip-path=\"url(#clip02)\" style=\"fill:#e26f46; stroke:none; fill-opacity:1\" cx=\"213.722\" cy=\"65.7718\" r=\"3\"/>\n",
       "<circle clip-path=\"url(#clip02)\" style=\"fill:#000000; stroke:none; fill-opacity:1\" cx=\"221.279\" cy=\"65.7583\" r=\"4\"/>\n",
       "<circle clip-path=\"url(#clip02)\" style=\"fill:#e26f46; stroke:none; fill-opacity:1\" cx=\"221.279\" cy=\"65.7583\" r=\"3\"/>\n",
       "<circle clip-path=\"url(#clip02)\" style=\"fill:#000000; stroke:none; fill-opacity:1\" cx=\"228.837\" cy=\"65.7674\" r=\"4\"/>\n",
       "<circle clip-path=\"url(#clip02)\" style=\"fill:#e26f46; stroke:none; fill-opacity:1\" cx=\"228.837\" cy=\"65.7674\" r=\"3\"/>\n",
       "<circle clip-path=\"url(#clip02)\" style=\"fill:#000000; stroke:none; fill-opacity:1\" cx=\"236.394\" cy=\"65.7612\" r=\"4\"/>\n",
       "<circle clip-path=\"url(#clip02)\" style=\"fill:#e26f46; stroke:none; fill-opacity:1\" cx=\"236.394\" cy=\"65.7612\" r=\"3\"/>\n",
       "<circle clip-path=\"url(#clip02)\" style=\"fill:#000000; stroke:none; fill-opacity:1\" cx=\"243.952\" cy=\"65.7654\" r=\"4\"/>\n",
       "<circle clip-path=\"url(#clip02)\" style=\"fill:#e26f46; stroke:none; fill-opacity:1\" cx=\"243.952\" cy=\"65.7654\" r=\"3\"/>\n",
       "<circle clip-path=\"url(#clip02)\" style=\"fill:#000000; stroke:none; fill-opacity:1\" cx=\"251.509\" cy=\"65.7626\" r=\"4\"/>\n",
       "<circle clip-path=\"url(#clip02)\" style=\"fill:#e26f46; stroke:none; fill-opacity:1\" cx=\"251.509\" cy=\"65.7626\" r=\"3\"/>\n",
       "<circle clip-path=\"url(#clip02)\" style=\"fill:#000000; stroke:none; fill-opacity:1\" cx=\"259.067\" cy=\"65.7645\" r=\"4\"/>\n",
       "<circle clip-path=\"url(#clip02)\" style=\"fill:#e26f46; stroke:none; fill-opacity:1\" cx=\"259.067\" cy=\"65.7645\" r=\"3\"/>\n",
       "<circle clip-path=\"url(#clip02)\" style=\"fill:#000000; stroke:none; fill-opacity:1\" cx=\"266.624\" cy=\"65.7632\" r=\"4\"/>\n",
       "<circle clip-path=\"url(#clip02)\" style=\"fill:#e26f46; stroke:none; fill-opacity:1\" cx=\"266.624\" cy=\"65.7632\" r=\"3\"/>\n",
       "<circle clip-path=\"url(#clip02)\" style=\"fill:#000000; stroke:none; fill-opacity:1\" cx=\"274.182\" cy=\"65.764\" r=\"4\"/>\n",
       "<circle clip-path=\"url(#clip02)\" style=\"fill:#e26f46; stroke:none; fill-opacity:1\" cx=\"274.182\" cy=\"65.764\" r=\"3\"/>\n",
       "<circle clip-path=\"url(#clip02)\" style=\"fill:#000000; stroke:none; fill-opacity:1\" cx=\"281.739\" cy=\"65.7635\" r=\"4\"/>\n",
       "<circle clip-path=\"url(#clip02)\" style=\"fill:#e26f46; stroke:none; fill-opacity:1\" cx=\"281.739\" cy=\"65.7635\" r=\"3\"/>\n",
       "<circle clip-path=\"url(#clip02)\" style=\"fill:#000000; stroke:none; fill-opacity:1\" cx=\"289.297\" cy=\"65.7639\" r=\"4\"/>\n",
       "<circle clip-path=\"url(#clip02)\" style=\"fill:#e26f46; stroke:none; fill-opacity:1\" cx=\"289.297\" cy=\"65.7639\" r=\"3\"/>\n",
       "<circle clip-path=\"url(#clip02)\" style=\"fill:#000000; stroke:none; fill-opacity:1\" cx=\"296.854\" cy=\"65.7636\" r=\"4\"/>\n",
       "<circle clip-path=\"url(#clip02)\" style=\"fill:#e26f46; stroke:none; fill-opacity:1\" cx=\"296.854\" cy=\"65.7636\" r=\"3\"/>\n",
       "<circle clip-path=\"url(#clip02)\" style=\"fill:#000000; stroke:none; fill-opacity:1\" cx=\"304.412\" cy=\"65.7638\" r=\"4\"/>\n",
       "<circle clip-path=\"url(#clip02)\" style=\"fill:#e26f46; stroke:none; fill-opacity:1\" cx=\"304.412\" cy=\"65.7638\" r=\"3\"/>\n",
       "<circle clip-path=\"url(#clip02)\" style=\"fill:#000000; stroke:none; fill-opacity:1\" cx=\"311.969\" cy=\"65.7637\" r=\"4\"/>\n",
       "<circle clip-path=\"url(#clip02)\" style=\"fill:#e26f46; stroke:none; fill-opacity:1\" cx=\"311.969\" cy=\"65.7637\" r=\"3\"/>\n",
       "<circle clip-path=\"url(#clip02)\" style=\"fill:#000000; stroke:none; fill-opacity:1\" cx=\"319.527\" cy=\"65.7637\" r=\"4\"/>\n",
       "<circle clip-path=\"url(#clip02)\" style=\"fill:#e26f46; stroke:none; fill-opacity:1\" cx=\"319.527\" cy=\"65.7637\" r=\"3\"/>\n",
       "<circle clip-path=\"url(#clip02)\" style=\"fill:#000000; stroke:none; fill-opacity:1\" cx=\"327.084\" cy=\"65.7637\" r=\"4\"/>\n",
       "<circle clip-path=\"url(#clip02)\" style=\"fill:#e26f46; stroke:none; fill-opacity:1\" cx=\"327.084\" cy=\"65.7637\" r=\"3\"/>\n",
       "<circle clip-path=\"url(#clip02)\" style=\"fill:#000000; stroke:none; fill-opacity:1\" cx=\"334.642\" cy=\"65.7637\" r=\"4\"/>\n",
       "<circle clip-path=\"url(#clip02)\" style=\"fill:#e26f46; stroke:none; fill-opacity:1\" cx=\"334.642\" cy=\"65.7637\" r=\"3\"/>\n",
       "<circle clip-path=\"url(#clip02)\" style=\"fill:#000000; stroke:none; fill-opacity:1\" cx=\"342.199\" cy=\"65.7637\" r=\"4\"/>\n",
       "<circle clip-path=\"url(#clip02)\" style=\"fill:#e26f46; stroke:none; fill-opacity:1\" cx=\"342.199\" cy=\"65.7637\" r=\"3\"/>\n",
       "<circle clip-path=\"url(#clip02)\" style=\"fill:#000000; stroke:none; fill-opacity:1\" cx=\"349.757\" cy=\"65.7637\" r=\"4\"/>\n",
       "<circle clip-path=\"url(#clip02)\" style=\"fill:#e26f46; stroke:none; fill-opacity:1\" cx=\"349.757\" cy=\"65.7637\" r=\"3\"/>\n",
       "<circle clip-path=\"url(#clip02)\" style=\"fill:#000000; stroke:none; fill-opacity:1\" cx=\"357.314\" cy=\"65.7637\" r=\"4\"/>\n",
       "<circle clip-path=\"url(#clip02)\" style=\"fill:#e26f46; stroke:none; fill-opacity:1\" cx=\"357.314\" cy=\"65.7637\" r=\"3\"/>\n",
       "<circle clip-path=\"url(#clip02)\" style=\"fill:#000000; stroke:none; fill-opacity:1\" cx=\"364.872\" cy=\"65.7637\" r=\"4\"/>\n",
       "<circle clip-path=\"url(#clip02)\" style=\"fill:#e26f46; stroke:none; fill-opacity:1\" cx=\"364.872\" cy=\"65.7637\" r=\"3\"/>\n",
       "<circle clip-path=\"url(#clip02)\" style=\"fill:#000000; stroke:none; fill-opacity:1\" cx=\"372.429\" cy=\"65.7637\" r=\"4\"/>\n",
       "<circle clip-path=\"url(#clip02)\" style=\"fill:#e26f46; stroke:none; fill-opacity:1\" cx=\"372.429\" cy=\"65.7637\" r=\"3\"/>\n",
       "<circle clip-path=\"url(#clip02)\" style=\"fill:#000000; stroke:none; fill-opacity:1\" cx=\"379.987\" cy=\"65.7637\" r=\"4\"/>\n",
       "<circle clip-path=\"url(#clip02)\" style=\"fill:#e26f46; stroke:none; fill-opacity:1\" cx=\"379.987\" cy=\"65.7637\" r=\"3\"/>\n",
       "<circle clip-path=\"url(#clip02)\" style=\"fill:#000000; stroke:none; fill-opacity:1\" cx=\"387.544\" cy=\"65.7637\" r=\"4\"/>\n",
       "<circle clip-path=\"url(#clip02)\" style=\"fill:#e26f46; stroke:none; fill-opacity:1\" cx=\"387.544\" cy=\"65.7637\" r=\"3\"/>\n",
       "<circle clip-path=\"url(#clip02)\" style=\"fill:#000000; stroke:none; fill-opacity:1\" cx=\"395.102\" cy=\"65.7637\" r=\"4\"/>\n",
       "<circle clip-path=\"url(#clip02)\" style=\"fill:#e26f46; stroke:none; fill-opacity:1\" cx=\"395.102\" cy=\"65.7637\" r=\"3\"/>\n",
       "<circle clip-path=\"url(#clip02)\" style=\"fill:#000000; stroke:none; fill-opacity:1\" cx=\"402.659\" cy=\"65.7637\" r=\"4\"/>\n",
       "<circle clip-path=\"url(#clip02)\" style=\"fill:#e26f46; stroke:none; fill-opacity:1\" cx=\"402.659\" cy=\"65.7637\" r=\"3\"/>\n",
       "<circle clip-path=\"url(#clip02)\" style=\"fill:#000000; stroke:none; fill-opacity:1\" cx=\"410.217\" cy=\"65.7637\" r=\"4\"/>\n",
       "<circle clip-path=\"url(#clip02)\" style=\"fill:#e26f46; stroke:none; fill-opacity:1\" cx=\"410.217\" cy=\"65.7637\" r=\"3\"/>\n",
       "<circle clip-path=\"url(#clip02)\" style=\"fill:#000000; stroke:none; fill-opacity:1\" cx=\"417.774\" cy=\"65.7637\" r=\"4\"/>\n",
       "<circle clip-path=\"url(#clip02)\" style=\"fill:#e26f46; stroke:none; fill-opacity:1\" cx=\"417.774\" cy=\"65.7637\" r=\"3\"/>\n",
       "<circle clip-path=\"url(#clip02)\" style=\"fill:#000000; stroke:none; fill-opacity:1\" cx=\"425.332\" cy=\"65.7637\" r=\"4\"/>\n",
       "<circle clip-path=\"url(#clip02)\" style=\"fill:#e26f46; stroke:none; fill-opacity:1\" cx=\"425.332\" cy=\"65.7637\" r=\"3\"/>\n",
       "<circle clip-path=\"url(#clip02)\" style=\"fill:#000000; stroke:none; fill-opacity:1\" cx=\"432.889\" cy=\"65.7637\" r=\"4\"/>\n",
       "<circle clip-path=\"url(#clip02)\" style=\"fill:#e26f46; stroke:none; fill-opacity:1\" cx=\"432.889\" cy=\"65.7637\" r=\"3\"/>\n",
       "<circle clip-path=\"url(#clip02)\" style=\"fill:#000000; stroke:none; fill-opacity:1\" cx=\"440.447\" cy=\"65.7637\" r=\"4\"/>\n",
       "<circle clip-path=\"url(#clip02)\" style=\"fill:#e26f46; stroke:none; fill-opacity:1\" cx=\"440.447\" cy=\"65.7637\" r=\"3\"/>\n",
       "<circle clip-path=\"url(#clip02)\" style=\"fill:#000000; stroke:none; fill-opacity:1\" cx=\"448.004\" cy=\"65.7637\" r=\"4\"/>\n",
       "<circle clip-path=\"url(#clip02)\" style=\"fill:#e26f46; stroke:none; fill-opacity:1\" cx=\"448.004\" cy=\"65.7637\" r=\"3\"/>\n",
       "<circle clip-path=\"url(#clip02)\" style=\"fill:#000000; stroke:none; fill-opacity:1\" cx=\"455.562\" cy=\"65.7637\" r=\"4\"/>\n",
       "<circle clip-path=\"url(#clip02)\" style=\"fill:#e26f46; stroke:none; fill-opacity:1\" cx=\"455.562\" cy=\"65.7637\" r=\"3\"/>\n",
       "<circle clip-path=\"url(#clip02)\" style=\"fill:#000000; stroke:none; fill-opacity:1\" cx=\"463.119\" cy=\"65.7637\" r=\"4\"/>\n",
       "<circle clip-path=\"url(#clip02)\" style=\"fill:#e26f46; stroke:none; fill-opacity:1\" cx=\"463.119\" cy=\"65.7637\" r=\"3\"/>\n",
       "<circle clip-path=\"url(#clip02)\" style=\"fill:#000000; stroke:none; fill-opacity:1\" cx=\"470.677\" cy=\"65.7637\" r=\"4\"/>\n",
       "<circle clip-path=\"url(#clip02)\" style=\"fill:#e26f46; stroke:none; fill-opacity:1\" cx=\"470.677\" cy=\"65.7637\" r=\"3\"/>\n",
       "<circle clip-path=\"url(#clip02)\" style=\"fill:#000000; stroke:none; fill-opacity:1\" cx=\"478.234\" cy=\"65.7637\" r=\"4\"/>\n",
       "<circle clip-path=\"url(#clip02)\" style=\"fill:#e26f46; stroke:none; fill-opacity:1\" cx=\"478.234\" cy=\"65.7637\" r=\"3\"/>\n",
       "<circle clip-path=\"url(#clip02)\" style=\"fill:#000000; stroke:none; fill-opacity:1\" cx=\"485.792\" cy=\"65.7637\" r=\"4\"/>\n",
       "<circle clip-path=\"url(#clip02)\" style=\"fill:#e26f46; stroke:none; fill-opacity:1\" cx=\"485.792\" cy=\"65.7637\" r=\"3\"/>\n",
       "<circle clip-path=\"url(#clip02)\" style=\"fill:#000000; stroke:none; fill-opacity:1\" cx=\"493.349\" cy=\"65.7637\" r=\"4\"/>\n",
       "<circle clip-path=\"url(#clip02)\" style=\"fill:#e26f46; stroke:none; fill-opacity:1\" cx=\"493.349\" cy=\"65.7637\" r=\"3\"/>\n",
       "<circle clip-path=\"url(#clip02)\" style=\"fill:#000000; stroke:none; fill-opacity:1\" cx=\"500.907\" cy=\"65.7637\" r=\"4\"/>\n",
       "<circle clip-path=\"url(#clip02)\" style=\"fill:#e26f46; stroke:none; fill-opacity:1\" cx=\"500.907\" cy=\"65.7637\" r=\"3\"/>\n",
       "<circle clip-path=\"url(#clip02)\" style=\"fill:#000000; stroke:none; fill-opacity:1\" cx=\"508.464\" cy=\"65.7637\" r=\"4\"/>\n",
       "<circle clip-path=\"url(#clip02)\" style=\"fill:#e26f46; stroke:none; fill-opacity:1\" cx=\"508.464\" cy=\"65.7637\" r=\"3\"/>\n",
       "<circle clip-path=\"url(#clip02)\" style=\"fill:#000000; stroke:none; fill-opacity:1\" cx=\"516.022\" cy=\"65.7637\" r=\"4\"/>\n",
       "<circle clip-path=\"url(#clip02)\" style=\"fill:#e26f46; stroke:none; fill-opacity:1\" cx=\"516.022\" cy=\"65.7637\" r=\"3\"/>\n",
       "<circle clip-path=\"url(#clip02)\" style=\"fill:#000000; stroke:none; fill-opacity:1\" cx=\"523.579\" cy=\"65.7637\" r=\"4\"/>\n",
       "<circle clip-path=\"url(#clip02)\" style=\"fill:#e26f46; stroke:none; fill-opacity:1\" cx=\"523.579\" cy=\"65.7637\" r=\"3\"/>\n",
       "<circle clip-path=\"url(#clip02)\" style=\"fill:#000000; stroke:none; fill-opacity:1\" cx=\"531.137\" cy=\"65.7637\" r=\"4\"/>\n",
       "<circle clip-path=\"url(#clip02)\" style=\"fill:#e26f46; stroke:none; fill-opacity:1\" cx=\"531.137\" cy=\"65.7637\" r=\"3\"/>\n",
       "<circle clip-path=\"url(#clip02)\" style=\"fill:#000000; stroke:none; fill-opacity:1\" cx=\"538.694\" cy=\"65.7637\" r=\"4\"/>\n",
       "<circle clip-path=\"url(#clip02)\" style=\"fill:#e26f46; stroke:none; fill-opacity:1\" cx=\"538.694\" cy=\"65.7637\" r=\"3\"/>\n",
       "<circle clip-path=\"url(#clip02)\" style=\"fill:#000000; stroke:none; fill-opacity:1\" cx=\"546.252\" cy=\"65.7637\" r=\"4\"/>\n",
       "<circle clip-path=\"url(#clip02)\" style=\"fill:#e26f46; stroke:none; fill-opacity:1\" cx=\"546.252\" cy=\"65.7637\" r=\"3\"/>\n",
       "<circle clip-path=\"url(#clip02)\" style=\"fill:#000000; stroke:none; fill-opacity:1\" cx=\"553.809\" cy=\"65.7637\" r=\"4\"/>\n",
       "<circle clip-path=\"url(#clip02)\" style=\"fill:#e26f46; stroke:none; fill-opacity:1\" cx=\"553.809\" cy=\"65.7637\" r=\"3\"/>\n",
       "<circle clip-path=\"url(#clip02)\" style=\"fill:#000000; stroke:none; fill-opacity:1\" cx=\"561.367\" cy=\"65.7637\" r=\"4\"/>\n",
       "<circle clip-path=\"url(#clip02)\" style=\"fill:#e26f46; stroke:none; fill-opacity:1\" cx=\"561.367\" cy=\"65.7637\" r=\"3\"/>\n",
       "<circle clip-path=\"url(#clip02)\" style=\"fill:#000000; stroke:none; fill-opacity:1\" cx=\"568.924\" cy=\"65.7637\" r=\"4\"/>\n",
       "<circle clip-path=\"url(#clip02)\" style=\"fill:#e26f46; stroke:none; fill-opacity:1\" cx=\"568.924\" cy=\"65.7637\" r=\"3\"/>\n",
       "<circle clip-path=\"url(#clip02)\" style=\"fill:#000000; stroke:none; fill-opacity:1\" cx=\"576.482\" cy=\"65.7637\" r=\"4\"/>\n",
       "<circle clip-path=\"url(#clip02)\" style=\"fill:#e26f46; stroke:none; fill-opacity:1\" cx=\"576.482\" cy=\"65.7637\" r=\"3\"/>\n",
       "<circle clip-path=\"url(#clip02)\" style=\"fill:#000000; stroke:none; fill-opacity:1\" cx=\"55.0141\" cy=\"148.608\" r=\"4\"/>\n",
       "<circle clip-path=\"url(#clip02)\" style=\"fill:#3da44d; stroke:none; fill-opacity:1\" cx=\"55.0141\" cy=\"148.608\" r=\"3\"/>\n",
       "<circle clip-path=\"url(#clip02)\" style=\"fill:#000000; stroke:none; fill-opacity:1\" cx=\"62.5716\" cy=\"25.5711\" r=\"4\"/>\n",
       "<circle clip-path=\"url(#clip02)\" style=\"fill:#3da44d; stroke:none; fill-opacity:1\" cx=\"62.5716\" cy=\"25.5711\" r=\"3\"/>\n",
       "<circle clip-path=\"url(#clip02)\" style=\"fill:#000000; stroke:none; fill-opacity:1\" cx=\"70.1291\" cy=\"95.8866\" r=\"4\"/>\n",
       "<circle clip-path=\"url(#clip02)\" style=\"fill:#3da44d; stroke:none; fill-opacity:1\" cx=\"70.1291\" cy=\"95.8866\" r=\"3\"/>\n",
       "<circle clip-path=\"url(#clip02)\" style=\"fill:#000000; stroke:none; fill-opacity:1\" cx=\"77.6866\" cy=\"47.4043\" r=\"4\"/>\n",
       "<circle clip-path=\"url(#clip02)\" style=\"fill:#3da44d; stroke:none; fill-opacity:1\" cx=\"77.6866\" cy=\"47.4043\" r=\"3\"/>\n",
       "<circle clip-path=\"url(#clip02)\" style=\"fill:#000000; stroke:none; fill-opacity:1\" cx=\"85.2441\" cy=\"78.794\" r=\"4\"/>\n",
       "<circle clip-path=\"url(#clip02)\" style=\"fill:#3da44d; stroke:none; fill-opacity:1\" cx=\"85.2441\" cy=\"78.794\" r=\"3\"/>\n",
       "<circle clip-path=\"url(#clip02)\" style=\"fill:#000000; stroke:none; fill-opacity:1\" cx=\"92.8016\" cy=\"57.3386\" r=\"4\"/>\n",
       "<circle clip-path=\"url(#clip02)\" style=\"fill:#3da44d; stroke:none; fill-opacity:1\" cx=\"92.8016\" cy=\"57.3386\" r=\"3\"/>\n",
       "<circle clip-path=\"url(#clip02)\" style=\"fill:#000000; stroke:none; fill-opacity:1\" cx=\"100.359\" cy=\"71.5811\" r=\"4\"/>\n",
       "<circle clip-path=\"url(#clip02)\" style=\"fill:#3da44d; stroke:none; fill-opacity:1\" cx=\"100.359\" cy=\"71.5811\" r=\"3\"/>\n",
       "<circle clip-path=\"url(#clip02)\" style=\"fill:#000000; stroke:none; fill-opacity:1\" cx=\"107.917\" cy=\"61.9145\" r=\"4\"/>\n",
       "<circle clip-path=\"url(#clip02)\" style=\"fill:#3da44d; stroke:none; fill-opacity:1\" cx=\"107.917\" cy=\"61.9145\" r=\"3\"/>\n",
       "<circle clip-path=\"url(#clip02)\" style=\"fill:#000000; stroke:none; fill-opacity:1\" cx=\"115.474\" cy=\"68.3865\" r=\"4\"/>\n",
       "<circle clip-path=\"url(#clip02)\" style=\"fill:#3da44d; stroke:none; fill-opacity:1\" cx=\"115.474\" cy=\"68.3865\" r=\"3\"/>\n",
       "<circle clip-path=\"url(#clip02)\" style=\"fill:#000000; stroke:none; fill-opacity:1\" cx=\"123.032\" cy=\"64.011\" r=\"4\"/>\n",
       "<circle clip-path=\"url(#clip02)\" style=\"fill:#3da44d; stroke:none; fill-opacity:1\" cx=\"123.032\" cy=\"64.011\" r=\"3\"/>\n",
       "<circle clip-path=\"url(#clip02)\" style=\"fill:#000000; stroke:none; fill-opacity:1\" cx=\"130.589\" cy=\"66.9506\" r=\"4\"/>\n",
       "<circle clip-path=\"url(#clip02)\" style=\"fill:#3da44d; stroke:none; fill-opacity:1\" cx=\"130.589\" cy=\"66.9506\" r=\"3\"/>\n",
       "<circle clip-path=\"url(#clip02)\" style=\"fill:#000000; stroke:none; fill-opacity:1\" cx=\"138.147\" cy=\"64.9671\" r=\"4\"/>\n",
       "<circle clip-path=\"url(#clip02)\" style=\"fill:#3da44d; stroke:none; fill-opacity:1\" cx=\"138.147\" cy=\"64.9671\" r=\"3\"/>\n",
       "<circle clip-path=\"url(#clip02)\" style=\"fill:#000000; stroke:none; fill-opacity:1\" cx=\"145.704\" cy=\"66.3016\" r=\"4\"/>\n",
       "<circle clip-path=\"url(#clip02)\" style=\"fill:#3da44d; stroke:none; fill-opacity:1\" cx=\"145.704\" cy=\"66.3016\" r=\"3\"/>\n",
       "<circle clip-path=\"url(#clip02)\" style=\"fill:#000000; stroke:none; fill-opacity:1\" cx=\"153.262\" cy=\"65.4019\" r=\"4\"/>\n",
       "<circle clip-path=\"url(#clip02)\" style=\"fill:#3da44d; stroke:none; fill-opacity:1\" cx=\"153.262\" cy=\"65.4019\" r=\"3\"/>\n",
       "<circle clip-path=\"url(#clip02)\" style=\"fill:#000000; stroke:none; fill-opacity:1\" cx=\"160.819\" cy=\"66.0076\" r=\"4\"/>\n",
       "<circle clip-path=\"url(#clip02)\" style=\"fill:#3da44d; stroke:none; fill-opacity:1\" cx=\"160.819\" cy=\"66.0076\" r=\"3\"/>\n",
       "<circle clip-path=\"url(#clip02)\" style=\"fill:#000000; stroke:none; fill-opacity:1\" cx=\"168.377\" cy=\"65.5995\" r=\"4\"/>\n",
       "<circle clip-path=\"url(#clip02)\" style=\"fill:#3da44d; stroke:none; fill-opacity:1\" cx=\"168.377\" cy=\"65.5995\" r=\"3\"/>\n",
       "<circle clip-path=\"url(#clip02)\" style=\"fill:#000000; stroke:none; fill-opacity:1\" cx=\"175.934\" cy=\"65.8744\" r=\"4\"/>\n",
       "<circle clip-path=\"url(#clip02)\" style=\"fill:#3da44d; stroke:none; fill-opacity:1\" cx=\"175.934\" cy=\"65.8744\" r=\"3\"/>\n",
       "<circle clip-path=\"url(#clip02)\" style=\"fill:#000000; stroke:none; fill-opacity:1\" cx=\"183.492\" cy=\"65.6892\" r=\"4\"/>\n",
       "<circle clip-path=\"url(#clip02)\" style=\"fill:#3da44d; stroke:none; fill-opacity:1\" cx=\"183.492\" cy=\"65.6892\" r=\"3\"/>\n",
       "<circle clip-path=\"url(#clip02)\" style=\"fill:#000000; stroke:none; fill-opacity:1\" cx=\"191.049\" cy=\"65.8139\" r=\"4\"/>\n",
       "<circle clip-path=\"url(#clip02)\" style=\"fill:#3da44d; stroke:none; fill-opacity:1\" cx=\"191.049\" cy=\"65.8139\" r=\"3\"/>\n",
       "<circle clip-path=\"url(#clip02)\" style=\"fill:#000000; stroke:none; fill-opacity:1\" cx=\"198.607\" cy=\"65.7299\" r=\"4\"/>\n",
       "<circle clip-path=\"url(#clip02)\" style=\"fill:#3da44d; stroke:none; fill-opacity:1\" cx=\"198.607\" cy=\"65.7299\" r=\"3\"/>\n",
       "<circle clip-path=\"url(#clip02)\" style=\"fill:#000000; stroke:none; fill-opacity:1\" cx=\"206.164\" cy=\"65.7865\" r=\"4\"/>\n",
       "<circle clip-path=\"url(#clip02)\" style=\"fill:#3da44d; stroke:none; fill-opacity:1\" cx=\"206.164\" cy=\"65.7865\" r=\"3\"/>\n",
       "<circle clip-path=\"url(#clip02)\" style=\"fill:#000000; stroke:none; fill-opacity:1\" cx=\"213.722\" cy=\"65.7484\" r=\"4\"/>\n",
       "<circle clip-path=\"url(#clip02)\" style=\"fill:#3da44d; stroke:none; fill-opacity:1\" cx=\"213.722\" cy=\"65.7484\" r=\"3\"/>\n",
       "<circle clip-path=\"url(#clip02)\" style=\"fill:#000000; stroke:none; fill-opacity:1\" cx=\"221.279\" cy=\"65.774\" r=\"4\"/>\n",
       "<circle clip-path=\"url(#clip02)\" style=\"fill:#3da44d; stroke:none; fill-opacity:1\" cx=\"221.279\" cy=\"65.774\" r=\"3\"/>\n",
       "<circle clip-path=\"url(#clip02)\" style=\"fill:#000000; stroke:none; fill-opacity:1\" cx=\"228.837\" cy=\"65.7567\" r=\"4\"/>\n",
       "<circle clip-path=\"url(#clip02)\" style=\"fill:#3da44d; stroke:none; fill-opacity:1\" cx=\"228.837\" cy=\"65.7567\" r=\"3\"/>\n",
       "<circle clip-path=\"url(#clip02)\" style=\"fill:#000000; stroke:none; fill-opacity:1\" cx=\"236.394\" cy=\"65.7684\" r=\"4\"/>\n",
       "<circle clip-path=\"url(#clip02)\" style=\"fill:#3da44d; stroke:none; fill-opacity:1\" cx=\"236.394\" cy=\"65.7684\" r=\"3\"/>\n",
       "<circle clip-path=\"url(#clip02)\" style=\"fill:#000000; stroke:none; fill-opacity:1\" cx=\"243.952\" cy=\"65.7605\" r=\"4\"/>\n",
       "<circle clip-path=\"url(#clip02)\" style=\"fill:#3da44d; stroke:none; fill-opacity:1\" cx=\"243.952\" cy=\"65.7605\" r=\"3\"/>\n",
       "<circle clip-path=\"url(#clip02)\" style=\"fill:#000000; stroke:none; fill-opacity:1\" cx=\"251.509\" cy=\"65.7658\" r=\"4\"/>\n",
       "<circle clip-path=\"url(#clip02)\" style=\"fill:#3da44d; stroke:none; fill-opacity:1\" cx=\"251.509\" cy=\"65.7658\" r=\"3\"/>\n",
       "<circle clip-path=\"url(#clip02)\" style=\"fill:#000000; stroke:none; fill-opacity:1\" cx=\"259.067\" cy=\"65.7623\" r=\"4\"/>\n",
       "<circle clip-path=\"url(#clip02)\" style=\"fill:#3da44d; stroke:none; fill-opacity:1\" cx=\"259.067\" cy=\"65.7623\" r=\"3\"/>\n",
       "<circle clip-path=\"url(#clip02)\" style=\"fill:#000000; stroke:none; fill-opacity:1\" cx=\"266.624\" cy=\"65.7647\" r=\"4\"/>\n",
       "<circle clip-path=\"url(#clip02)\" style=\"fill:#3da44d; stroke:none; fill-opacity:1\" cx=\"266.624\" cy=\"65.7647\" r=\"3\"/>\n",
       "<circle clip-path=\"url(#clip02)\" style=\"fill:#000000; stroke:none; fill-opacity:1\" cx=\"274.182\" cy=\"65.763\" r=\"4\"/>\n",
       "<circle clip-path=\"url(#clip02)\" style=\"fill:#3da44d; stroke:none; fill-opacity:1\" cx=\"274.182\" cy=\"65.763\" r=\"3\"/>\n",
       "<circle clip-path=\"url(#clip02)\" style=\"fill:#000000; stroke:none; fill-opacity:1\" cx=\"281.739\" cy=\"65.7641\" r=\"4\"/>\n",
       "<circle clip-path=\"url(#clip02)\" style=\"fill:#3da44d; stroke:none; fill-opacity:1\" cx=\"281.739\" cy=\"65.7641\" r=\"3\"/>\n",
       "<circle clip-path=\"url(#clip02)\" style=\"fill:#000000; stroke:none; fill-opacity:1\" cx=\"289.297\" cy=\"65.7634\" r=\"4\"/>\n",
       "<circle clip-path=\"url(#clip02)\" style=\"fill:#3da44d; stroke:none; fill-opacity:1\" cx=\"289.297\" cy=\"65.7634\" r=\"3\"/>\n",
       "<circle clip-path=\"url(#clip02)\" style=\"fill:#000000; stroke:none; fill-opacity:1\" cx=\"296.854\" cy=\"65.7639\" r=\"4\"/>\n",
       "<circle clip-path=\"url(#clip02)\" style=\"fill:#3da44d; stroke:none; fill-opacity:1\" cx=\"296.854\" cy=\"65.7639\" r=\"3\"/>\n",
       "<circle clip-path=\"url(#clip02)\" style=\"fill:#000000; stroke:none; fill-opacity:1\" cx=\"304.412\" cy=\"65.7636\" r=\"4\"/>\n",
       "<circle clip-path=\"url(#clip02)\" style=\"fill:#3da44d; stroke:none; fill-opacity:1\" cx=\"304.412\" cy=\"65.7636\" r=\"3\"/>\n",
       "<circle clip-path=\"url(#clip02)\" style=\"fill:#000000; stroke:none; fill-opacity:1\" cx=\"311.969\" cy=\"65.7638\" r=\"4\"/>\n",
       "<circle clip-path=\"url(#clip02)\" style=\"fill:#3da44d; stroke:none; fill-opacity:1\" cx=\"311.969\" cy=\"65.7638\" r=\"3\"/>\n",
       "<circle clip-path=\"url(#clip02)\" style=\"fill:#000000; stroke:none; fill-opacity:1\" cx=\"319.527\" cy=\"65.7636\" r=\"4\"/>\n",
       "<circle clip-path=\"url(#clip02)\" style=\"fill:#3da44d; stroke:none; fill-opacity:1\" cx=\"319.527\" cy=\"65.7636\" r=\"3\"/>\n",
       "<circle clip-path=\"url(#clip02)\" style=\"fill:#000000; stroke:none; fill-opacity:1\" cx=\"327.084\" cy=\"65.7637\" r=\"4\"/>\n",
       "<circle clip-path=\"url(#clip02)\" style=\"fill:#3da44d; stroke:none; fill-opacity:1\" cx=\"327.084\" cy=\"65.7637\" r=\"3\"/>\n",
       "<circle clip-path=\"url(#clip02)\" style=\"fill:#000000; stroke:none; fill-opacity:1\" cx=\"334.642\" cy=\"65.7637\" r=\"4\"/>\n",
       "<circle clip-path=\"url(#clip02)\" style=\"fill:#3da44d; stroke:none; fill-opacity:1\" cx=\"334.642\" cy=\"65.7637\" r=\"3\"/>\n",
       "<circle clip-path=\"url(#clip02)\" style=\"fill:#000000; stroke:none; fill-opacity:1\" cx=\"342.199\" cy=\"65.7637\" r=\"4\"/>\n",
       "<circle clip-path=\"url(#clip02)\" style=\"fill:#3da44d; stroke:none; fill-opacity:1\" cx=\"342.199\" cy=\"65.7637\" r=\"3\"/>\n",
       "<circle clip-path=\"url(#clip02)\" style=\"fill:#000000; stroke:none; fill-opacity:1\" cx=\"349.757\" cy=\"65.7637\" r=\"4\"/>\n",
       "<circle clip-path=\"url(#clip02)\" style=\"fill:#3da44d; stroke:none; fill-opacity:1\" cx=\"349.757\" cy=\"65.7637\" r=\"3\"/>\n",
       "<circle clip-path=\"url(#clip02)\" style=\"fill:#000000; stroke:none; fill-opacity:1\" cx=\"357.314\" cy=\"65.7637\" r=\"4\"/>\n",
       "<circle clip-path=\"url(#clip02)\" style=\"fill:#3da44d; stroke:none; fill-opacity:1\" cx=\"357.314\" cy=\"65.7637\" r=\"3\"/>\n",
       "<circle clip-path=\"url(#clip02)\" style=\"fill:#000000; stroke:none; fill-opacity:1\" cx=\"364.872\" cy=\"65.7637\" r=\"4\"/>\n",
       "<circle clip-path=\"url(#clip02)\" style=\"fill:#3da44d; stroke:none; fill-opacity:1\" cx=\"364.872\" cy=\"65.7637\" r=\"3\"/>\n",
       "<circle clip-path=\"url(#clip02)\" style=\"fill:#000000; stroke:none; fill-opacity:1\" cx=\"372.429\" cy=\"65.7637\" r=\"4\"/>\n",
       "<circle clip-path=\"url(#clip02)\" style=\"fill:#3da44d; stroke:none; fill-opacity:1\" cx=\"372.429\" cy=\"65.7637\" r=\"3\"/>\n",
       "<circle clip-path=\"url(#clip02)\" style=\"fill:#000000; stroke:none; fill-opacity:1\" cx=\"379.987\" cy=\"65.7637\" r=\"4\"/>\n",
       "<circle clip-path=\"url(#clip02)\" style=\"fill:#3da44d; stroke:none; fill-opacity:1\" cx=\"379.987\" cy=\"65.7637\" r=\"3\"/>\n",
       "<circle clip-path=\"url(#clip02)\" style=\"fill:#000000; stroke:none; fill-opacity:1\" cx=\"387.544\" cy=\"65.7637\" r=\"4\"/>\n",
       "<circle clip-path=\"url(#clip02)\" style=\"fill:#3da44d; stroke:none; fill-opacity:1\" cx=\"387.544\" cy=\"65.7637\" r=\"3\"/>\n",
       "<circle clip-path=\"url(#clip02)\" style=\"fill:#000000; stroke:none; fill-opacity:1\" cx=\"395.102\" cy=\"65.7637\" r=\"4\"/>\n",
       "<circle clip-path=\"url(#clip02)\" style=\"fill:#3da44d; stroke:none; fill-opacity:1\" cx=\"395.102\" cy=\"65.7637\" r=\"3\"/>\n",
       "<circle clip-path=\"url(#clip02)\" style=\"fill:#000000; stroke:none; fill-opacity:1\" cx=\"402.659\" cy=\"65.7637\" r=\"4\"/>\n",
       "<circle clip-path=\"url(#clip02)\" style=\"fill:#3da44d; stroke:none; fill-opacity:1\" cx=\"402.659\" cy=\"65.7637\" r=\"3\"/>\n",
       "<circle clip-path=\"url(#clip02)\" style=\"fill:#000000; stroke:none; fill-opacity:1\" cx=\"410.217\" cy=\"65.7637\" r=\"4\"/>\n",
       "<circle clip-path=\"url(#clip02)\" style=\"fill:#3da44d; stroke:none; fill-opacity:1\" cx=\"410.217\" cy=\"65.7637\" r=\"3\"/>\n",
       "<circle clip-path=\"url(#clip02)\" style=\"fill:#000000; stroke:none; fill-opacity:1\" cx=\"417.774\" cy=\"65.7637\" r=\"4\"/>\n",
       "<circle clip-path=\"url(#clip02)\" style=\"fill:#3da44d; stroke:none; fill-opacity:1\" cx=\"417.774\" cy=\"65.7637\" r=\"3\"/>\n",
       "<circle clip-path=\"url(#clip02)\" style=\"fill:#000000; stroke:none; fill-opacity:1\" cx=\"425.332\" cy=\"65.7637\" r=\"4\"/>\n",
       "<circle clip-path=\"url(#clip02)\" style=\"fill:#3da44d; stroke:none; fill-opacity:1\" cx=\"425.332\" cy=\"65.7637\" r=\"3\"/>\n",
       "<circle clip-path=\"url(#clip02)\" style=\"fill:#000000; stroke:none; fill-opacity:1\" cx=\"432.889\" cy=\"65.7637\" r=\"4\"/>\n",
       "<circle clip-path=\"url(#clip02)\" style=\"fill:#3da44d; stroke:none; fill-opacity:1\" cx=\"432.889\" cy=\"65.7637\" r=\"3\"/>\n",
       "<circle clip-path=\"url(#clip02)\" style=\"fill:#000000; stroke:none; fill-opacity:1\" cx=\"440.447\" cy=\"65.7637\" r=\"4\"/>\n",
       "<circle clip-path=\"url(#clip02)\" style=\"fill:#3da44d; stroke:none; fill-opacity:1\" cx=\"440.447\" cy=\"65.7637\" r=\"3\"/>\n",
       "<circle clip-path=\"url(#clip02)\" style=\"fill:#000000; stroke:none; fill-opacity:1\" cx=\"448.004\" cy=\"65.7637\" r=\"4\"/>\n",
       "<circle clip-path=\"url(#clip02)\" style=\"fill:#3da44d; stroke:none; fill-opacity:1\" cx=\"448.004\" cy=\"65.7637\" r=\"3\"/>\n",
       "<circle clip-path=\"url(#clip02)\" style=\"fill:#000000; stroke:none; fill-opacity:1\" cx=\"455.562\" cy=\"65.7637\" r=\"4\"/>\n",
       "<circle clip-path=\"url(#clip02)\" style=\"fill:#3da44d; stroke:none; fill-opacity:1\" cx=\"455.562\" cy=\"65.7637\" r=\"3\"/>\n",
       "<circle clip-path=\"url(#clip02)\" style=\"fill:#000000; stroke:none; fill-opacity:1\" cx=\"463.119\" cy=\"65.7637\" r=\"4\"/>\n",
       "<circle clip-path=\"url(#clip02)\" style=\"fill:#3da44d; stroke:none; fill-opacity:1\" cx=\"463.119\" cy=\"65.7637\" r=\"3\"/>\n",
       "<circle clip-path=\"url(#clip02)\" style=\"fill:#000000; stroke:none; fill-opacity:1\" cx=\"470.677\" cy=\"65.7637\" r=\"4\"/>\n",
       "<circle clip-path=\"url(#clip02)\" style=\"fill:#3da44d; stroke:none; fill-opacity:1\" cx=\"470.677\" cy=\"65.7637\" r=\"3\"/>\n",
       "<circle clip-path=\"url(#clip02)\" style=\"fill:#000000; stroke:none; fill-opacity:1\" cx=\"478.234\" cy=\"65.7637\" r=\"4\"/>\n",
       "<circle clip-path=\"url(#clip02)\" style=\"fill:#3da44d; stroke:none; fill-opacity:1\" cx=\"478.234\" cy=\"65.7637\" r=\"3\"/>\n",
       "<circle clip-path=\"url(#clip02)\" style=\"fill:#000000; stroke:none; fill-opacity:1\" cx=\"485.792\" cy=\"65.7637\" r=\"4\"/>\n",
       "<circle clip-path=\"url(#clip02)\" style=\"fill:#3da44d; stroke:none; fill-opacity:1\" cx=\"485.792\" cy=\"65.7637\" r=\"3\"/>\n",
       "<circle clip-path=\"url(#clip02)\" style=\"fill:#000000; stroke:none; fill-opacity:1\" cx=\"493.349\" cy=\"65.7637\" r=\"4\"/>\n",
       "<circle clip-path=\"url(#clip02)\" style=\"fill:#3da44d; stroke:none; fill-opacity:1\" cx=\"493.349\" cy=\"65.7637\" r=\"3\"/>\n",
       "<circle clip-path=\"url(#clip02)\" style=\"fill:#000000; stroke:none; fill-opacity:1\" cx=\"500.907\" cy=\"65.7637\" r=\"4\"/>\n",
       "<circle clip-path=\"url(#clip02)\" style=\"fill:#3da44d; stroke:none; fill-opacity:1\" cx=\"500.907\" cy=\"65.7637\" r=\"3\"/>\n",
       "<circle clip-path=\"url(#clip02)\" style=\"fill:#000000; stroke:none; fill-opacity:1\" cx=\"508.464\" cy=\"65.7637\" r=\"4\"/>\n",
       "<circle clip-path=\"url(#clip02)\" style=\"fill:#3da44d; stroke:none; fill-opacity:1\" cx=\"508.464\" cy=\"65.7637\" r=\"3\"/>\n",
       "<circle clip-path=\"url(#clip02)\" style=\"fill:#000000; stroke:none; fill-opacity:1\" cx=\"516.022\" cy=\"65.7637\" r=\"4\"/>\n",
       "<circle clip-path=\"url(#clip02)\" style=\"fill:#3da44d; stroke:none; fill-opacity:1\" cx=\"516.022\" cy=\"65.7637\" r=\"3\"/>\n",
       "<circle clip-path=\"url(#clip02)\" style=\"fill:#000000; stroke:none; fill-opacity:1\" cx=\"523.579\" cy=\"65.7637\" r=\"4\"/>\n",
       "<circle clip-path=\"url(#clip02)\" style=\"fill:#3da44d; stroke:none; fill-opacity:1\" cx=\"523.579\" cy=\"65.7637\" r=\"3\"/>\n",
       "<circle clip-path=\"url(#clip02)\" style=\"fill:#000000; stroke:none; fill-opacity:1\" cx=\"531.137\" cy=\"65.7637\" r=\"4\"/>\n",
       "<circle clip-path=\"url(#clip02)\" style=\"fill:#3da44d; stroke:none; fill-opacity:1\" cx=\"531.137\" cy=\"65.7637\" r=\"3\"/>\n",
       "<circle clip-path=\"url(#clip02)\" style=\"fill:#000000; stroke:none; fill-opacity:1\" cx=\"538.694\" cy=\"65.7637\" r=\"4\"/>\n",
       "<circle clip-path=\"url(#clip02)\" style=\"fill:#3da44d; stroke:none; fill-opacity:1\" cx=\"538.694\" cy=\"65.7637\" r=\"3\"/>\n",
       "<circle clip-path=\"url(#clip02)\" style=\"fill:#000000; stroke:none; fill-opacity:1\" cx=\"546.252\" cy=\"65.7637\" r=\"4\"/>\n",
       "<circle clip-path=\"url(#clip02)\" style=\"fill:#3da44d; stroke:none; fill-opacity:1\" cx=\"546.252\" cy=\"65.7637\" r=\"3\"/>\n",
       "<circle clip-path=\"url(#clip02)\" style=\"fill:#000000; stroke:none; fill-opacity:1\" cx=\"553.809\" cy=\"65.7637\" r=\"4\"/>\n",
       "<circle clip-path=\"url(#clip02)\" style=\"fill:#3da44d; stroke:none; fill-opacity:1\" cx=\"553.809\" cy=\"65.7637\" r=\"3\"/>\n",
       "<circle clip-path=\"url(#clip02)\" style=\"fill:#000000; stroke:none; fill-opacity:1\" cx=\"561.367\" cy=\"65.7637\" r=\"4\"/>\n",
       "<circle clip-path=\"url(#clip02)\" style=\"fill:#3da44d; stroke:none; fill-opacity:1\" cx=\"561.367\" cy=\"65.7637\" r=\"3\"/>\n",
       "<circle clip-path=\"url(#clip02)\" style=\"fill:#000000; stroke:none; fill-opacity:1\" cx=\"568.924\" cy=\"65.7637\" r=\"4\"/>\n",
       "<circle clip-path=\"url(#clip02)\" style=\"fill:#3da44d; stroke:none; fill-opacity:1\" cx=\"568.924\" cy=\"65.7637\" r=\"3\"/>\n",
       "<circle clip-path=\"url(#clip02)\" style=\"fill:#000000; stroke:none; fill-opacity:1\" cx=\"576.482\" cy=\"65.7637\" r=\"4\"/>\n",
       "<circle clip-path=\"url(#clip02)\" style=\"fill:#3da44d; stroke:none; fill-opacity:1\" cx=\"576.482\" cy=\"65.7637\" r=\"3\"/>\n",
       "<circle clip-path=\"url(#clip02)\" style=\"fill:#000000; stroke:none; fill-opacity:1\" cx=\"55.0141\" cy=\"172.149\" r=\"4\"/>\n",
       "<circle clip-path=\"url(#clip02)\" style=\"fill:#c271d2; stroke:none; fill-opacity:1\" cx=\"55.0141\" cy=\"172.149\" r=\"3\"/>\n",
       "<circle clip-path=\"url(#clip02)\" style=\"fill:#000000; stroke:none; fill-opacity:1\" cx=\"62.5716\" cy=\"20.4614\" r=\"4\"/>\n",
       "<circle clip-path=\"url(#clip02)\" style=\"fill:#c271d2; stroke:none; fill-opacity:1\" cx=\"62.5716\" cy=\"20.4614\" r=\"3\"/>\n",
       "<circle clip-path=\"url(#clip02)\" style=\"fill:#000000; stroke:none; fill-opacity:1\" cx=\"70.1291\" cy=\"100.113\" r=\"4\"/>\n",
       "<circle clip-path=\"url(#clip02)\" style=\"fill:#c271d2; stroke:none; fill-opacity:1\" cx=\"70.1291\" cy=\"100.113\" r=\"3\"/>\n",
       "<circle clip-path=\"url(#clip02)\" style=\"fill:#000000; stroke:none; fill-opacity:1\" cx=\"77.6866\" cy=\"45.1526\" r=\"4\"/>\n",
       "<circle clip-path=\"url(#clip02)\" style=\"fill:#c271d2; stroke:none; fill-opacity:1\" cx=\"77.6866\" cy=\"45.1526\" r=\"3\"/>\n",
       "<circle clip-path=\"url(#clip02)\" style=\"fill:#000000; stroke:none; fill-opacity:1\" cx=\"85.2441\" cy=\"80.48\" r=\"4\"/>\n",
       "<circle clip-path=\"url(#clip02)\" style=\"fill:#c271d2; stroke:none; fill-opacity:1\" cx=\"85.2441\" cy=\"80.48\" r=\"3\"/>\n",
       "<circle clip-path=\"url(#clip02)\" style=\"fill:#000000; stroke:none; fill-opacity:1\" cx=\"92.8016\" cy=\"56.3012\" r=\"4\"/>\n",
       "<circle clip-path=\"url(#clip02)\" style=\"fill:#c271d2; stroke:none; fill-opacity:1\" cx=\"92.8016\" cy=\"56.3012\" r=\"3\"/>\n",
       "<circle clip-path=\"url(#clip02)\" style=\"fill:#000000; stroke:none; fill-opacity:1\" cx=\"100.359\" cy=\"72.3168\" r=\"4\"/>\n",
       "<circle clip-path=\"url(#clip02)\" style=\"fill:#c271d2; stroke:none; fill-opacity:1\" cx=\"100.359\" cy=\"72.3168\" r=\"3\"/>\n",
       "<circle clip-path=\"url(#clip02)\" style=\"fill:#000000; stroke:none; fill-opacity:1\" cx=\"107.917\" cy=\"61.4377\" r=\"4\"/>\n",
       "<circle clip-path=\"url(#clip02)\" style=\"fill:#c271d2; stroke:none; fill-opacity:1\" cx=\"107.917\" cy=\"61.4377\" r=\"3\"/>\n",
       "<circle clip-path=\"url(#clip02)\" style=\"fill:#000000; stroke:none; fill-opacity:1\" cx=\"115.474\" cy=\"68.7155\" r=\"4\"/>\n",
       "<circle clip-path=\"url(#clip02)\" style=\"fill:#c271d2; stroke:none; fill-opacity:1\" cx=\"115.474\" cy=\"68.7155\" r=\"3\"/>\n",
       "<circle clip-path=\"url(#clip02)\" style=\"fill:#000000; stroke:none; fill-opacity:1\" cx=\"123.032\" cy=\"63.7931\" r=\"4\"/>\n",
       "<circle clip-path=\"url(#clip02)\" style=\"fill:#c271d2; stroke:none; fill-opacity:1\" cx=\"123.032\" cy=\"63.7931\" r=\"3\"/>\n",
       "<circle clip-path=\"url(#clip02)\" style=\"fill:#000000; stroke:none; fill-opacity:1\" cx=\"130.589\" cy=\"67.099\" r=\"4\"/>\n",
       "<circle clip-path=\"url(#clip02)\" style=\"fill:#c271d2; stroke:none; fill-opacity:1\" cx=\"130.589\" cy=\"67.099\" r=\"3\"/>\n",
       "<circle clip-path=\"url(#clip02)\" style=\"fill:#000000; stroke:none; fill-opacity:1\" cx=\"138.147\" cy=\"64.8679\" r=\"4\"/>\n",
       "<circle clip-path=\"url(#clip02)\" style=\"fill:#c271d2; stroke:none; fill-opacity:1\" cx=\"138.147\" cy=\"64.8679\" r=\"3\"/>\n",
       "<circle clip-path=\"url(#clip02)\" style=\"fill:#000000; stroke:none; fill-opacity:1\" cx=\"145.704\" cy=\"66.3688\" r=\"4\"/>\n",
       "<circle clip-path=\"url(#clip02)\" style=\"fill:#c271d2; stroke:none; fill-opacity:1\" cx=\"145.704\" cy=\"66.3688\" r=\"3\"/>\n",
       "<circle clip-path=\"url(#clip02)\" style=\"fill:#000000; stroke:none; fill-opacity:1\" cx=\"153.262\" cy=\"65.3569\" r=\"4\"/>\n",
       "<circle clip-path=\"url(#clip02)\" style=\"fill:#c271d2; stroke:none; fill-opacity:1\" cx=\"153.262\" cy=\"65.3569\" r=\"3\"/>\n",
       "<circle clip-path=\"url(#clip02)\" style=\"fill:#000000; stroke:none; fill-opacity:1\" cx=\"160.819\" cy=\"66.0381\" r=\"4\"/>\n",
       "<circle clip-path=\"url(#clip02)\" style=\"fill:#c271d2; stroke:none; fill-opacity:1\" cx=\"160.819\" cy=\"66.0381\" r=\"3\"/>\n",
       "<circle clip-path=\"url(#clip02)\" style=\"fill:#000000; stroke:none; fill-opacity:1\" cx=\"168.377\" cy=\"65.579\" r=\"4\"/>\n",
       "<circle clip-path=\"url(#clip02)\" style=\"fill:#c271d2; stroke:none; fill-opacity:1\" cx=\"168.377\" cy=\"65.579\" r=\"3\"/>\n",
       "<circle clip-path=\"url(#clip02)\" style=\"fill:#000000; stroke:none; fill-opacity:1\" cx=\"175.934\" cy=\"65.8882\" r=\"4\"/>\n",
       "<circle clip-path=\"url(#clip02)\" style=\"fill:#c271d2; stroke:none; fill-opacity:1\" cx=\"175.934\" cy=\"65.8882\" r=\"3\"/>\n",
       "<circle clip-path=\"url(#clip02)\" style=\"fill:#000000; stroke:none; fill-opacity:1\" cx=\"183.492\" cy=\"65.6799\" r=\"4\"/>\n",
       "<circle clip-path=\"url(#clip02)\" style=\"fill:#c271d2; stroke:none; fill-opacity:1\" cx=\"183.492\" cy=\"65.6799\" r=\"3\"/>\n",
       "<circle clip-path=\"url(#clip02)\" style=\"fill:#000000; stroke:none; fill-opacity:1\" cx=\"191.049\" cy=\"65.8202\" r=\"4\"/>\n",
       "<circle clip-path=\"url(#clip02)\" style=\"fill:#c271d2; stroke:none; fill-opacity:1\" cx=\"191.049\" cy=\"65.8202\" r=\"3\"/>\n",
       "<circle clip-path=\"url(#clip02)\" style=\"fill:#000000; stroke:none; fill-opacity:1\" cx=\"198.607\" cy=\"65.7257\" r=\"4\"/>\n",
       "<circle clip-path=\"url(#clip02)\" style=\"fill:#c271d2; stroke:none; fill-opacity:1\" cx=\"198.607\" cy=\"65.7257\" r=\"3\"/>\n",
       "<circle clip-path=\"url(#clip02)\" style=\"fill:#000000; stroke:none; fill-opacity:1\" cx=\"206.164\" cy=\"65.7893\" r=\"4\"/>\n",
       "<circle clip-path=\"url(#clip02)\" style=\"fill:#c271d2; stroke:none; fill-opacity:1\" cx=\"206.164\" cy=\"65.7893\" r=\"3\"/>\n",
       "<circle clip-path=\"url(#clip02)\" style=\"fill:#000000; stroke:none; fill-opacity:1\" cx=\"213.722\" cy=\"65.7464\" r=\"4\"/>\n",
       "<circle clip-path=\"url(#clip02)\" style=\"fill:#c271d2; stroke:none; fill-opacity:1\" cx=\"213.722\" cy=\"65.7464\" r=\"3\"/>\n",
       "<circle clip-path=\"url(#clip02)\" style=\"fill:#000000; stroke:none; fill-opacity:1\" cx=\"221.279\" cy=\"65.7753\" r=\"4\"/>\n",
       "<circle clip-path=\"url(#clip02)\" style=\"fill:#c271d2; stroke:none; fill-opacity:1\" cx=\"221.279\" cy=\"65.7753\" r=\"3\"/>\n",
       "<circle clip-path=\"url(#clip02)\" style=\"fill:#000000; stroke:none; fill-opacity:1\" cx=\"228.837\" cy=\"65.7559\" r=\"4\"/>\n",
       "<circle clip-path=\"url(#clip02)\" style=\"fill:#c271d2; stroke:none; fill-opacity:1\" cx=\"228.837\" cy=\"65.7559\" r=\"3\"/>\n",
       "<circle clip-path=\"url(#clip02)\" style=\"fill:#000000; stroke:none; fill-opacity:1\" cx=\"236.394\" cy=\"65.769\" r=\"4\"/>\n",
       "<circle clip-path=\"url(#clip02)\" style=\"fill:#c271d2; stroke:none; fill-opacity:1\" cx=\"236.394\" cy=\"65.769\" r=\"3\"/>\n",
       "<circle clip-path=\"url(#clip02)\" style=\"fill:#000000; stroke:none; fill-opacity:1\" cx=\"243.952\" cy=\"65.7601\" r=\"4\"/>\n",
       "<circle clip-path=\"url(#clip02)\" style=\"fill:#c271d2; stroke:none; fill-opacity:1\" cx=\"243.952\" cy=\"65.7601\" r=\"3\"/>\n",
       "<circle clip-path=\"url(#clip02)\" style=\"fill:#000000; stroke:none; fill-opacity:1\" cx=\"251.509\" cy=\"65.7661\" r=\"4\"/>\n",
       "<circle clip-path=\"url(#clip02)\" style=\"fill:#c271d2; stroke:none; fill-opacity:1\" cx=\"251.509\" cy=\"65.7661\" r=\"3\"/>\n",
       "<circle clip-path=\"url(#clip02)\" style=\"fill:#000000; stroke:none; fill-opacity:1\" cx=\"259.067\" cy=\"65.7621\" r=\"4\"/>\n",
       "<circle clip-path=\"url(#clip02)\" style=\"fill:#c271d2; stroke:none; fill-opacity:1\" cx=\"259.067\" cy=\"65.7621\" r=\"3\"/>\n",
       "<circle clip-path=\"url(#clip02)\" style=\"fill:#000000; stroke:none; fill-opacity:1\" cx=\"266.624\" cy=\"65.7648\" r=\"4\"/>\n",
       "<circle clip-path=\"url(#clip02)\" style=\"fill:#c271d2; stroke:none; fill-opacity:1\" cx=\"266.624\" cy=\"65.7648\" r=\"3\"/>\n",
       "<circle clip-path=\"url(#clip02)\" style=\"fill:#000000; stroke:none; fill-opacity:1\" cx=\"274.182\" cy=\"65.763\" r=\"4\"/>\n",
       "<circle clip-path=\"url(#clip02)\" style=\"fill:#c271d2; stroke:none; fill-opacity:1\" cx=\"274.182\" cy=\"65.763\" r=\"3\"/>\n",
       "<circle clip-path=\"url(#clip02)\" style=\"fill:#000000; stroke:none; fill-opacity:1\" cx=\"281.739\" cy=\"65.7642\" r=\"4\"/>\n",
       "<circle clip-path=\"url(#clip02)\" style=\"fill:#c271d2; stroke:none; fill-opacity:1\" cx=\"281.739\" cy=\"65.7642\" r=\"3\"/>\n",
       "<circle clip-path=\"url(#clip02)\" style=\"fill:#000000; stroke:none; fill-opacity:1\" cx=\"289.297\" cy=\"65.7634\" r=\"4\"/>\n",
       "<circle clip-path=\"url(#clip02)\" style=\"fill:#c271d2; stroke:none; fill-opacity:1\" cx=\"289.297\" cy=\"65.7634\" r=\"3\"/>\n",
       "<circle clip-path=\"url(#clip02)\" style=\"fill:#000000; stroke:none; fill-opacity:1\" cx=\"296.854\" cy=\"65.7639\" r=\"4\"/>\n",
       "<circle clip-path=\"url(#clip02)\" style=\"fill:#c271d2; stroke:none; fill-opacity:1\" cx=\"296.854\" cy=\"65.7639\" r=\"3\"/>\n",
       "<circle clip-path=\"url(#clip02)\" style=\"fill:#000000; stroke:none; fill-opacity:1\" cx=\"304.412\" cy=\"65.7635\" r=\"4\"/>\n",
       "<circle clip-path=\"url(#clip02)\" style=\"fill:#c271d2; stroke:none; fill-opacity:1\" cx=\"304.412\" cy=\"65.7635\" r=\"3\"/>\n",
       "<circle clip-path=\"url(#clip02)\" style=\"fill:#000000; stroke:none; fill-opacity:1\" cx=\"311.969\" cy=\"65.7638\" r=\"4\"/>\n",
       "<circle clip-path=\"url(#clip02)\" style=\"fill:#c271d2; stroke:none; fill-opacity:1\" cx=\"311.969\" cy=\"65.7638\" r=\"3\"/>\n",
       "<circle clip-path=\"url(#clip02)\" style=\"fill:#000000; stroke:none; fill-opacity:1\" cx=\"319.527\" cy=\"65.7636\" r=\"4\"/>\n",
       "<circle clip-path=\"url(#clip02)\" style=\"fill:#c271d2; stroke:none; fill-opacity:1\" cx=\"319.527\" cy=\"65.7636\" r=\"3\"/>\n",
       "<circle clip-path=\"url(#clip02)\" style=\"fill:#000000; stroke:none; fill-opacity:1\" cx=\"327.084\" cy=\"65.7637\" r=\"4\"/>\n",
       "<circle clip-path=\"url(#clip02)\" style=\"fill:#c271d2; stroke:none; fill-opacity:1\" cx=\"327.084\" cy=\"65.7637\" r=\"3\"/>\n",
       "<circle clip-path=\"url(#clip02)\" style=\"fill:#000000; stroke:none; fill-opacity:1\" cx=\"334.642\" cy=\"65.7637\" r=\"4\"/>\n",
       "<circle clip-path=\"url(#clip02)\" style=\"fill:#c271d2; stroke:none; fill-opacity:1\" cx=\"334.642\" cy=\"65.7637\" r=\"3\"/>\n",
       "<circle clip-path=\"url(#clip02)\" style=\"fill:#000000; stroke:none; fill-opacity:1\" cx=\"342.199\" cy=\"65.7637\" r=\"4\"/>\n",
       "<circle clip-path=\"url(#clip02)\" style=\"fill:#c271d2; stroke:none; fill-opacity:1\" cx=\"342.199\" cy=\"65.7637\" r=\"3\"/>\n",
       "<circle clip-path=\"url(#clip02)\" style=\"fill:#000000; stroke:none; fill-opacity:1\" cx=\"349.757\" cy=\"65.7637\" r=\"4\"/>\n",
       "<circle clip-path=\"url(#clip02)\" style=\"fill:#c271d2; stroke:none; fill-opacity:1\" cx=\"349.757\" cy=\"65.7637\" r=\"3\"/>\n",
       "<circle clip-path=\"url(#clip02)\" style=\"fill:#000000; stroke:none; fill-opacity:1\" cx=\"357.314\" cy=\"65.7637\" r=\"4\"/>\n",
       "<circle clip-path=\"url(#clip02)\" style=\"fill:#c271d2; stroke:none; fill-opacity:1\" cx=\"357.314\" cy=\"65.7637\" r=\"3\"/>\n",
       "<circle clip-path=\"url(#clip02)\" style=\"fill:#000000; stroke:none; fill-opacity:1\" cx=\"364.872\" cy=\"65.7637\" r=\"4\"/>\n",
       "<circle clip-path=\"url(#clip02)\" style=\"fill:#c271d2; stroke:none; fill-opacity:1\" cx=\"364.872\" cy=\"65.7637\" r=\"3\"/>\n",
       "<circle clip-path=\"url(#clip02)\" style=\"fill:#000000; stroke:none; fill-opacity:1\" cx=\"372.429\" cy=\"65.7637\" r=\"4\"/>\n",
       "<circle clip-path=\"url(#clip02)\" style=\"fill:#c271d2; stroke:none; fill-opacity:1\" cx=\"372.429\" cy=\"65.7637\" r=\"3\"/>\n",
       "<circle clip-path=\"url(#clip02)\" style=\"fill:#000000; stroke:none; fill-opacity:1\" cx=\"379.987\" cy=\"65.7637\" r=\"4\"/>\n",
       "<circle clip-path=\"url(#clip02)\" style=\"fill:#c271d2; stroke:none; fill-opacity:1\" cx=\"379.987\" cy=\"65.7637\" r=\"3\"/>\n",
       "<circle clip-path=\"url(#clip02)\" style=\"fill:#000000; stroke:none; fill-opacity:1\" cx=\"387.544\" cy=\"65.7637\" r=\"4\"/>\n",
       "<circle clip-path=\"url(#clip02)\" style=\"fill:#c271d2; stroke:none; fill-opacity:1\" cx=\"387.544\" cy=\"65.7637\" r=\"3\"/>\n",
       "<circle clip-path=\"url(#clip02)\" style=\"fill:#000000; stroke:none; fill-opacity:1\" cx=\"395.102\" cy=\"65.7637\" r=\"4\"/>\n",
       "<circle clip-path=\"url(#clip02)\" style=\"fill:#c271d2; stroke:none; fill-opacity:1\" cx=\"395.102\" cy=\"65.7637\" r=\"3\"/>\n",
       "<circle clip-path=\"url(#clip02)\" style=\"fill:#000000; stroke:none; fill-opacity:1\" cx=\"402.659\" cy=\"65.7637\" r=\"4\"/>\n",
       "<circle clip-path=\"url(#clip02)\" style=\"fill:#c271d2; stroke:none; fill-opacity:1\" cx=\"402.659\" cy=\"65.7637\" r=\"3\"/>\n",
       "<circle clip-path=\"url(#clip02)\" style=\"fill:#000000; stroke:none; fill-opacity:1\" cx=\"410.217\" cy=\"65.7637\" r=\"4\"/>\n",
       "<circle clip-path=\"url(#clip02)\" style=\"fill:#c271d2; stroke:none; fill-opacity:1\" cx=\"410.217\" cy=\"65.7637\" r=\"3\"/>\n",
       "<circle clip-path=\"url(#clip02)\" style=\"fill:#000000; stroke:none; fill-opacity:1\" cx=\"417.774\" cy=\"65.7637\" r=\"4\"/>\n",
       "<circle clip-path=\"url(#clip02)\" style=\"fill:#c271d2; stroke:none; fill-opacity:1\" cx=\"417.774\" cy=\"65.7637\" r=\"3\"/>\n",
       "<circle clip-path=\"url(#clip02)\" style=\"fill:#000000; stroke:none; fill-opacity:1\" cx=\"425.332\" cy=\"65.7637\" r=\"4\"/>\n",
       "<circle clip-path=\"url(#clip02)\" style=\"fill:#c271d2; stroke:none; fill-opacity:1\" cx=\"425.332\" cy=\"65.7637\" r=\"3\"/>\n",
       "<circle clip-path=\"url(#clip02)\" style=\"fill:#000000; stroke:none; fill-opacity:1\" cx=\"432.889\" cy=\"65.7637\" r=\"4\"/>\n",
       "<circle clip-path=\"url(#clip02)\" style=\"fill:#c271d2; stroke:none; fill-opacity:1\" cx=\"432.889\" cy=\"65.7637\" r=\"3\"/>\n",
       "<circle clip-path=\"url(#clip02)\" style=\"fill:#000000; stroke:none; fill-opacity:1\" cx=\"440.447\" cy=\"65.7637\" r=\"4\"/>\n",
       "<circle clip-path=\"url(#clip02)\" style=\"fill:#c271d2; stroke:none; fill-opacity:1\" cx=\"440.447\" cy=\"65.7637\" r=\"3\"/>\n",
       "<circle clip-path=\"url(#clip02)\" style=\"fill:#000000; stroke:none; fill-opacity:1\" cx=\"448.004\" cy=\"65.7637\" r=\"4\"/>\n",
       "<circle clip-path=\"url(#clip02)\" style=\"fill:#c271d2; stroke:none; fill-opacity:1\" cx=\"448.004\" cy=\"65.7637\" r=\"3\"/>\n",
       "<circle clip-path=\"url(#clip02)\" style=\"fill:#000000; stroke:none; fill-opacity:1\" cx=\"455.562\" cy=\"65.7637\" r=\"4\"/>\n",
       "<circle clip-path=\"url(#clip02)\" style=\"fill:#c271d2; stroke:none; fill-opacity:1\" cx=\"455.562\" cy=\"65.7637\" r=\"3\"/>\n",
       "<circle clip-path=\"url(#clip02)\" style=\"fill:#000000; stroke:none; fill-opacity:1\" cx=\"463.119\" cy=\"65.7637\" r=\"4\"/>\n",
       "<circle clip-path=\"url(#clip02)\" style=\"fill:#c271d2; stroke:none; fill-opacity:1\" cx=\"463.119\" cy=\"65.7637\" r=\"3\"/>\n",
       "<circle clip-path=\"url(#clip02)\" style=\"fill:#000000; stroke:none; fill-opacity:1\" cx=\"470.677\" cy=\"65.7637\" r=\"4\"/>\n",
       "<circle clip-path=\"url(#clip02)\" style=\"fill:#c271d2; stroke:none; fill-opacity:1\" cx=\"470.677\" cy=\"65.7637\" r=\"3\"/>\n",
       "<circle clip-path=\"url(#clip02)\" style=\"fill:#000000; stroke:none; fill-opacity:1\" cx=\"478.234\" cy=\"65.7637\" r=\"4\"/>\n",
       "<circle clip-path=\"url(#clip02)\" style=\"fill:#c271d2; stroke:none; fill-opacity:1\" cx=\"478.234\" cy=\"65.7637\" r=\"3\"/>\n",
       "<circle clip-path=\"url(#clip02)\" style=\"fill:#000000; stroke:none; fill-opacity:1\" cx=\"485.792\" cy=\"65.7637\" r=\"4\"/>\n",
       "<circle clip-path=\"url(#clip02)\" style=\"fill:#c271d2; stroke:none; fill-opacity:1\" cx=\"485.792\" cy=\"65.7637\" r=\"3\"/>\n",
       "<circle clip-path=\"url(#clip02)\" style=\"fill:#000000; stroke:none; fill-opacity:1\" cx=\"493.349\" cy=\"65.7637\" r=\"4\"/>\n",
       "<circle clip-path=\"url(#clip02)\" style=\"fill:#c271d2; stroke:none; fill-opacity:1\" cx=\"493.349\" cy=\"65.7637\" r=\"3\"/>\n",
       "<circle clip-path=\"url(#clip02)\" style=\"fill:#000000; stroke:none; fill-opacity:1\" cx=\"500.907\" cy=\"65.7637\" r=\"4\"/>\n",
       "<circle clip-path=\"url(#clip02)\" style=\"fill:#c271d2; stroke:none; fill-opacity:1\" cx=\"500.907\" cy=\"65.7637\" r=\"3\"/>\n",
       "<circle clip-path=\"url(#clip02)\" style=\"fill:#000000; stroke:none; fill-opacity:1\" cx=\"508.464\" cy=\"65.7637\" r=\"4\"/>\n",
       "<circle clip-path=\"url(#clip02)\" style=\"fill:#c271d2; stroke:none; fill-opacity:1\" cx=\"508.464\" cy=\"65.7637\" r=\"3\"/>\n",
       "<circle clip-path=\"url(#clip02)\" style=\"fill:#000000; stroke:none; fill-opacity:1\" cx=\"516.022\" cy=\"65.7637\" r=\"4\"/>\n",
       "<circle clip-path=\"url(#clip02)\" style=\"fill:#c271d2; stroke:none; fill-opacity:1\" cx=\"516.022\" cy=\"65.7637\" r=\"3\"/>\n",
       "<circle clip-path=\"url(#clip02)\" style=\"fill:#000000; stroke:none; fill-opacity:1\" cx=\"523.579\" cy=\"65.7637\" r=\"4\"/>\n",
       "<circle clip-path=\"url(#clip02)\" style=\"fill:#c271d2; stroke:none; fill-opacity:1\" cx=\"523.579\" cy=\"65.7637\" r=\"3\"/>\n",
       "<circle clip-path=\"url(#clip02)\" style=\"fill:#000000; stroke:none; fill-opacity:1\" cx=\"531.137\" cy=\"65.7637\" r=\"4\"/>\n",
       "<circle clip-path=\"url(#clip02)\" style=\"fill:#c271d2; stroke:none; fill-opacity:1\" cx=\"531.137\" cy=\"65.7637\" r=\"3\"/>\n",
       "<circle clip-path=\"url(#clip02)\" style=\"fill:#000000; stroke:none; fill-opacity:1\" cx=\"538.694\" cy=\"65.7637\" r=\"4\"/>\n",
       "<circle clip-path=\"url(#clip02)\" style=\"fill:#c271d2; stroke:none; fill-opacity:1\" cx=\"538.694\" cy=\"65.7637\" r=\"3\"/>\n",
       "<circle clip-path=\"url(#clip02)\" style=\"fill:#000000; stroke:none; fill-opacity:1\" cx=\"546.252\" cy=\"65.7637\" r=\"4\"/>\n",
       "<circle clip-path=\"url(#clip02)\" style=\"fill:#c271d2; stroke:none; fill-opacity:1\" cx=\"546.252\" cy=\"65.7637\" r=\"3\"/>\n",
       "<circle clip-path=\"url(#clip02)\" style=\"fill:#000000; stroke:none; fill-opacity:1\" cx=\"553.809\" cy=\"65.7637\" r=\"4\"/>\n",
       "<circle clip-path=\"url(#clip02)\" style=\"fill:#c271d2; stroke:none; fill-opacity:1\" cx=\"553.809\" cy=\"65.7637\" r=\"3\"/>\n",
       "<circle clip-path=\"url(#clip02)\" style=\"fill:#000000; stroke:none; fill-opacity:1\" cx=\"561.367\" cy=\"65.7637\" r=\"4\"/>\n",
       "<circle clip-path=\"url(#clip02)\" style=\"fill:#c271d2; stroke:none; fill-opacity:1\" cx=\"561.367\" cy=\"65.7637\" r=\"3\"/>\n",
       "<circle clip-path=\"url(#clip02)\" style=\"fill:#000000; stroke:none; fill-opacity:1\" cx=\"568.924\" cy=\"65.7637\" r=\"4\"/>\n",
       "<circle clip-path=\"url(#clip02)\" style=\"fill:#c271d2; stroke:none; fill-opacity:1\" cx=\"568.924\" cy=\"65.7637\" r=\"3\"/>\n",
       "<circle clip-path=\"url(#clip02)\" style=\"fill:#000000; stroke:none; fill-opacity:1\" cx=\"576.482\" cy=\"65.7637\" r=\"4\"/>\n",
       "<circle clip-path=\"url(#clip02)\" style=\"fill:#c271d2; stroke:none; fill-opacity:1\" cx=\"576.482\" cy=\"65.7637\" r=\"3\"/>\n",
       "<polygon clip-path=\"url(#clip00)\" points=\"\n",
       "474.92,104.354 574.126,104.354 574.126,28.754 474.92,28.754 \n",
       "  \" fill=\"#ffffff\" fill-opacity=\"1\"/>\n",
       "<polyline clip-path=\"url(#clip00)\" style=\"stroke:#000000; stroke-width:1; stroke-opacity:1; fill:none\" points=\"\n",
       "  474.92,104.354 574.126,104.354 574.126,28.754 474.92,28.754 474.92,104.354 \n",
       "  \"/>\n",
       "<circle clip-path=\"url(#clip00)\" style=\"fill:#000000; stroke:none; fill-opacity:1\" cx=\"501.92\" cy=\"43.874\" r=\"6\"/>\n",
       "<circle clip-path=\"url(#clip00)\" style=\"fill:#009af9; stroke:none; fill-opacity:1\" cx=\"501.92\" cy=\"43.874\" r=\"5\"/>\n",
       "<g clip-path=\"url(#clip00)\">\n",
       "<text style=\"fill:#000000; fill-opacity:1; font-family:Arial,Helvetica Neue,Helvetica,sans-serif; font-size:12; text-anchor:start;\" transform=\"rotate(0, 522.92, 48.374)\" x=\"522.92\" y=\"48.374\">x0 = 11</text>\n",
       "</g>\n",
       "<circle clip-path=\"url(#clip00)\" style=\"fill:#000000; stroke:none; fill-opacity:1\" cx=\"501.92\" cy=\"58.994\" r=\"6\"/>\n",
       "<circle clip-path=\"url(#clip00)\" style=\"fill:#e26f46; stroke:none; fill-opacity:1\" cx=\"501.92\" cy=\"58.994\" r=\"5\"/>\n",
       "<g clip-path=\"url(#clip00)\">\n",
       "<text style=\"fill:#000000; fill-opacity:1; font-family:Arial,Helvetica Neue,Helvetica,sans-serif; font-size:12; text-anchor:start;\" transform=\"rotate(0, 522.92, 63.494)\" x=\"522.92\" y=\"63.494\">x0 = 9</text>\n",
       "</g>\n",
       "<circle clip-path=\"url(#clip00)\" style=\"fill:#000000; stroke:none; fill-opacity:1\" cx=\"501.92\" cy=\"74.114\" r=\"6\"/>\n",
       "<circle clip-path=\"url(#clip00)\" style=\"fill:#3da44d; stroke:none; fill-opacity:1\" cx=\"501.92\" cy=\"74.114\" r=\"5\"/>\n",
       "<g clip-path=\"url(#clip00)\">\n",
       "<text style=\"fill:#000000; fill-opacity:1; font-family:Arial,Helvetica Neue,Helvetica,sans-serif; font-size:12; text-anchor:start;\" transform=\"rotate(0, 522.92, 78.614)\" x=\"522.92\" y=\"78.614\">x0 = 5</text>\n",
       "</g>\n",
       "<circle clip-path=\"url(#clip00)\" style=\"fill:#000000; stroke:none; fill-opacity:1\" cx=\"501.92\" cy=\"89.234\" r=\"6\"/>\n",
       "<circle clip-path=\"url(#clip00)\" style=\"fill:#c271d2; stroke:none; fill-opacity:1\" cx=\"501.92\" cy=\"89.234\" r=\"5\"/>\n",
       "<g clip-path=\"url(#clip00)\">\n",
       "<text style=\"fill:#000000; fill-opacity:1; font-family:Arial,Helvetica Neue,Helvetica,sans-serif; font-size:12; text-anchor:start;\" transform=\"rotate(0, 522.92, 93.734)\" x=\"522.92\" y=\"93.734\">x0 = 30</text>\n",
       "</g>\n",
       "</svg>\n"
      ]
     },
     "execution_count": 20,
     "metadata": {},
     "output_type": "execute_result"
    }
   ],
   "source": [
    "scatter(iterar(f2, 11, 70), label = \"x0 = 11\")\n",
    "scatter!(iterar(f2, 9, 70), label = \"x0 = 9\")\n",
    "scatter!(iterar(f2, 5, 70), label = \"x0 = 5\")\n",
    "scatter!(iterar(f2, 30, 70), label = \"x0 = 30\")"
   ]
  },
  {
   "cell_type": "markdown",
   "metadata": {},
   "source": [
    "- Aquí podemos observar que sin importar cuál sea el valor inicial `x0` que elijamos, la función `cos(x)` siempre converge al mismo valor."
   ]
  },
  {
   "cell_type": "code",
   "execution_count": 21,
   "metadata": {},
   "outputs": [
    {
     "data": {
      "text/html": [
       "<div id=\"interact-js-shim\">\n",
       "    <script charset=\"utf-8\">\n",
       "(function (IPython, $, _, MathJax) {\n",
       "    $.event.special.destroyed = {\n",
       "\tremove: function(o) {\n",
       "\t    if (o.handler) {\n",
       "\t\to.handler.apply(this, arguments)\n",
       "\t    }\n",
       "\t}\n",
       "    }\n",
       "\n",
       "    var OutputArea = IPython.version >= \"4.0.0\" ? require(\"notebook/js/outputarea\").OutputArea : IPython.OutputArea;\n",
       "\n",
       "    var redrawValue = function (container, type, val) {\n",
       "\tvar selector = $(\"<div/>\");\n",
       "\tvar oa = new OutputArea(_.extend(selector, {\n",
       "\t    selector: selector,\n",
       "\t    prompt_area: true,\n",
       "\t    events: IPython.events,\n",
       "\t    keyboard_manager: IPython.keyboard_manager\n",
       "\t})); // Hack to work with IPython 2.1.0\n",
       "\n",
       "\tswitch (type) {\n",
       "\tcase \"image/png\":\n",
       "            var _src = 'data:' + type + ';base64,' + val;\n",
       "\t    $(container).find(\"img\").attr('src', _src);\n",
       "\t    break;\n",
       "\tcase \"text/latex\":\n",
       "\t\tif (MathJax){\n",
       "\t\t\tvar math = MathJax.Hub.getAllJax(container)[0];\n",
       "\t\t\tMathJax.Hub.Queue([\"Text\", math, val.replace(/^\\${1,2}|\\${1,2}$/g, '')]);\n",
       "\t\t\tbreak;\n",
       "\t\t}\n",
       "\tdefault:\n",
       "\t    var toinsert = OutputArea.append_map[type].apply(\n",
       "\t\toa, [val, {}, selector]\n",
       "\t    );\n",
       "\t    $(container).empty().append(toinsert.contents());\n",
       "\t    selector.remove();\n",
       "\t}\n",
       "    }\n",
       "\n",
       "\n",
       "    $(document).ready(function() {\n",
       "\tfunction initComm(evt, data) {\n",
       "\t    var comm_manager = data.kernel.comm_manager;\n",
       "        //_.extend(comm_manager.targets, require(\"widgets/js/widget\"))\n",
       "\t    comm_manager.register_target(\"Signal\", function (comm) {\n",
       "            comm.on_msg(function (msg) {\n",
       "                var val = msg.content.data.value;\n",
       "                $(\".signal-\" + comm.comm_id).each(function() {\n",
       "                var type = $(this).data(\"type\");\n",
       "                if (typeof(val[type]) !== \"undefined\" && val[type] !== null) {\n",
       "                    redrawValue(this, type, val[type], type);\n",
       "                }\n",
       "                });\n",
       "                delete val;\n",
       "                delete msg.content.data.value;\n",
       "            });\n",
       "\t    });\n",
       "\n",
       "\t    // coordingate with Comm and redraw Signals\n",
       "\t    // XXX: Test using Reactive here to improve performance\n",
       "\t    $([IPython.events]).on(\n",
       "\t\t'output_appended.OutputArea', function (event, type, value, md, toinsert) {\n",
       "\t\t    if (md && md.reactive) {\n",
       "                // console.log(md.comm_id);\n",
       "                toinsert.addClass(\"signal-\" + md.comm_id);\n",
       "                toinsert.data(\"type\", type);\n",
       "                // Signal back indicating the mimetype required\n",
       "                var comm_manager = IPython.notebook.kernel.comm_manager;\n",
       "                var comm = comm_manager.comms[md.comm_id];\n",
       "                comm.then(function (c) {\n",
       "                    c.send({action: \"subscribe_mime\",\n",
       "                       mime: type});\n",
       "                    toinsert.bind(\"destroyed\", function() {\n",
       "                        c.send({action: \"unsubscribe_mime\",\n",
       "                               mime: type});\n",
       "                    });\n",
       "                })\n",
       "\t\t    }\n",
       "\t    });\n",
       "\t}\n",
       "\n",
       "\ttry {\n",
       "\t    // try to initialize right away. otherwise, wait on the status_started event.\n",
       "\t    initComm(undefined, IPython.notebook);\n",
       "\t} catch (e) {\n",
       "\t    $([IPython.events]).on('kernel_created.Kernel kernel_created.Session', initComm);\n",
       "\t}\n",
       "    });\n",
       "})(IPython, jQuery, _, MathJax);\n",
       "</script>\n",
       "    <script>\n",
       "        window.interactLoadedFlag = true\n",
       "       $(\"#interact-js-shim\").bind(\"destroyed\", function () {\n",
       "           if (window.interactLoadedFlag) {\n",
       "               console.warn(\"JavaScript required by Interact will be removed if you remove this cell or run using Interact more than once.\")\n",
       "           }\n",
       "       })\n",
       "       $([IPython.events]).on(\"kernel_starting.Kernel kernel_restarting.Kernel\", function () { window.interactLoadedFlag = false })\n",
       "   </script>\n",
       "</div>"
      ]
     },
     "metadata": {},
     "output_type": "display_data"
    }
   ],
   "source": [
    "using Interact"
   ]
  },
  {
   "cell_type": "code",
   "execution_count": 22,
   "metadata": {},
   "outputs": [
    {
     "data": {
      "text/html": [],
      "text/plain": [
       "Interact.Options{:SelectionSlider,Int64}(1: \"input\" = 25 Int64 , \"x0\", 25, \"25\", Interact.OptionDict(DataStructures.OrderedDict(\"1\"=>1,\"2\"=>2,\"3\"=>3,\"4\"=>4,\"5\"=>5,\"6\"=>6,\"7\"=>7,\"8\"=>8,\"9\"=>9,\"10\"=>10…), Dict(2=>\"2\",11=>\"11\",39=>\"39\",46=>\"46\",25=>\"25\",42=>\"42\",29=>\"29\",8=>\"8\",20=>\"20\",14=>\"14\"…)), Any[], Any[], true, \"horizontal\")"
      ]
     },
     "metadata": {},
     "output_type": "display_data"
    },
    {
     "data": {
      "text/html": [
       "<?xml version=\"1.0\" encoding=\"utf-8\"?>\n",
       "<svg xmlns=\"http://www.w3.org/2000/svg\" xmlns:xlink=\"http://www.w3.org/1999/xlink\" width=\"600\" height=\"400\" viewBox=\"0 0 600 400\">\n",
       "<defs>\n",
       "  <clipPath id=\"clip00\">\n",
       "    <rect x=\"0\" y=\"0\" width=\"600\" height=\"400\"/>\n",
       "  </clipPath>\n",
       "</defs>\n",
       "<polygon clip-path=\"url(#clip00)\" points=\"\n",
       "0,400 600,400 600,0 0,0 \n",
       "  \" fill=\"#ffffff\" fill-opacity=\"1\"/>\n",
       "<defs>\n",
       "  <clipPath id=\"clip01\">\n",
       "    <rect x=\"120\" y=\"0\" width=\"421\" height=\"400\"/>\n",
       "  </clipPath>\n",
       "</defs>\n",
       "<polygon clip-path=\"url(#clip00)\" points=\"\n",
       "39.3701,376.378 592.126,376.378 592.126,7.87402 39.3701,7.87402 \n",
       "  \" fill=\"#ffffff\" fill-opacity=\"1\"/>\n",
       "<defs>\n",
       "  <clipPath id=\"clip02\">\n",
       "    <rect x=\"39\" y=\"7\" width=\"554\" height=\"370\"/>\n",
       "  </clipPath>\n",
       "</defs>\n",
       "<polyline clip-path=\"url(#clip02)\" style=\"stroke:#000000; stroke-width:1; stroke-opacity:0.5; fill:none\" stroke-dasharray=\"1, 2\" points=\"\n",
       "  39.3701,370.85 39.3701,13.4016 \n",
       "  \"/>\n",
       "<polyline clip-path=\"url(#clip02)\" style=\"stroke:#000000; stroke-width:1; stroke-opacity:0.5; fill:none\" stroke-dasharray=\"1, 2\" points=\"\n",
       "  177.559,370.85 177.559,13.4016 \n",
       "  \"/>\n",
       "<polyline clip-path=\"url(#clip02)\" style=\"stroke:#000000; stroke-width:1; stroke-opacity:0.5; fill:none\" stroke-dasharray=\"1, 2\" points=\"\n",
       "  315.748,370.85 315.748,13.4016 \n",
       "  \"/>\n",
       "<polyline clip-path=\"url(#clip02)\" style=\"stroke:#000000; stroke-width:1; stroke-opacity:0.5; fill:none\" stroke-dasharray=\"1, 2\" points=\"\n",
       "  453.937,370.85 453.937,13.4016 \n",
       "  \"/>\n",
       "<polyline clip-path=\"url(#clip02)\" style=\"stroke:#000000; stroke-width:1; stroke-opacity:0.5; fill:none\" stroke-dasharray=\"1, 2\" points=\"\n",
       "  592.126,370.85 592.126,13.4016 \n",
       "  \"/>\n",
       "<polyline clip-path=\"url(#clip02)\" style=\"stroke:#000000; stroke-width:1; stroke-opacity:0.5; fill:none\" stroke-dasharray=\"1, 2\" points=\"\n",
       "  47.6614,312.843 583.835,312.843 \n",
       "  \"/>\n",
       "<polyline clip-path=\"url(#clip02)\" style=\"stroke:#000000; stroke-width:1; stroke-opacity:0.5; fill:none\" stroke-dasharray=\"1, 2\" points=\"\n",
       "  47.6614,185.772 583.835,185.772 \n",
       "  \"/>\n",
       "<polyline clip-path=\"url(#clip02)\" style=\"stroke:#000000; stroke-width:1; stroke-opacity:0.5; fill:none\" stroke-dasharray=\"1, 2\" points=\"\n",
       "  47.6614,58.7021 583.835,58.7021 \n",
       "  \"/>\n",
       "<polyline clip-path=\"url(#clip00)\" style=\"stroke:#000000; stroke-width:1; stroke-opacity:1; fill:none\" points=\"\n",
       "  39.3701,376.378 592.126,376.378 \n",
       "  \"/>\n",
       "<polyline clip-path=\"url(#clip00)\" style=\"stroke:#000000; stroke-width:1; stroke-opacity:1; fill:none\" points=\"\n",
       "  39.3701,376.378 39.3701,370.85 \n",
       "  \"/>\n",
       "<polyline clip-path=\"url(#clip00)\" style=\"stroke:#000000; stroke-width:1; stroke-opacity:1; fill:none\" points=\"\n",
       "  177.559,376.378 177.559,370.85 \n",
       "  \"/>\n",
       "<polyline clip-path=\"url(#clip00)\" style=\"stroke:#000000; stroke-width:1; stroke-opacity:1; fill:none\" points=\"\n",
       "  315.748,376.378 315.748,370.85 \n",
       "  \"/>\n",
       "<polyline clip-path=\"url(#clip00)\" style=\"stroke:#000000; stroke-width:1; stroke-opacity:1; fill:none\" points=\"\n",
       "  453.937,376.378 453.937,370.85 \n",
       "  \"/>\n",
       "<polyline clip-path=\"url(#clip00)\" style=\"stroke:#000000; stroke-width:1; stroke-opacity:1; fill:none\" points=\"\n",
       "  592.126,376.378 592.126,370.85 \n",
       "  \"/>\n",
       "<polyline clip-path=\"url(#clip00)\" style=\"stroke:#000000; stroke-width:1; stroke-opacity:1; fill:none\" points=\"\n",
       "  39.3701,376.378 39.3701,7.87402 \n",
       "  \"/>\n",
       "<polyline clip-path=\"url(#clip00)\" style=\"stroke:#000000; stroke-width:1; stroke-opacity:1; fill:none\" points=\"\n",
       "  39.3701,312.843 47.6614,312.843 \n",
       "  \"/>\n",
       "<polyline clip-path=\"url(#clip00)\" style=\"stroke:#000000; stroke-width:1; stroke-opacity:1; fill:none\" points=\"\n",
       "  39.3701,185.772 47.6614,185.772 \n",
       "  \"/>\n",
       "<polyline clip-path=\"url(#clip00)\" style=\"stroke:#000000; stroke-width:1; stroke-opacity:1; fill:none\" points=\"\n",
       "  39.3701,58.7021 47.6614,58.7021 \n",
       "  \"/>\n",
       "<g clip-path=\"url(#clip00)\">\n",
       "<text style=\"fill:#000000; fill-opacity:1; font-family:Arial,Helvetica Neue,Helvetica,sans-serif; font-size:12; text-anchor:middle;\" transform=\"rotate(0, 39.3701, 390.178)\" x=\"39.3701\" y=\"390.178\">0</text>\n",
       "</g>\n",
       "<g clip-path=\"url(#clip00)\">\n",
       "<text style=\"fill:#000000; fill-opacity:1; font-family:Arial,Helvetica Neue,Helvetica,sans-serif; font-size:12; text-anchor:middle;\" transform=\"rotate(0, 177.559, 390.178)\" x=\"177.559\" y=\"390.178\">5</text>\n",
       "</g>\n",
       "<g clip-path=\"url(#clip00)\">\n",
       "<text style=\"fill:#000000; fill-opacity:1; font-family:Arial,Helvetica Neue,Helvetica,sans-serif; font-size:12; text-anchor:middle;\" transform=\"rotate(0, 315.748, 390.178)\" x=\"315.748\" y=\"390.178\">10</text>\n",
       "</g>\n",
       "<g clip-path=\"url(#clip00)\">\n",
       "<text style=\"fill:#000000; fill-opacity:1; font-family:Arial,Helvetica Neue,Helvetica,sans-serif; font-size:12; text-anchor:middle;\" transform=\"rotate(0, 453.937, 390.178)\" x=\"453.937\" y=\"390.178\">15</text>\n",
       "</g>\n",
       "<g clip-path=\"url(#clip00)\">\n",
       "<text style=\"fill:#000000; fill-opacity:1; font-family:Arial,Helvetica Neue,Helvetica,sans-serif; font-size:12; text-anchor:middle;\" transform=\"rotate(0, 592.126, 390.178)\" x=\"592.126\" y=\"390.178\">20</text>\n",
       "</g>\n",
       "<g clip-path=\"url(#clip00)\">\n",
       "<text style=\"fill:#000000; fill-opacity:1; font-family:Arial,Helvetica Neue,Helvetica,sans-serif; font-size:12; text-anchor:end;\" transform=\"rotate(0, 33.3701, 317.343)\" x=\"33.3701\" y=\"317.343\">0</text>\n",
       "</g>\n",
       "<g clip-path=\"url(#clip00)\">\n",
       "<text style=\"fill:#000000; fill-opacity:1; font-family:Arial,Helvetica Neue,Helvetica,sans-serif; font-size:12; text-anchor:end;\" transform=\"rotate(0, 33.3701, 190.272)\" x=\"33.3701\" y=\"190.272\">10</text>\n",
       "</g>\n",
       "<g clip-path=\"url(#clip00)\">\n",
       "<text style=\"fill:#000000; fill-opacity:1; font-family:Arial,Helvetica Neue,Helvetica,sans-serif; font-size:12; text-anchor:end;\" transform=\"rotate(0, 33.3701, 63.2021)\" x=\"33.3701\" y=\"63.2021\">20</text>\n",
       "</g>\n",
       "<circle clip-path=\"url(#clip02)\" style=\"fill:#000000; stroke:none; fill-opacity:1\" cx=\"67.0079\" cy=\"166.712\" r=\"4\"/>\n",
       "<circle clip-path=\"url(#clip02)\" style=\"fill:#009af9; stroke:none; fill-opacity:1\" cx=\"67.0079\" cy=\"166.712\" r=\"3\"/>\n",
       "<circle clip-path=\"url(#clip02)\" style=\"fill:#000000; stroke:none; fill-opacity:1\" cx=\"94.6457\" cy=\"252.484\" r=\"4\"/>\n",
       "<circle clip-path=\"url(#clip02)\" style=\"fill:#009af9; stroke:none; fill-opacity:1\" cx=\"94.6457\" cy=\"252.484\" r=\"3\"/>\n",
       "<circle clip-path=\"url(#clip02)\" style=\"fill:#000000; stroke:none; fill-opacity:1\" cx=\"122.283\" cy=\"295.371\" r=\"4\"/>\n",
       "<circle clip-path=\"url(#clip02)\" style=\"fill:#009af9; stroke:none; fill-opacity:1\" cx=\"122.283\" cy=\"295.371\" r=\"3\"/>\n",
       "<circle clip-path=\"url(#clip02)\" style=\"fill:#000000; stroke:none; fill-opacity:1\" cx=\"149.921\" cy=\"316.814\" r=\"4\"/>\n",
       "<circle clip-path=\"url(#clip02)\" style=\"fill:#009af9; stroke:none; fill-opacity:1\" cx=\"149.921\" cy=\"316.814\" r=\"3\"/>\n",
       "<circle clip-path=\"url(#clip02)\" style=\"fill:#000000; stroke:none; fill-opacity:1\" cx=\"177.559\" cy=\"327.535\" r=\"4\"/>\n",
       "<circle clip-path=\"url(#clip02)\" style=\"fill:#009af9; stroke:none; fill-opacity:1\" cx=\"177.559\" cy=\"327.535\" r=\"3\"/>\n",
       "<circle clip-path=\"url(#clip02)\" style=\"fill:#000000; stroke:none; fill-opacity:1\" cx=\"205.197\" cy=\"332.896\" r=\"4\"/>\n",
       "<circle clip-path=\"url(#clip02)\" style=\"fill:#009af9; stroke:none; fill-opacity:1\" cx=\"205.197\" cy=\"332.896\" r=\"3\"/>\n",
       "<circle clip-path=\"url(#clip02)\" style=\"fill:#000000; stroke:none; fill-opacity:1\" cx=\"232.835\" cy=\"335.576\" r=\"4\"/>\n",
       "<circle clip-path=\"url(#clip02)\" style=\"fill:#009af9; stroke:none; fill-opacity:1\" cx=\"232.835\" cy=\"335.576\" r=\"3\"/>\n",
       "<circle clip-path=\"url(#clip02)\" style=\"fill:#000000; stroke:none; fill-opacity:1\" cx=\"260.472\" cy=\"336.917\" r=\"4\"/>\n",
       "<circle clip-path=\"url(#clip02)\" style=\"fill:#009af9; stroke:none; fill-opacity:1\" cx=\"260.472\" cy=\"336.917\" r=\"3\"/>\n",
       "<circle clip-path=\"url(#clip02)\" style=\"fill:#000000; stroke:none; fill-opacity:1\" cx=\"288.11\" cy=\"337.587\" r=\"4\"/>\n",
       "<circle clip-path=\"url(#clip02)\" style=\"fill:#009af9; stroke:none; fill-opacity:1\" cx=\"288.11\" cy=\"337.587\" r=\"3\"/>\n",
       "<circle clip-path=\"url(#clip02)\" style=\"fill:#000000; stroke:none; fill-opacity:1\" cx=\"315.748\" cy=\"337.922\" r=\"4\"/>\n",
       "<circle clip-path=\"url(#clip02)\" style=\"fill:#009af9; stroke:none; fill-opacity:1\" cx=\"315.748\" cy=\"337.922\" r=\"3\"/>\n",
       "<circle clip-path=\"url(#clip02)\" style=\"fill:#000000; stroke:none; fill-opacity:1\" cx=\"343.386\" cy=\"338.089\" r=\"4\"/>\n",
       "<circle clip-path=\"url(#clip02)\" style=\"fill:#009af9; stroke:none; fill-opacity:1\" cx=\"343.386\" cy=\"338.089\" r=\"3\"/>\n",
       "<circle clip-path=\"url(#clip02)\" style=\"fill:#000000; stroke:none; fill-opacity:1\" cx=\"371.024\" cy=\"338.173\" r=\"4\"/>\n",
       "<circle clip-path=\"url(#clip02)\" style=\"fill:#009af9; stroke:none; fill-opacity:1\" cx=\"371.024\" cy=\"338.173\" r=\"3\"/>\n",
       "<circle clip-path=\"url(#clip02)\" style=\"fill:#000000; stroke:none; fill-opacity:1\" cx=\"398.661\" cy=\"338.215\" r=\"4\"/>\n",
       "<circle clip-path=\"url(#clip02)\" style=\"fill:#009af9; stroke:none; fill-opacity:1\" cx=\"398.661\" cy=\"338.215\" r=\"3\"/>\n",
       "<circle clip-path=\"url(#clip02)\" style=\"fill:#000000; stroke:none; fill-opacity:1\" cx=\"426.299\" cy=\"338.236\" r=\"4\"/>\n",
       "<circle clip-path=\"url(#clip02)\" style=\"fill:#009af9; stroke:none; fill-opacity:1\" cx=\"426.299\" cy=\"338.236\" r=\"3\"/>\n",
       "<circle clip-path=\"url(#clip02)\" style=\"fill:#000000; stroke:none; fill-opacity:1\" cx=\"453.937\" cy=\"338.246\" r=\"4\"/>\n",
       "<circle clip-path=\"url(#clip02)\" style=\"fill:#009af9; stroke:none; fill-opacity:1\" cx=\"453.937\" cy=\"338.246\" r=\"3\"/>\n",
       "<circle clip-path=\"url(#clip02)\" style=\"fill:#000000; stroke:none; fill-opacity:1\" cx=\"481.575\" cy=\"338.252\" r=\"4\"/>\n",
       "<circle clip-path=\"url(#clip02)\" style=\"fill:#009af9; stroke:none; fill-opacity:1\" cx=\"481.575\" cy=\"338.252\" r=\"3\"/>\n",
       "<circle clip-path=\"url(#clip02)\" style=\"fill:#000000; stroke:none; fill-opacity:1\" cx=\"509.213\" cy=\"338.254\" r=\"4\"/>\n",
       "<circle clip-path=\"url(#clip02)\" style=\"fill:#009af9; stroke:none; fill-opacity:1\" cx=\"509.213\" cy=\"338.254\" r=\"3\"/>\n",
       "<circle clip-path=\"url(#clip02)\" style=\"fill:#000000; stroke:none; fill-opacity:1\" cx=\"536.85\" cy=\"338.256\" r=\"4\"/>\n",
       "<circle clip-path=\"url(#clip02)\" style=\"fill:#009af9; stroke:none; fill-opacity:1\" cx=\"536.85\" cy=\"338.256\" r=\"3\"/>\n",
       "<circle clip-path=\"url(#clip02)\" style=\"fill:#000000; stroke:none; fill-opacity:1\" cx=\"564.488\" cy=\"338.256\" r=\"4\"/>\n",
       "<circle clip-path=\"url(#clip02)\" style=\"fill:#009af9; stroke:none; fill-opacity:1\" cx=\"564.488\" cy=\"338.256\" r=\"3\"/>\n",
       "<circle clip-path=\"url(#clip02)\" style=\"fill:#000000; stroke:none; fill-opacity:1\" cx=\"592.126\" cy=\"338.257\" r=\"4\"/>\n",
       "<circle clip-path=\"url(#clip02)\" style=\"fill:#009af9; stroke:none; fill-opacity:1\" cx=\"592.126\" cy=\"338.257\" r=\"3\"/>\n",
       "<polygon clip-path=\"url(#clip00)\" points=\"\n",
       "501.61,58.994 574.126,58.994 574.126,28.754 501.61,28.754 \n",
       "  \" fill=\"#ffffff\" fill-opacity=\"1\"/>\n",
       "<polyline clip-path=\"url(#clip00)\" style=\"stroke:#000000; stroke-width:1; stroke-opacity:1; fill:none\" points=\"\n",
       "  501.61,58.994 574.126,58.994 574.126,28.754 501.61,28.754 501.61,58.994 \n",
       "  \"/>\n",
       "<circle clip-path=\"url(#clip00)\" style=\"fill:#000000; stroke:none; fill-opacity:1\" cx=\"528.61\" cy=\"43.874\" r=\"6\"/>\n",
       "<circle clip-path=\"url(#clip00)\" style=\"fill:#009af9; stroke:none; fill-opacity:1\" cx=\"528.61\" cy=\"43.874\" r=\"5\"/>\n",
       "<g clip-path=\"url(#clip00)\">\n",
       "<text style=\"fill:#000000; fill-opacity:1; font-family:Arial,Helvetica Neue,Helvetica,sans-serif; font-size:12; text-anchor:start;\" transform=\"rotate(0, 549.61, 48.374)\" x=\"549.61\" y=\"48.374\">y1</text>\n",
       "</g>\n",
       "</svg>\n"
      ]
     },
     "execution_count": 22,
     "metadata": {
      "comm_id": "e8e5c448-114f-4b8c-add7-00b1d65abbca",
      "reactive": true
     },
     "output_type": "execute_result"
    }
   ],
   "source": [
    "@manipulate for x0 in 1:1:50\n",
    "    scatter(iterar(f1, x0, 20),xlim=(0,20),ylim=(-5,24))\n",
    "end"
   ]
  },
  {
   "cell_type": "code",
   "execution_count": 23,
   "metadata": {},
   "outputs": [
    {
     "data": {
      "text/html": [],
      "text/plain": [
       "Interact.Options{:SelectionSlider,Int64}(5: \"input-2\" = 25 Int64 , \"x0\", 25, \"25\", Interact.OptionDict(DataStructures.OrderedDict(\"1\"=>1,\"2\"=>2,\"3\"=>3,\"4\"=>4,\"5\"=>5,\"6\"=>6,\"7\"=>7,\"8\"=>8,\"9\"=>9,\"10\"=>10…), Dict(2=>\"2\",11=>\"11\",39=>\"39\",46=>\"46\",25=>\"25\",42=>\"42\",29=>\"29\",8=>\"8\",20=>\"20\",14=>\"14\"…)), Any[], Any[], true, \"horizontal\")"
      ]
     },
     "metadata": {},
     "output_type": "display_data"
    },
    {
     "data": {
      "text/html": [
       "<?xml version=\"1.0\" encoding=\"utf-8\"?>\n",
       "<svg xmlns=\"http://www.w3.org/2000/svg\" xmlns:xlink=\"http://www.w3.org/1999/xlink\" width=\"600\" height=\"400\" viewBox=\"0 0 600 400\">\n",
       "<defs>\n",
       "  <clipPath id=\"clip00\">\n",
       "    <rect x=\"0\" y=\"0\" width=\"600\" height=\"400\"/>\n",
       "  </clipPath>\n",
       "</defs>\n",
       "<polygon clip-path=\"url(#clip00)\" points=\"\n",
       "0,400 600,400 600,0 0,0 \n",
       "  \" fill=\"#ffffff\" fill-opacity=\"1\"/>\n",
       "<defs>\n",
       "  <clipPath id=\"clip01\">\n",
       "    <rect x=\"120\" y=\"0\" width=\"421\" height=\"400\"/>\n",
       "  </clipPath>\n",
       "</defs>\n",
       "<polygon clip-path=\"url(#clip00)\" points=\"\n",
       "39.3701,376.378 592.126,376.378 592.126,7.87402 39.3701,7.87402 \n",
       "  \" fill=\"#ffffff\" fill-opacity=\"1\"/>\n",
       "<defs>\n",
       "  <clipPath id=\"clip02\">\n",
       "    <rect x=\"39\" y=\"7\" width=\"554\" height=\"370\"/>\n",
       "  </clipPath>\n",
       "</defs>\n",
       "<polyline clip-path=\"url(#clip02)\" style=\"stroke:#000000; stroke-width:1; stroke-opacity:0.5; fill:none\" stroke-dasharray=\"1, 2\" points=\"\n",
       "  39.3701,370.85 39.3701,13.4016 \n",
       "  \"/>\n",
       "<polyline clip-path=\"url(#clip02)\" style=\"stroke:#000000; stroke-width:1; stroke-opacity:0.5; fill:none\" stroke-dasharray=\"1, 2\" points=\"\n",
       "  177.559,370.85 177.559,13.4016 \n",
       "  \"/>\n",
       "<polyline clip-path=\"url(#clip02)\" style=\"stroke:#000000; stroke-width:1; stroke-opacity:0.5; fill:none\" stroke-dasharray=\"1, 2\" points=\"\n",
       "  315.748,370.85 315.748,13.4016 \n",
       "  \"/>\n",
       "<polyline clip-path=\"url(#clip02)\" style=\"stroke:#000000; stroke-width:1; stroke-opacity:0.5; fill:none\" stroke-dasharray=\"1, 2\" points=\"\n",
       "  453.937,370.85 453.937,13.4016 \n",
       "  \"/>\n",
       "<polyline clip-path=\"url(#clip02)\" style=\"stroke:#000000; stroke-width:1; stroke-opacity:0.5; fill:none\" stroke-dasharray=\"1, 2\" points=\"\n",
       "  592.126,370.85 592.126,13.4016 \n",
       "  \"/>\n",
       "<polyline clip-path=\"url(#clip02)\" style=\"stroke:#000000; stroke-width:1; stroke-opacity:0.5; fill:none\" stroke-dasharray=\"1, 2\" points=\"\n",
       "  47.6614,312.843 583.835,312.843 \n",
       "  \"/>\n",
       "<polyline clip-path=\"url(#clip02)\" style=\"stroke:#000000; stroke-width:1; stroke-opacity:0.5; fill:none\" stroke-dasharray=\"1, 2\" points=\"\n",
       "  47.6614,185.772 583.835,185.772 \n",
       "  \"/>\n",
       "<polyline clip-path=\"url(#clip02)\" style=\"stroke:#000000; stroke-width:1; stroke-opacity:0.5; fill:none\" stroke-dasharray=\"1, 2\" points=\"\n",
       "  47.6614,58.7021 583.835,58.7021 \n",
       "  \"/>\n",
       "<polyline clip-path=\"url(#clip00)\" style=\"stroke:#000000; stroke-width:1; stroke-opacity:1; fill:none\" points=\"\n",
       "  39.3701,376.378 592.126,376.378 \n",
       "  \"/>\n",
       "<polyline clip-path=\"url(#clip00)\" style=\"stroke:#000000; stroke-width:1; stroke-opacity:1; fill:none\" points=\"\n",
       "  39.3701,376.378 39.3701,370.85 \n",
       "  \"/>\n",
       "<polyline clip-path=\"url(#clip00)\" style=\"stroke:#000000; stroke-width:1; stroke-opacity:1; fill:none\" points=\"\n",
       "  177.559,376.378 177.559,370.85 \n",
       "  \"/>\n",
       "<polyline clip-path=\"url(#clip00)\" style=\"stroke:#000000; stroke-width:1; stroke-opacity:1; fill:none\" points=\"\n",
       "  315.748,376.378 315.748,370.85 \n",
       "  \"/>\n",
       "<polyline clip-path=\"url(#clip00)\" style=\"stroke:#000000; stroke-width:1; stroke-opacity:1; fill:none\" points=\"\n",
       "  453.937,376.378 453.937,370.85 \n",
       "  \"/>\n",
       "<polyline clip-path=\"url(#clip00)\" style=\"stroke:#000000; stroke-width:1; stroke-opacity:1; fill:none\" points=\"\n",
       "  592.126,376.378 592.126,370.85 \n",
       "  \"/>\n",
       "<polyline clip-path=\"url(#clip00)\" style=\"stroke:#000000; stroke-width:1; stroke-opacity:1; fill:none\" points=\"\n",
       "  39.3701,376.378 39.3701,7.87402 \n",
       "  \"/>\n",
       "<polyline clip-path=\"url(#clip00)\" style=\"stroke:#000000; stroke-width:1; stroke-opacity:1; fill:none\" points=\"\n",
       "  39.3701,312.843 47.6614,312.843 \n",
       "  \"/>\n",
       "<polyline clip-path=\"url(#clip00)\" style=\"stroke:#000000; stroke-width:1; stroke-opacity:1; fill:none\" points=\"\n",
       "  39.3701,185.772 47.6614,185.772 \n",
       "  \"/>\n",
       "<polyline clip-path=\"url(#clip00)\" style=\"stroke:#000000; stroke-width:1; stroke-opacity:1; fill:none\" points=\"\n",
       "  39.3701,58.7021 47.6614,58.7021 \n",
       "  \"/>\n",
       "<g clip-path=\"url(#clip00)\">\n",
       "<text style=\"fill:#000000; fill-opacity:1; font-family:Arial,Helvetica Neue,Helvetica,sans-serif; font-size:12; text-anchor:middle;\" transform=\"rotate(0, 39.3701, 390.178)\" x=\"39.3701\" y=\"390.178\">0</text>\n",
       "</g>\n",
       "<g clip-path=\"url(#clip00)\">\n",
       "<text style=\"fill:#000000; fill-opacity:1; font-family:Arial,Helvetica Neue,Helvetica,sans-serif; font-size:12; text-anchor:middle;\" transform=\"rotate(0, 177.559, 390.178)\" x=\"177.559\" y=\"390.178\">5</text>\n",
       "</g>\n",
       "<g clip-path=\"url(#clip00)\">\n",
       "<text style=\"fill:#000000; fill-opacity:1; font-family:Arial,Helvetica Neue,Helvetica,sans-serif; font-size:12; text-anchor:middle;\" transform=\"rotate(0, 315.748, 390.178)\" x=\"315.748\" y=\"390.178\">10</text>\n",
       "</g>\n",
       "<g clip-path=\"url(#clip00)\">\n",
       "<text style=\"fill:#000000; fill-opacity:1; font-family:Arial,Helvetica Neue,Helvetica,sans-serif; font-size:12; text-anchor:middle;\" transform=\"rotate(0, 453.937, 390.178)\" x=\"453.937\" y=\"390.178\">15</text>\n",
       "</g>\n",
       "<g clip-path=\"url(#clip00)\">\n",
       "<text style=\"fill:#000000; fill-opacity:1; font-family:Arial,Helvetica Neue,Helvetica,sans-serif; font-size:12; text-anchor:middle;\" transform=\"rotate(0, 592.126, 390.178)\" x=\"592.126\" y=\"390.178\">20</text>\n",
       "</g>\n",
       "<g clip-path=\"url(#clip00)\">\n",
       "<text style=\"fill:#000000; fill-opacity:1; font-family:Arial,Helvetica Neue,Helvetica,sans-serif; font-size:12; text-anchor:end;\" transform=\"rotate(0, 33.3701, 317.343)\" x=\"33.3701\" y=\"317.343\">0</text>\n",
       "</g>\n",
       "<g clip-path=\"url(#clip00)\">\n",
       "<text style=\"fill:#000000; fill-opacity:1; font-family:Arial,Helvetica Neue,Helvetica,sans-serif; font-size:12; text-anchor:end;\" transform=\"rotate(0, 33.3701, 190.272)\" x=\"33.3701\" y=\"190.272\">10</text>\n",
       "</g>\n",
       "<g clip-path=\"url(#clip00)\">\n",
       "<text style=\"fill:#000000; fill-opacity:1; font-family:Arial,Helvetica Neue,Helvetica,sans-serif; font-size:12; text-anchor:end;\" transform=\"rotate(0, 33.3701, 63.2021)\" x=\"33.3701\" y=\"63.2021\">20</text>\n",
       "</g>\n",
       "<circle clip-path=\"url(#clip02)\" style=\"fill:#000000; stroke:none; fill-opacity:1\" cx=\"67.0079\" cy=\"300.248\" r=\"4\"/>\n",
       "<circle clip-path=\"url(#clip02)\" style=\"fill:#009af9; stroke:none; fill-opacity:1\" cx=\"67.0079\" cy=\"300.248\" r=\"3\"/>\n",
       "<circle clip-path=\"url(#clip02)\" style=\"fill:#000000; stroke:none; fill-opacity:1\" cx=\"94.6457\" cy=\"305.883\" r=\"4\"/>\n",
       "<circle clip-path=\"url(#clip02)\" style=\"fill:#009af9; stroke:none; fill-opacity:1\" cx=\"94.6457\" cy=\"305.883\" r=\"3\"/>\n",
       "<circle clip-path=\"url(#clip02)\" style=\"fill:#000000; stroke:none; fill-opacity:1\" cx=\"122.283\" cy=\"301.994\" r=\"4\"/>\n",
       "<circle clip-path=\"url(#clip02)\" style=\"fill:#009af9; stroke:none; fill-opacity:1\" cx=\"122.283\" cy=\"301.994\" r=\"3\"/>\n",
       "<circle clip-path=\"url(#clip02)\" style=\"fill:#000000; stroke:none; fill-opacity:1\" cx=\"149.921\" cy=\"304.492\" r=\"4\"/>\n",
       "<circle clip-path=\"url(#clip02)\" style=\"fill:#009af9; stroke:none; fill-opacity:1\" cx=\"149.921\" cy=\"304.492\" r=\"3\"/>\n",
       "<circle clip-path=\"url(#clip02)\" style=\"fill:#000000; stroke:none; fill-opacity:1\" cx=\"177.559\" cy=\"302.782\" r=\"4\"/>\n",
       "<circle clip-path=\"url(#clip02)\" style=\"fill:#009af9; stroke:none; fill-opacity:1\" cx=\"177.559\" cy=\"302.782\" r=\"3\"/>\n",
       "<circle clip-path=\"url(#clip02)\" style=\"fill:#000000; stroke:none; fill-opacity:1\" cx=\"205.197\" cy=\"303.915\" r=\"4\"/>\n",
       "<circle clip-path=\"url(#clip02)\" style=\"fill:#009af9; stroke:none; fill-opacity:1\" cx=\"205.197\" cy=\"303.915\" r=\"3\"/>\n",
       "<circle clip-path=\"url(#clip02)\" style=\"fill:#000000; stroke:none; fill-opacity:1\" cx=\"232.835\" cy=\"303.145\" r=\"4\"/>\n",
       "<circle clip-path=\"url(#clip02)\" style=\"fill:#009af9; stroke:none; fill-opacity:1\" cx=\"232.835\" cy=\"303.145\" r=\"3\"/>\n",
       "<circle clip-path=\"url(#clip02)\" style=\"fill:#000000; stroke:none; fill-opacity:1\" cx=\"260.472\" cy=\"303.66\" r=\"4\"/>\n",
       "<circle clip-path=\"url(#clip02)\" style=\"fill:#009af9; stroke:none; fill-opacity:1\" cx=\"260.472\" cy=\"303.66\" r=\"3\"/>\n",
       "<circle clip-path=\"url(#clip02)\" style=\"fill:#000000; stroke:none; fill-opacity:1\" cx=\"288.11\" cy=\"303.312\" r=\"4\"/>\n",
       "<circle clip-path=\"url(#clip02)\" style=\"fill:#009af9; stroke:none; fill-opacity:1\" cx=\"288.11\" cy=\"303.312\" r=\"3\"/>\n",
       "<circle clip-path=\"url(#clip02)\" style=\"fill:#000000; stroke:none; fill-opacity:1\" cx=\"315.748\" cy=\"303.546\" r=\"4\"/>\n",
       "<circle clip-path=\"url(#clip02)\" style=\"fill:#009af9; stroke:none; fill-opacity:1\" cx=\"315.748\" cy=\"303.546\" r=\"3\"/>\n",
       "<circle clip-path=\"url(#clip02)\" style=\"fill:#000000; stroke:none; fill-opacity:1\" cx=\"343.386\" cy=\"303.388\" r=\"4\"/>\n",
       "<circle clip-path=\"url(#clip02)\" style=\"fill:#009af9; stroke:none; fill-opacity:1\" cx=\"343.386\" cy=\"303.388\" r=\"3\"/>\n",
       "<circle clip-path=\"url(#clip02)\" style=\"fill:#000000; stroke:none; fill-opacity:1\" cx=\"371.024\" cy=\"303.494\" r=\"4\"/>\n",
       "<circle clip-path=\"url(#clip02)\" style=\"fill:#009af9; stroke:none; fill-opacity:1\" cx=\"371.024\" cy=\"303.494\" r=\"3\"/>\n",
       "<circle clip-path=\"url(#clip02)\" style=\"fill:#000000; stroke:none; fill-opacity:1\" cx=\"398.661\" cy=\"303.422\" r=\"4\"/>\n",
       "<circle clip-path=\"url(#clip02)\" style=\"fill:#009af9; stroke:none; fill-opacity:1\" cx=\"398.661\" cy=\"303.422\" r=\"3\"/>\n",
       "<circle clip-path=\"url(#clip02)\" style=\"fill:#000000; stroke:none; fill-opacity:1\" cx=\"426.299\" cy=\"303.471\" r=\"4\"/>\n",
       "<circle clip-path=\"url(#clip02)\" style=\"fill:#009af9; stroke:none; fill-opacity:1\" cx=\"426.299\" cy=\"303.471\" r=\"3\"/>\n",
       "<circle clip-path=\"url(#clip02)\" style=\"fill:#000000; stroke:none; fill-opacity:1\" cx=\"453.937\" cy=\"303.438\" r=\"4\"/>\n",
       "<circle clip-path=\"url(#clip02)\" style=\"fill:#009af9; stroke:none; fill-opacity:1\" cx=\"453.937\" cy=\"303.438\" r=\"3\"/>\n",
       "<circle clip-path=\"url(#clip02)\" style=\"fill:#000000; stroke:none; fill-opacity:1\" cx=\"481.575\" cy=\"303.46\" r=\"4\"/>\n",
       "<circle clip-path=\"url(#clip02)\" style=\"fill:#009af9; stroke:none; fill-opacity:1\" cx=\"481.575\" cy=\"303.46\" r=\"3\"/>\n",
       "<circle clip-path=\"url(#clip02)\" style=\"fill:#000000; stroke:none; fill-opacity:1\" cx=\"509.213\" cy=\"303.445\" r=\"4\"/>\n",
       "<circle clip-path=\"url(#clip02)\" style=\"fill:#009af9; stroke:none; fill-opacity:1\" cx=\"509.213\" cy=\"303.445\" r=\"3\"/>\n",
       "<circle clip-path=\"url(#clip02)\" style=\"fill:#000000; stroke:none; fill-opacity:1\" cx=\"536.85\" cy=\"303.455\" r=\"4\"/>\n",
       "<circle clip-path=\"url(#clip02)\" style=\"fill:#009af9; stroke:none; fill-opacity:1\" cx=\"536.85\" cy=\"303.455\" r=\"3\"/>\n",
       "<circle clip-path=\"url(#clip02)\" style=\"fill:#000000; stroke:none; fill-opacity:1\" cx=\"564.488\" cy=\"303.449\" r=\"4\"/>\n",
       "<circle clip-path=\"url(#clip02)\" style=\"fill:#009af9; stroke:none; fill-opacity:1\" cx=\"564.488\" cy=\"303.449\" r=\"3\"/>\n",
       "<circle clip-path=\"url(#clip02)\" style=\"fill:#000000; stroke:none; fill-opacity:1\" cx=\"592.126\" cy=\"303.453\" r=\"4\"/>\n",
       "<circle clip-path=\"url(#clip02)\" style=\"fill:#009af9; stroke:none; fill-opacity:1\" cx=\"592.126\" cy=\"303.453\" r=\"3\"/>\n",
       "<polygon clip-path=\"url(#clip00)\" points=\"\n",
       "501.61,58.994 574.126,58.994 574.126,28.754 501.61,28.754 \n",
       "  \" fill=\"#ffffff\" fill-opacity=\"1\"/>\n",
       "<polyline clip-path=\"url(#clip00)\" style=\"stroke:#000000; stroke-width:1; stroke-opacity:1; fill:none\" points=\"\n",
       "  501.61,58.994 574.126,58.994 574.126,28.754 501.61,28.754 501.61,58.994 \n",
       "  \"/>\n",
       "<circle clip-path=\"url(#clip00)\" style=\"fill:#000000; stroke:none; fill-opacity:1\" cx=\"528.61\" cy=\"43.874\" r=\"6\"/>\n",
       "<circle clip-path=\"url(#clip00)\" style=\"fill:#009af9; stroke:none; fill-opacity:1\" cx=\"528.61\" cy=\"43.874\" r=\"5\"/>\n",
       "<g clip-path=\"url(#clip00)\">\n",
       "<text style=\"fill:#000000; fill-opacity:1; font-family:Arial,Helvetica Neue,Helvetica,sans-serif; font-size:12; text-anchor:start;\" transform=\"rotate(0, 549.61, 48.374)\" x=\"549.61\" y=\"48.374\">y1</text>\n",
       "</g>\n",
       "</svg>\n"
      ]
     },
     "execution_count": 23,
     "metadata": {
      "comm_id": "c574d69f-a2e8-4c70-9d56-98673cf81b5c",
      "reactive": true
     },
     "output_type": "execute_result"
    }
   ],
   "source": [
    "@manipulate for x0 in 1:1:50\n",
    "    scatter(iterar(f2, x0, 20),xlim=(0,20),ylim=(-5,24))\n",
    "end"
   ]
  },
  {
   "cell_type": "markdown",
   "metadata": {},
   "source": [
    "**[4]** ¿Qué ocurre si iteras la función $f_3(x) = 2x + 1$?"
   ]
  },
  {
   "cell_type": "code",
   "execution_count": 24,
   "metadata": {},
   "outputs": [
    {
     "data": {
      "text/plain": [
       "f3 (generic function with 1 method)"
      ]
     },
     "execution_count": 24,
     "metadata": {},
     "output_type": "execute_result"
    }
   ],
   "source": [
    "f3(x) = 2x + 1"
   ]
  },
  {
   "cell_type": "code",
   "execution_count": 25,
   "metadata": {},
   "outputs": [
    {
     "data": {
      "text/plain": [
       "10-element Array{Any,1}:\n",
       "    3\n",
       "    7\n",
       "   15\n",
       "   31\n",
       "   63\n",
       "  127\n",
       "  255\n",
       "  511\n",
       " 1023\n",
       " 2047"
      ]
     },
     "execution_count": 25,
     "metadata": {},
     "output_type": "execute_result"
    }
   ],
   "source": [
    "iterar(f3, 1, 10)"
   ]
  },
  {
   "cell_type": "code",
   "execution_count": 26,
   "metadata": {},
   "outputs": [
    {
     "data": {
      "text/html": [],
      "text/plain": [
       "Interact.Options{:SelectionSlider,Int64}(9: \"input-3\" = 25 Int64 , \"x0\", 25, \"25\", Interact.OptionDict(DataStructures.OrderedDict(\"1\"=>1,\"2\"=>2,\"3\"=>3,\"4\"=>4,\"5\"=>5,\"6\"=>6,\"7\"=>7,\"8\"=>8,\"9\"=>9,\"10\"=>10…), Dict(2=>\"2\",11=>\"11\",39=>\"39\",46=>\"46\",25=>\"25\",42=>\"42\",29=>\"29\",8=>\"8\",20=>\"20\",14=>\"14\"…)), Any[], Any[], true, \"horizontal\")"
      ]
     },
     "metadata": {},
     "output_type": "display_data"
    },
    {
     "data": {
      "text/html": [
       "<?xml version=\"1.0\" encoding=\"utf-8\"?>\n",
       "<svg xmlns=\"http://www.w3.org/2000/svg\" xmlns:xlink=\"http://www.w3.org/1999/xlink\" width=\"600\" height=\"400\" viewBox=\"0 0 600 400\">\n",
       "<defs>\n",
       "  <clipPath id=\"clip00\">\n",
       "    <rect x=\"0\" y=\"0\" width=\"600\" height=\"400\"/>\n",
       "  </clipPath>\n",
       "</defs>\n",
       "<polygon clip-path=\"url(#clip00)\" points=\"\n",
       "0,400 600,400 600,0 0,0 \n",
       "  \" fill=\"#ffffff\" fill-opacity=\"1\"/>\n",
       "<defs>\n",
       "  <clipPath id=\"clip01\">\n",
       "    <rect x=\"120\" y=\"0\" width=\"421\" height=\"400\"/>\n",
       "  </clipPath>\n",
       "</defs>\n",
       "<polygon clip-path=\"url(#clip00)\" points=\"\n",
       "39.3701,376.378 592.126,376.378 592.126,7.87402 39.3701,7.87402 \n",
       "  \" fill=\"#ffffff\" fill-opacity=\"1\"/>\n",
       "<defs>\n",
       "  <clipPath id=\"clip02\">\n",
       "    <rect x=\"39\" y=\"7\" width=\"554\" height=\"370\"/>\n",
       "  </clipPath>\n",
       "</defs>\n",
       "<polyline clip-path=\"url(#clip02)\" style=\"stroke:#000000; stroke-width:1; stroke-opacity:0.5; fill:none\" stroke-dasharray=\"1, 2\" points=\"\n",
       "  39.3701,370.85 39.3701,13.4016 \n",
       "  \"/>\n",
       "<polyline clip-path=\"url(#clip02)\" style=\"stroke:#000000; stroke-width:1; stroke-opacity:0.5; fill:none\" stroke-dasharray=\"1, 2\" points=\"\n",
       "  177.559,370.85 177.559,13.4016 \n",
       "  \"/>\n",
       "<polyline clip-path=\"url(#clip02)\" style=\"stroke:#000000; stroke-width:1; stroke-opacity:0.5; fill:none\" stroke-dasharray=\"1, 2\" points=\"\n",
       "  315.748,370.85 315.748,13.4016 \n",
       "  \"/>\n",
       "<polyline clip-path=\"url(#clip02)\" style=\"stroke:#000000; stroke-width:1; stroke-opacity:0.5; fill:none\" stroke-dasharray=\"1, 2\" points=\"\n",
       "  453.937,370.85 453.937,13.4016 \n",
       "  \"/>\n",
       "<polyline clip-path=\"url(#clip02)\" style=\"stroke:#000000; stroke-width:1; stroke-opacity:0.5; fill:none\" stroke-dasharray=\"1, 2\" points=\"\n",
       "  592.126,370.85 592.126,13.4016 \n",
       "  \"/>\n",
       "<polyline clip-path=\"url(#clip02)\" style=\"stroke:#000000; stroke-width:1; stroke-opacity:0.5; fill:none\" stroke-dasharray=\"1, 2\" points=\"\n",
       "  47.6614,376.378 583.835,376.378 \n",
       "  \"/>\n",
       "<polyline clip-path=\"url(#clip02)\" style=\"stroke:#000000; stroke-width:1; stroke-opacity:0.5; fill:none\" stroke-dasharray=\"1, 2\" points=\"\n",
       "  47.6614,314.961 583.835,314.961 \n",
       "  \"/>\n",
       "<polyline clip-path=\"url(#clip02)\" style=\"stroke:#000000; stroke-width:1; stroke-opacity:0.5; fill:none\" stroke-dasharray=\"1, 2\" points=\"\n",
       "  47.6614,253.543 583.835,253.543 \n",
       "  \"/>\n",
       "<polyline clip-path=\"url(#clip02)\" style=\"stroke:#000000; stroke-width:1; stroke-opacity:0.5; fill:none\" stroke-dasharray=\"1, 2\" points=\"\n",
       "  47.6614,192.126 583.835,192.126 \n",
       "  \"/>\n",
       "<polyline clip-path=\"url(#clip02)\" style=\"stroke:#000000; stroke-width:1; stroke-opacity:0.5; fill:none\" stroke-dasharray=\"1, 2\" points=\"\n",
       "  47.6614,130.709 583.835,130.709 \n",
       "  \"/>\n",
       "<polyline clip-path=\"url(#clip02)\" style=\"stroke:#000000; stroke-width:1; stroke-opacity:0.5; fill:none\" stroke-dasharray=\"1, 2\" points=\"\n",
       "  47.6614,69.2913 583.835,69.2913 \n",
       "  \"/>\n",
       "<polyline clip-path=\"url(#clip02)\" style=\"stroke:#000000; stroke-width:1; stroke-opacity:0.5; fill:none\" stroke-dasharray=\"1, 2\" points=\"\n",
       "  47.6614,7.87402 583.835,7.87402 \n",
       "  \"/>\n",
       "<polyline clip-path=\"url(#clip00)\" style=\"stroke:#000000; stroke-width:1; stroke-opacity:1; fill:none\" points=\"\n",
       "  39.3701,376.378 592.126,376.378 \n",
       "  \"/>\n",
       "<polyline clip-path=\"url(#clip00)\" style=\"stroke:#000000; stroke-width:1; stroke-opacity:1; fill:none\" points=\"\n",
       "  39.3701,376.378 39.3701,370.85 \n",
       "  \"/>\n",
       "<polyline clip-path=\"url(#clip00)\" style=\"stroke:#000000; stroke-width:1; stroke-opacity:1; fill:none\" points=\"\n",
       "  177.559,376.378 177.559,370.85 \n",
       "  \"/>\n",
       "<polyline clip-path=\"url(#clip00)\" style=\"stroke:#000000; stroke-width:1; stroke-opacity:1; fill:none\" points=\"\n",
       "  315.748,376.378 315.748,370.85 \n",
       "  \"/>\n",
       "<polyline clip-path=\"url(#clip00)\" style=\"stroke:#000000; stroke-width:1; stroke-opacity:1; fill:none\" points=\"\n",
       "  453.937,376.378 453.937,370.85 \n",
       "  \"/>\n",
       "<polyline clip-path=\"url(#clip00)\" style=\"stroke:#000000; stroke-width:1; stroke-opacity:1; fill:none\" points=\"\n",
       "  592.126,376.378 592.126,370.85 \n",
       "  \"/>\n",
       "<polyline clip-path=\"url(#clip00)\" style=\"stroke:#000000; stroke-width:1; stroke-opacity:1; fill:none\" points=\"\n",
       "  39.3701,376.378 39.3701,7.87402 \n",
       "  \"/>\n",
       "<polyline clip-path=\"url(#clip00)\" style=\"stroke:#000000; stroke-width:1; stroke-opacity:1; fill:none\" points=\"\n",
       "  39.3701,376.378 47.6614,376.378 \n",
       "  \"/>\n",
       "<polyline clip-path=\"url(#clip00)\" style=\"stroke:#000000; stroke-width:1; stroke-opacity:1; fill:none\" points=\"\n",
       "  39.3701,314.961 47.6614,314.961 \n",
       "  \"/>\n",
       "<polyline clip-path=\"url(#clip00)\" style=\"stroke:#000000; stroke-width:1; stroke-opacity:1; fill:none\" points=\"\n",
       "  39.3701,253.543 47.6614,253.543 \n",
       "  \"/>\n",
       "<polyline clip-path=\"url(#clip00)\" style=\"stroke:#000000; stroke-width:1; stroke-opacity:1; fill:none\" points=\"\n",
       "  39.3701,192.126 47.6614,192.126 \n",
       "  \"/>\n",
       "<polyline clip-path=\"url(#clip00)\" style=\"stroke:#000000; stroke-width:1; stroke-opacity:1; fill:none\" points=\"\n",
       "  39.3701,130.709 47.6614,130.709 \n",
       "  \"/>\n",
       "<polyline clip-path=\"url(#clip00)\" style=\"stroke:#000000; stroke-width:1; stroke-opacity:1; fill:none\" points=\"\n",
       "  39.3701,69.2913 47.6614,69.2913 \n",
       "  \"/>\n",
       "<polyline clip-path=\"url(#clip00)\" style=\"stroke:#000000; stroke-width:1; stroke-opacity:1; fill:none\" points=\"\n",
       "  39.3701,7.87402 47.6614,7.87402 \n",
       "  \"/>\n",
       "<g clip-path=\"url(#clip00)\">\n",
       "<text style=\"fill:#000000; fill-opacity:1; font-family:Arial,Helvetica Neue,Helvetica,sans-serif; font-size:12; text-anchor:middle;\" transform=\"rotate(0, 39.3701, 390.178)\" x=\"39.3701\" y=\"390.178\">0</text>\n",
       "</g>\n",
       "<g clip-path=\"url(#clip00)\">\n",
       "<text style=\"fill:#000000; fill-opacity:1; font-family:Arial,Helvetica Neue,Helvetica,sans-serif; font-size:12; text-anchor:middle;\" transform=\"rotate(0, 177.559, 390.178)\" x=\"177.559\" y=\"390.178\">5</text>\n",
       "</g>\n",
       "<g clip-path=\"url(#clip00)\">\n",
       "<text style=\"fill:#000000; fill-opacity:1; font-family:Arial,Helvetica Neue,Helvetica,sans-serif; font-size:12; text-anchor:middle;\" transform=\"rotate(0, 315.748, 390.178)\" x=\"315.748\" y=\"390.178\">10</text>\n",
       "</g>\n",
       "<g clip-path=\"url(#clip00)\">\n",
       "<text style=\"fill:#000000; fill-opacity:1; font-family:Arial,Helvetica Neue,Helvetica,sans-serif; font-size:12; text-anchor:middle;\" transform=\"rotate(0, 453.937, 390.178)\" x=\"453.937\" y=\"390.178\">15</text>\n",
       "</g>\n",
       "<g clip-path=\"url(#clip00)\">\n",
       "<text style=\"fill:#000000; fill-opacity:1; font-family:Arial,Helvetica Neue,Helvetica,sans-serif; font-size:12; text-anchor:middle;\" transform=\"rotate(0, 592.126, 390.178)\" x=\"592.126\" y=\"390.178\">20</text>\n",
       "</g>\n",
       "<g clip-path=\"url(#clip00)\">\n",
       "<text style=\"fill:#000000; fill-opacity:1; font-family:Arial,Helvetica Neue,Helvetica,sans-serif; font-size:12; text-anchor:end;\" transform=\"rotate(0, 33.3701, 380.878)\" x=\"33.3701\" y=\"380.878\">0</text>\n",
       "</g>\n",
       "<g clip-path=\"url(#clip00)\">\n",
       "<text style=\"fill:#000000; fill-opacity:1; font-family:Arial,Helvetica Neue,Helvetica,sans-serif; font-size:12; text-anchor:end;\" transform=\"rotate(0, 33.3701, 319.461)\" x=\"33.3701\" y=\"319.461\">5000000</text>\n",
       "</g>\n",
       "<g clip-path=\"url(#clip00)\">\n",
       "<text style=\"fill:#000000; fill-opacity:1; font-family:Arial,Helvetica Neue,Helvetica,sans-serif; font-size:12; text-anchor:end;\" transform=\"rotate(0, 33.3701, 258.043)\" x=\"33.3701\" y=\"258.043\">10000000</text>\n",
       "</g>\n",
       "<g clip-path=\"url(#clip00)\">\n",
       "<text style=\"fill:#000000; fill-opacity:1; font-family:Arial,Helvetica Neue,Helvetica,sans-serif; font-size:12; text-anchor:end;\" transform=\"rotate(0, 33.3701, 196.626)\" x=\"33.3701\" y=\"196.626\">15000000</text>\n",
       "</g>\n",
       "<g clip-path=\"url(#clip00)\">\n",
       "<text style=\"fill:#000000; fill-opacity:1; font-family:Arial,Helvetica Neue,Helvetica,sans-serif; font-size:12; text-anchor:end;\" transform=\"rotate(0, 33.3701, 135.209)\" x=\"33.3701\" y=\"135.209\">20000000</text>\n",
       "</g>\n",
       "<g clip-path=\"url(#clip00)\">\n",
       "<text style=\"fill:#000000; fill-opacity:1; font-family:Arial,Helvetica Neue,Helvetica,sans-serif; font-size:12; text-anchor:end;\" transform=\"rotate(0, 33.3701, 73.7913)\" x=\"33.3701\" y=\"73.7913\">25000000</text>\n",
       "</g>\n",
       "<g clip-path=\"url(#clip00)\">\n",
       "<text style=\"fill:#000000; fill-opacity:1; font-family:Arial,Helvetica Neue,Helvetica,sans-serif; font-size:12; text-anchor:end;\" transform=\"rotate(0, 33.3701, 12.374)\" x=\"33.3701\" y=\"12.374\">30000000</text>\n",
       "</g>\n",
       "<circle clip-path=\"url(#clip02)\" style=\"fill:#000000; stroke:none; fill-opacity:1\" cx=\"67.0079\" cy=\"376.377\" r=\"4\"/>\n",
       "<circle clip-path=\"url(#clip02)\" style=\"fill:#009af9; stroke:none; fill-opacity:1\" cx=\"67.0079\" cy=\"376.377\" r=\"3\"/>\n",
       "<circle clip-path=\"url(#clip02)\" style=\"fill:#000000; stroke:none; fill-opacity:1\" cx=\"94.6457\" cy=\"376.377\" r=\"4\"/>\n",
       "<circle clip-path=\"url(#clip02)\" style=\"fill:#009af9; stroke:none; fill-opacity:1\" cx=\"94.6457\" cy=\"376.377\" r=\"3\"/>\n",
       "<circle clip-path=\"url(#clip02)\" style=\"fill:#000000; stroke:none; fill-opacity:1\" cx=\"122.283\" cy=\"376.375\" r=\"4\"/>\n",
       "<circle clip-path=\"url(#clip02)\" style=\"fill:#009af9; stroke:none; fill-opacity:1\" cx=\"122.283\" cy=\"376.375\" r=\"3\"/>\n",
       "<circle clip-path=\"url(#clip02)\" style=\"fill:#000000; stroke:none; fill-opacity:1\" cx=\"149.921\" cy=\"376.373\" r=\"4\"/>\n",
       "<circle clip-path=\"url(#clip02)\" style=\"fill:#009af9; stroke:none; fill-opacity:1\" cx=\"149.921\" cy=\"376.373\" r=\"3\"/>\n",
       "<circle clip-path=\"url(#clip02)\" style=\"fill:#000000; stroke:none; fill-opacity:1\" cx=\"177.559\" cy=\"376.368\" r=\"4\"/>\n",
       "<circle clip-path=\"url(#clip02)\" style=\"fill:#009af9; stroke:none; fill-opacity:1\" cx=\"177.559\" cy=\"376.368\" r=\"3\"/>\n",
       "<circle clip-path=\"url(#clip02)\" style=\"fill:#000000; stroke:none; fill-opacity:1\" cx=\"205.197\" cy=\"376.358\" r=\"4\"/>\n",
       "<circle clip-path=\"url(#clip02)\" style=\"fill:#009af9; stroke:none; fill-opacity:1\" cx=\"205.197\" cy=\"376.358\" r=\"3\"/>\n",
       "<circle clip-path=\"url(#clip02)\" style=\"fill:#000000; stroke:none; fill-opacity:1\" cx=\"232.835\" cy=\"376.337\" r=\"4\"/>\n",
       "<circle clip-path=\"url(#clip02)\" style=\"fill:#009af9; stroke:none; fill-opacity:1\" cx=\"232.835\" cy=\"376.337\" r=\"3\"/>\n",
       "<circle clip-path=\"url(#clip02)\" style=\"fill:#000000; stroke:none; fill-opacity:1\" cx=\"260.472\" cy=\"376.296\" r=\"4\"/>\n",
       "<circle clip-path=\"url(#clip02)\" style=\"fill:#009af9; stroke:none; fill-opacity:1\" cx=\"260.472\" cy=\"376.296\" r=\"3\"/>\n",
       "<circle clip-path=\"url(#clip02)\" style=\"fill:#000000; stroke:none; fill-opacity:1\" cx=\"288.11\" cy=\"376.214\" r=\"4\"/>\n",
       "<circle clip-path=\"url(#clip02)\" style=\"fill:#009af9; stroke:none; fill-opacity:1\" cx=\"288.11\" cy=\"376.214\" r=\"3\"/>\n",
       "<circle clip-path=\"url(#clip02)\" style=\"fill:#000000; stroke:none; fill-opacity:1\" cx=\"315.748\" cy=\"376.051\" r=\"4\"/>\n",
       "<circle clip-path=\"url(#clip02)\" style=\"fill:#009af9; stroke:none; fill-opacity:1\" cx=\"315.748\" cy=\"376.051\" r=\"3\"/>\n",
       "<circle clip-path=\"url(#clip02)\" style=\"fill:#000000; stroke:none; fill-opacity:1\" cx=\"343.386\" cy=\"375.724\" r=\"4\"/>\n",
       "<circle clip-path=\"url(#clip02)\" style=\"fill:#009af9; stroke:none; fill-opacity:1\" cx=\"343.386\" cy=\"375.724\" r=\"3\"/>\n",
       "<circle clip-path=\"url(#clip02)\" style=\"fill:#000000; stroke:none; fill-opacity:1\" cx=\"371.024\" cy=\"375.07\" r=\"4\"/>\n",
       "<circle clip-path=\"url(#clip02)\" style=\"fill:#009af9; stroke:none; fill-opacity:1\" cx=\"371.024\" cy=\"375.07\" r=\"3\"/>\n",
       "<circle clip-path=\"url(#clip02)\" style=\"fill:#000000; stroke:none; fill-opacity:1\" cx=\"398.661\" cy=\"373.762\" r=\"4\"/>\n",
       "<circle clip-path=\"url(#clip02)\" style=\"fill:#009af9; stroke:none; fill-opacity:1\" cx=\"398.661\" cy=\"373.762\" r=\"3\"/>\n",
       "<circle clip-path=\"url(#clip02)\" style=\"fill:#000000; stroke:none; fill-opacity:1\" cx=\"426.299\" cy=\"371.145\" r=\"4\"/>\n",
       "<circle clip-path=\"url(#clip02)\" style=\"fill:#009af9; stroke:none; fill-opacity:1\" cx=\"426.299\" cy=\"371.145\" r=\"3\"/>\n",
       "<circle clip-path=\"url(#clip02)\" style=\"fill:#000000; stroke:none; fill-opacity:1\" cx=\"453.937\" cy=\"365.913\" r=\"4\"/>\n",
       "<circle clip-path=\"url(#clip02)\" style=\"fill:#009af9; stroke:none; fill-opacity:1\" cx=\"453.937\" cy=\"365.913\" r=\"3\"/>\n",
       "<circle clip-path=\"url(#clip02)\" style=\"fill:#000000; stroke:none; fill-opacity:1\" cx=\"481.575\" cy=\"355.448\" r=\"4\"/>\n",
       "<circle clip-path=\"url(#clip02)\" style=\"fill:#009af9; stroke:none; fill-opacity:1\" cx=\"481.575\" cy=\"355.448\" r=\"3\"/>\n",
       "<circle clip-path=\"url(#clip02)\" style=\"fill:#000000; stroke:none; fill-opacity:1\" cx=\"509.213\" cy=\"334.517\" r=\"4\"/>\n",
       "<circle clip-path=\"url(#clip02)\" style=\"fill:#009af9; stroke:none; fill-opacity:1\" cx=\"509.213\" cy=\"334.517\" r=\"3\"/>\n",
       "<circle clip-path=\"url(#clip02)\" style=\"fill:#000000; stroke:none; fill-opacity:1\" cx=\"536.85\" cy=\"292.657\" r=\"4\"/>\n",
       "<circle clip-path=\"url(#clip02)\" style=\"fill:#009af9; stroke:none; fill-opacity:1\" cx=\"536.85\" cy=\"292.657\" r=\"3\"/>\n",
       "<circle clip-path=\"url(#clip02)\" style=\"fill:#000000; stroke:none; fill-opacity:1\" cx=\"564.488\" cy=\"208.936\" r=\"4\"/>\n",
       "<circle clip-path=\"url(#clip02)\" style=\"fill:#009af9; stroke:none; fill-opacity:1\" cx=\"564.488\" cy=\"208.936\" r=\"3\"/>\n",
       "<circle clip-path=\"url(#clip02)\" style=\"fill:#000000; stroke:none; fill-opacity:1\" cx=\"592.126\" cy=\"41.4942\" r=\"4\"/>\n",
       "<circle clip-path=\"url(#clip02)\" style=\"fill:#009af9; stroke:none; fill-opacity:1\" cx=\"592.126\" cy=\"41.4942\" r=\"3\"/>\n",
       "<polygon clip-path=\"url(#clip00)\" points=\"\n",
       "501.61,58.994 574.126,58.994 574.126,28.754 501.61,28.754 \n",
       "  \" fill=\"#ffffff\" fill-opacity=\"1\"/>\n",
       "<polyline clip-path=\"url(#clip00)\" style=\"stroke:#000000; stroke-width:1; stroke-opacity:1; fill:none\" points=\"\n",
       "  501.61,58.994 574.126,58.994 574.126,28.754 501.61,28.754 501.61,58.994 \n",
       "  \"/>\n",
       "<circle clip-path=\"url(#clip00)\" style=\"fill:#000000; stroke:none; fill-opacity:1\" cx=\"528.61\" cy=\"43.874\" r=\"6\"/>\n",
       "<circle clip-path=\"url(#clip00)\" style=\"fill:#009af9; stroke:none; fill-opacity:1\" cx=\"528.61\" cy=\"43.874\" r=\"5\"/>\n",
       "<g clip-path=\"url(#clip00)\">\n",
       "<text style=\"fill:#000000; fill-opacity:1; font-family:Arial,Helvetica Neue,Helvetica,sans-serif; font-size:12; text-anchor:start;\" transform=\"rotate(0, 549.61, 48.374)\" x=\"549.61\" y=\"48.374\">y1</text>\n",
       "</g>\n",
       "</svg>\n"
      ]
     },
     "execution_count": 26,
     "metadata": {
      "comm_id": "711fc0f8-9dc0-4ea3-ba01-bcbc6fc67bb7",
      "reactive": true
     },
     "output_type": "execute_result"
    }
   ],
   "source": [
    "@manipulate for x0 in 1:1:50\n",
    "    scatter(iterar(f3, x0, 20),xlim=(0,20),ylim=(0,30000000))\n",
    "end"
   ]
  },
  {
   "cell_type": "markdown",
   "metadata": {},
   "source": [
    "- Para el caso de `f3` la función no converge."
   ]
  },
  {
   "cell_type": "markdown",
   "metadata": {},
   "source": [
    "**[5]** (i) Pensando en la ecuación $x_{n+1} = f(x_n)$, en el límite cuando $n \\to \\infty$, si es que la iteración converge a un valor que podemos llamar $x_\\infty$, ¿a cuál valor debe converger? [Pista: toma el límite de los dos lados de la ecuación.] ¿Coincide con lo observado para $f_1$ y $f_2$?\n",
    "\n",
    "(ii) Graficamente, ¿a qué corresponde resolver la ecuación para $x_\\infty$? Dibuja las gráficas correspondientes para $f_1$ y $f_2$ y checa tu respuesta. \n",
    "\n",
    "(iii) Puedes adivinar cuál es la condición para que la iteración converja?"
   ]
  },
  {
   "cell_type": "markdown",
   "metadata": {},
   "source": [
    "- (i) Si la ecuación $x_{n+1} = f(x_n)$ converge a un valor $x_{\\infty}$, $x_{\\infty}$ debe ser un valor que satisfaga la ecuación\n",
    "$$x_{\\infty} = f(x_{\\infty})$$"
   ]
  },
  {
   "cell_type": "markdown",
   "metadata": {},
   "source": [
    "- Prueba para $f_1(x) = \\frac{x}{2} - 1$"
   ]
  },
  {
   "cell_type": "code",
   "execution_count": 53,
   "metadata": {},
   "outputs": [
    {
     "data": {
      "text/plain": [
       "-2.0"
      ]
     },
     "execution_count": 53,
     "metadata": {},
     "output_type": "execute_result"
    }
   ],
   "source": [
    "#límite por la derecha\n",
    "orbita(f1,1,100)"
   ]
  },
  {
   "cell_type": "code",
   "execution_count": 54,
   "metadata": {},
   "outputs": [
    {
     "data": {
      "text/plain": [
       "-2.0"
      ]
     },
     "execution_count": 54,
     "metadata": {},
     "output_type": "execute_result"
    }
   ],
   "source": [
    "#límite por la izquierda\n",
    "orbita(f1,-3,100)"
   ]
  },
  {
   "cell_type": "code",
   "execution_count": 55,
   "metadata": {},
   "outputs": [
    {
     "data": {
      "text/plain": [
       "-2.0"
      ]
     },
     "execution_count": 55,
     "metadata": {},
     "output_type": "execute_result"
    }
   ],
   "source": [
    "#prueba para la ecuación f(x(infinito)) = x(infinito)\n",
    "f1(orbita(f1,1,100))"
   ]
  },
  {
   "cell_type": "markdown",
   "metadata": {},
   "source": [
    "- Prueba para $f_2(x) = \\cos(x)$"
   ]
  },
  {
   "cell_type": "code",
   "execution_count": 57,
   "metadata": {},
   "outputs": [
    {
     "data": {
      "text/plain": [
       "0.7390851332151607"
      ]
     },
     "execution_count": 57,
     "metadata": {},
     "output_type": "execute_result"
    }
   ],
   "source": [
    "#límite por la derecha\n",
    "orbita(f2,-2,100)"
   ]
  },
  {
   "cell_type": "code",
   "execution_count": 58,
   "metadata": {},
   "outputs": [
    {
     "data": {
      "text/plain": [
       "0.7390851332151607"
      ]
     },
     "execution_count": 58,
     "metadata": {},
     "output_type": "execute_result"
    }
   ],
   "source": [
    "#límite por la derecha\n",
    "orbita(f2,7,100)"
   ]
  },
  {
   "cell_type": "code",
   "execution_count": 59,
   "metadata": {},
   "outputs": [
    {
     "data": {
      "text/plain": [
       "0.7390851332151607"
      ]
     },
     "execution_count": 59,
     "metadata": {},
     "output_type": "execute_result"
    }
   ],
   "source": [
    "#prueba para la ecuación f(x(infinito)) = x(infinito)\n",
    "f2(orbita(f2,1,100))"
   ]
  },
  {
   "cell_type": "markdown",
   "metadata": {},
   "source": [
    "- Gráficamente, resolver la ecuación para $x_{\\infty}$ corresponde a encontrar la intersección de $f(x)$ con la recta identidad $x = y$"
   ]
  },
  {
   "cell_type": "code",
   "execution_count": 31,
   "metadata": {},
   "outputs": [
    {
     "data": {
      "text/html": [
       "<?xml version=\"1.0\" encoding=\"utf-8\"?>\n",
       "<svg xmlns=\"http://www.w3.org/2000/svg\" xmlns:xlink=\"http://www.w3.org/1999/xlink\" width=\"600\" height=\"400\" viewBox=\"0 0 600 400\">\n",
       "<defs>\n",
       "  <clipPath id=\"clip00\">\n",
       "    <rect x=\"0\" y=\"0\" width=\"600\" height=\"400\"/>\n",
       "  </clipPath>\n",
       "</defs>\n",
       "<polygon clip-path=\"url(#clip00)\" points=\"\n",
       "0,400 600,400 600,0 0,0 \n",
       "  \" fill=\"#ffffff\" fill-opacity=\"1\"/>\n",
       "<defs>\n",
       "  <clipPath id=\"clip01\">\n",
       "    <rect x=\"120\" y=\"0\" width=\"421\" height=\"400\"/>\n",
       "  </clipPath>\n",
       "</defs>\n",
       "<polygon clip-path=\"url(#clip00)\" points=\"\n",
       "39.3701,376.378 592.126,376.378 592.126,7.87402 39.3701,7.87402 \n",
       "  \" fill=\"#ffffff\" fill-opacity=\"1\"/>\n",
       "<defs>\n",
       "  <clipPath id=\"clip02\">\n",
       "    <rect x=\"39\" y=\"7\" width=\"554\" height=\"370\"/>\n",
       "  </clipPath>\n",
       "</defs>\n",
       "<polyline clip-path=\"url(#clip02)\" style=\"stroke:#000000; stroke-width:1; stroke-opacity:0.5; fill:none\" stroke-dasharray=\"1, 2\" points=\"\n",
       "  103.15,370.85 103.15,13.4016 \n",
       "  \"/>\n",
       "<polyline clip-path=\"url(#clip02)\" style=\"stroke:#000000; stroke-width:1; stroke-opacity:0.5; fill:none\" stroke-dasharray=\"1, 2\" points=\"\n",
       "  209.842,370.85 209.842,13.4016 \n",
       "  \"/>\n",
       "<polyline clip-path=\"url(#clip02)\" style=\"stroke:#000000; stroke-width:1; stroke-opacity:0.5; fill:none\" stroke-dasharray=\"1, 2\" points=\"\n",
       "  316.533,370.85 316.533,13.4016 \n",
       "  \"/>\n",
       "<polyline clip-path=\"url(#clip02)\" style=\"stroke:#000000; stroke-width:1; stroke-opacity:0.5; fill:none\" stroke-dasharray=\"1, 2\" points=\"\n",
       "  423.225,370.85 423.225,13.4016 \n",
       "  \"/>\n",
       "<polyline clip-path=\"url(#clip02)\" style=\"stroke:#000000; stroke-width:1; stroke-opacity:0.5; fill:none\" stroke-dasharray=\"1, 2\" points=\"\n",
       "  529.916,370.85 529.916,13.4016 \n",
       "  \"/>\n",
       "<polyline clip-path=\"url(#clip02)\" style=\"stroke:#000000; stroke-width:1; stroke-opacity:0.5; fill:none\" stroke-dasharray=\"1, 2\" points=\"\n",
       "  47.6614,333.858 583.835,333.858 \n",
       "  \"/>\n",
       "<polyline clip-path=\"url(#clip02)\" style=\"stroke:#000000; stroke-width:1; stroke-opacity:0.5; fill:none\" stroke-dasharray=\"1, 2\" points=\"\n",
       "  47.6614,262.73 583.835,262.73 \n",
       "  \"/>\n",
       "<polyline clip-path=\"url(#clip02)\" style=\"stroke:#000000; stroke-width:1; stroke-opacity:0.5; fill:none\" stroke-dasharray=\"1, 2\" points=\"\n",
       "  47.6614,191.603 583.835,191.603 \n",
       "  \"/>\n",
       "<polyline clip-path=\"url(#clip02)\" style=\"stroke:#000000; stroke-width:1; stroke-opacity:0.5; fill:none\" stroke-dasharray=\"1, 2\" points=\"\n",
       "  47.6614,120.475 583.835,120.475 \n",
       "  \"/>\n",
       "<polyline clip-path=\"url(#clip02)\" style=\"stroke:#000000; stroke-width:1; stroke-opacity:0.5; fill:none\" stroke-dasharray=\"1, 2\" points=\"\n",
       "  47.6614,49.3473 583.835,49.3473 \n",
       "  \"/>\n",
       "<polyline clip-path=\"url(#clip00)\" style=\"stroke:#000000; stroke-width:1; stroke-opacity:1; fill:none\" points=\"\n",
       "  39.3701,376.378 592.126,376.378 \n",
       "  \"/>\n",
       "<polyline clip-path=\"url(#clip00)\" style=\"stroke:#000000; stroke-width:1; stroke-opacity:1; fill:none\" points=\"\n",
       "  103.15,376.378 103.15,370.85 \n",
       "  \"/>\n",
       "<polyline clip-path=\"url(#clip00)\" style=\"stroke:#000000; stroke-width:1; stroke-opacity:1; fill:none\" points=\"\n",
       "  209.842,376.378 209.842,370.85 \n",
       "  \"/>\n",
       "<polyline clip-path=\"url(#clip00)\" style=\"stroke:#000000; stroke-width:1; stroke-opacity:1; fill:none\" points=\"\n",
       "  316.533,376.378 316.533,370.85 \n",
       "  \"/>\n",
       "<polyline clip-path=\"url(#clip00)\" style=\"stroke:#000000; stroke-width:1; stroke-opacity:1; fill:none\" points=\"\n",
       "  423.225,376.378 423.225,370.85 \n",
       "  \"/>\n",
       "<polyline clip-path=\"url(#clip00)\" style=\"stroke:#000000; stroke-width:1; stroke-opacity:1; fill:none\" points=\"\n",
       "  529.916,376.378 529.916,370.85 \n",
       "  \"/>\n",
       "<polyline clip-path=\"url(#clip00)\" style=\"stroke:#000000; stroke-width:1; stroke-opacity:1; fill:none\" points=\"\n",
       "  39.3701,376.378 39.3701,7.87402 \n",
       "  \"/>\n",
       "<polyline clip-path=\"url(#clip00)\" style=\"stroke:#000000; stroke-width:1; stroke-opacity:1; fill:none\" points=\"\n",
       "  39.3701,333.858 47.6614,333.858 \n",
       "  \"/>\n",
       "<polyline clip-path=\"url(#clip00)\" style=\"stroke:#000000; stroke-width:1; stroke-opacity:1; fill:none\" points=\"\n",
       "  39.3701,262.73 47.6614,262.73 \n",
       "  \"/>\n",
       "<polyline clip-path=\"url(#clip00)\" style=\"stroke:#000000; stroke-width:1; stroke-opacity:1; fill:none\" points=\"\n",
       "  39.3701,191.603 47.6614,191.603 \n",
       "  \"/>\n",
       "<polyline clip-path=\"url(#clip00)\" style=\"stroke:#000000; stroke-width:1; stroke-opacity:1; fill:none\" points=\"\n",
       "  39.3701,120.475 47.6614,120.475 \n",
       "  \"/>\n",
       "<polyline clip-path=\"url(#clip00)\" style=\"stroke:#000000; stroke-width:1; stroke-opacity:1; fill:none\" points=\"\n",
       "  39.3701,49.3473 47.6614,49.3473 \n",
       "  \"/>\n",
       "<g clip-path=\"url(#clip00)\">\n",
       "<text style=\"fill:#000000; fill-opacity:1; font-family:Arial,Helvetica Neue,Helvetica,sans-serif; font-size:12; text-anchor:middle;\" transform=\"rotate(0, 103.15, 390.178)\" x=\"103.15\" y=\"390.178\">-4</text>\n",
       "</g>\n",
       "<g clip-path=\"url(#clip00)\">\n",
       "<text style=\"fill:#000000; fill-opacity:1; font-family:Arial,Helvetica Neue,Helvetica,sans-serif; font-size:12; text-anchor:middle;\" transform=\"rotate(0, 209.842, 390.178)\" x=\"209.842\" y=\"390.178\">-2</text>\n",
       "</g>\n",
       "<g clip-path=\"url(#clip00)\">\n",
       "<text style=\"fill:#000000; fill-opacity:1; font-family:Arial,Helvetica Neue,Helvetica,sans-serif; font-size:12; text-anchor:middle;\" transform=\"rotate(0, 316.533, 390.178)\" x=\"316.533\" y=\"390.178\">0</text>\n",
       "</g>\n",
       "<g clip-path=\"url(#clip00)\">\n",
       "<text style=\"fill:#000000; fill-opacity:1; font-family:Arial,Helvetica Neue,Helvetica,sans-serif; font-size:12; text-anchor:middle;\" transform=\"rotate(0, 423.225, 390.178)\" x=\"423.225\" y=\"390.178\">2</text>\n",
       "</g>\n",
       "<g clip-path=\"url(#clip00)\">\n",
       "<text style=\"fill:#000000; fill-opacity:1; font-family:Arial,Helvetica Neue,Helvetica,sans-serif; font-size:12; text-anchor:middle;\" transform=\"rotate(0, 529.916, 390.178)\" x=\"529.916\" y=\"390.178\">4</text>\n",
       "</g>\n",
       "<g clip-path=\"url(#clip00)\">\n",
       "<text style=\"fill:#000000; fill-opacity:1; font-family:Arial,Helvetica Neue,Helvetica,sans-serif; font-size:12; text-anchor:end;\" transform=\"rotate(0, 33.3701, 338.358)\" x=\"33.3701\" y=\"338.358\">-4</text>\n",
       "</g>\n",
       "<g clip-path=\"url(#clip00)\">\n",
       "<text style=\"fill:#000000; fill-opacity:1; font-family:Arial,Helvetica Neue,Helvetica,sans-serif; font-size:12; text-anchor:end;\" transform=\"rotate(0, 33.3701, 267.23)\" x=\"33.3701\" y=\"267.23\">-2</text>\n",
       "</g>\n",
       "<g clip-path=\"url(#clip00)\">\n",
       "<text style=\"fill:#000000; fill-opacity:1; font-family:Arial,Helvetica Neue,Helvetica,sans-serif; font-size:12; text-anchor:end;\" transform=\"rotate(0, 33.3701, 196.103)\" x=\"33.3701\" y=\"196.103\">0</text>\n",
       "</g>\n",
       "<g clip-path=\"url(#clip00)\">\n",
       "<text style=\"fill:#000000; fill-opacity:1; font-family:Arial,Helvetica Neue,Helvetica,sans-serif; font-size:12; text-anchor:end;\" transform=\"rotate(0, 33.3701, 124.975)\" x=\"33.3701\" y=\"124.975\">2</text>\n",
       "</g>\n",
       "<g clip-path=\"url(#clip00)\">\n",
       "<text style=\"fill:#000000; fill-opacity:1; font-family:Arial,Helvetica Neue,Helvetica,sans-serif; font-size:12; text-anchor:end;\" transform=\"rotate(0, 33.3701, 53.8473)\" x=\"33.3701\" y=\"53.8473\">4</text>\n",
       "</g>\n",
       "<polyline clip-path=\"url(#clip02)\" style=\"stroke:#009af9; stroke-width:1; stroke-opacity:1; fill:none\" points=\"\n",
       "  55.0141,365.949 103.185,333.835 132.133,314.536 156.609,298.219 183.197,280.494 207.708,264.153 220.847,255.393 233.986,246.634 249.21,236.485 264.433,226.336 \n",
       "  277.961,217.317 291.49,208.298 303.353,200.389 315.217,192.48 328.151,183.857 341.085,175.235 354.096,166.56 367.107,157.886 381.493,148.296 395.878,138.706 \n",
       "  409.566,129.581 423.253,120.456 451.716,101.48 475.677,85.5069 504.929,66.0052 532.428,47.673 576.482,18.3034 \n",
       "  \"/>\n",
       "<polyline clip-path=\"url(#clip02)\" style=\"stroke:#e26f46; stroke-width:1; stroke-opacity:1; fill:none\" points=\"\n",
       "  60.1067,312.642 107.195,296.946 135.493,287.513 159.418,279.538 185.408,270.875 209.369,262.888 235.057,254.325 264.819,244.405 291.268,235.588 314.461,227.857 \n",
       "  339.748,219.428 365.186,210.949 393.31,201.574 420.069,192.654 447.893,183.38 471.315,175.573 499.91,166.041 526.79,157.081 569.855,142.726 \n",
       "  \"/>\n",
       "<polyline clip-path=\"url(#clip02)\" style=\"stroke:#3da44d; stroke-width:1; stroke-opacity:1; fill:none\" points=\"\n",
       "  56.2873,185.723 57.5604,186.562 58.8335,187.403 60.1067,188.247 71.8787,196.078 83.6507,203.692 89.5367,207.302 95.4227,210.72 101.309,213.906 107.195,216.821 \n",
       "  110.732,218.427 114.269,219.915 117.806,221.279 121.344,222.512 124.881,223.61 128.418,224.567 131.955,225.379 135.493,226.042 141.474,226.818 147.456,227.153 \n",
       "  150.446,227.152 153.437,227.04 156.428,226.817 159.418,226.483 165.916,225.381 172.413,223.779 178.911,221.701 185.408,219.176 191.398,216.486 197.388,213.482 \n",
       "  203.378,210.202 209.369,206.689 222.213,198.574 235.057,190.057 242.497,185.133 249.938,180.334 257.378,175.754 264.819,171.481 271.431,168.01 278.043,164.901 \n",
       "  284.656,162.202 291.268,159.953 297.066,158.381 302.865,157.2 308.663,156.425 314.461,156.066 317.622,156.046 320.783,156.152 323.944,156.381 327.105,156.735 \n",
       "  333.427,157.807 339.748,159.354 346.108,161.366 352.467,163.807 358.826,166.642 365.186,169.832 372.217,173.717 379.248,177.912 386.279,182.344 393.31,186.937 \n",
       "  406.69,195.833 420.069,204.465 427.025,208.667 433.981,212.579 437.459,214.406 440.937,216.135 444.415,217.761 447.893,219.275 453.749,221.555 459.604,223.475 \n",
       "  465.459,225.012 471.315,226.146 474.889,226.635 478.464,226.966 482.038,227.139 485.612,227.153 489.187,227.006 492.761,226.701 496.336,226.239 499.91,225.621 \n",
       "  503.27,224.9 506.63,224.048 509.99,223.067 513.35,221.961 516.71,220.735 520.07,219.393 523.43,217.941 526.79,216.385 532.173,213.689 537.556,210.769 \n",
       "  542.939,207.654 548.322,204.375 559.088,197.463 569.855,190.312 571.511,189.209 573.168,188.109 574.825,187.011 \n",
       "  \"/>\n",
       "<circle clip-path=\"url(#clip02)\" style=\"fill:#000000; stroke:none; fill-opacity:1\" cx=\"355.96\" cy=\"165.318\" r=\"4\"/>\n",
       "<circle clip-path=\"url(#clip02)\" style=\"fill:#c271d2; stroke:none; fill-opacity:1\" cx=\"355.96\" cy=\"165.318\" r=\"3\"/>\n",
       "<circle clip-path=\"url(#clip02)\" style=\"fill:#000000; stroke:none; fill-opacity:1\" cx=\"209.842\" cy=\"262.73\" r=\"4\"/>\n",
       "<circle clip-path=\"url(#clip02)\" style=\"fill:#ac8d18; stroke:none; fill-opacity:1\" cx=\"209.842\" cy=\"262.73\" r=\"3\"/>\n",
       "<polygon clip-path=\"url(#clip00)\" points=\"\n",
       "410.351,119.474 574.126,119.474 574.126,28.754 410.351,28.754 \n",
       "  \" fill=\"#ffffff\" fill-opacity=\"1\"/>\n",
       "<polyline clip-path=\"url(#clip00)\" style=\"stroke:#000000; stroke-width:1; stroke-opacity:1; fill:none\" points=\"\n",
       "  410.351,119.474 574.126,119.474 574.126,28.754 410.351,28.754 410.351,119.474 \n",
       "  \"/>\n",
       "<polyline clip-path=\"url(#clip00)\" style=\"stroke:#009af9; stroke-width:1; stroke-opacity:1; fill:none\" points=\"\n",
       "  416.351,43.874 452.351,43.874 \n",
       "  \"/>\n",
       "<g clip-path=\"url(#clip00)\">\n",
       "<text style=\"fill:#000000; fill-opacity:1; font-family:Arial,Helvetica Neue,Helvetica,sans-serif; font-size:12; text-anchor:start;\" transform=\"rotate(0, 458.351, 48.374)\" x=\"458.351\" y=\"48.374\">y = x</text>\n",
       "</g>\n",
       "<polyline clip-path=\"url(#clip00)\" style=\"stroke:#e26f46; stroke-width:1; stroke-opacity:1; fill:none\" points=\"\n",
       "  416.351,58.994 452.351,58.994 \n",
       "  \"/>\n",
       "<g clip-path=\"url(#clip00)\">\n",
       "<text style=\"fill:#000000; fill-opacity:1; font-family:Arial,Helvetica Neue,Helvetica,sans-serif; font-size:12; text-anchor:start;\" transform=\"rotate(0, 458.351, 63.494)\" x=\"458.351\" y=\"63.494\">y = x/2 - 1</text>\n",
       "</g>\n",
       "<polyline clip-path=\"url(#clip00)\" style=\"stroke:#3da44d; stroke-width:1; stroke-opacity:1; fill:none\" points=\"\n",
       "  416.351,74.114 452.351,74.114 \n",
       "  \"/>\n",
       "<g clip-path=\"url(#clip00)\">\n",
       "<text style=\"fill:#000000; fill-opacity:1; font-family:Arial,Helvetica Neue,Helvetica,sans-serif; font-size:12; text-anchor:start;\" transform=\"rotate(0, 458.351, 78.614)\" x=\"458.351\" y=\"78.614\">y = cos(x)</text>\n",
       "</g>\n",
       "<circle clip-path=\"url(#clip00)\" style=\"fill:#000000; stroke:none; fill-opacity:1\" cx=\"437.351\" cy=\"89.234\" r=\"6\"/>\n",
       "<circle clip-path=\"url(#clip00)\" style=\"fill:#c271d2; stroke:none; fill-opacity:1\" cx=\"437.351\" cy=\"89.234\" r=\"5\"/>\n",
       "<g clip-path=\"url(#clip00)\">\n",
       "<text style=\"fill:#000000; fill-opacity:1; font-family:Arial,Helvetica Neue,Helvetica,sans-serif; font-size:12; text-anchor:start;\" transform=\"rotate(0, 458.351, 93.734)\" x=\"458.351\" y=\"93.734\">punto fijo de cos(x)</text>\n",
       "</g>\n",
       "<circle clip-path=\"url(#clip00)\" style=\"fill:#000000; stroke:none; fill-opacity:1\" cx=\"437.351\" cy=\"104.354\" r=\"6\"/>\n",
       "<circle clip-path=\"url(#clip00)\" style=\"fill:#ac8d18; stroke:none; fill-opacity:1\" cx=\"437.351\" cy=\"104.354\" r=\"5\"/>\n",
       "<g clip-path=\"url(#clip00)\">\n",
       "<text style=\"fill:#000000; fill-opacity:1; font-family:Arial,Helvetica Neue,Helvetica,sans-serif; font-size:12; text-anchor:start;\" transform=\"rotate(0, 458.351, 108.854)\" x=\"458.351\" y=\"108.854\">punto fijo de x/2 - 1</text>\n",
       "</g>\n",
       "</svg>\n"
      ]
     },
     "execution_count": 31,
     "metadata": {},
     "output_type": "execute_result"
    }
   ],
   "source": [
    "plot(x -> x, label = (\"y = x\"))\n",
    "plot!(f1, label = (\"y = x/2 - 1\"))\n",
    "plot!(f2, label = (\"y = cos(x)\"))\n",
    "scatter!([0.7390851332151607], [0.7390851332151607], label = (\"punto fijo de cos(x)\"))\n",
    "scatter!([-2.0], [-2.0], label = (\"punto fijo de x/2 - 1\"))"
   ]
  },
  {
   "cell_type": "markdown",
   "metadata": {},
   "source": [
    "**[6]** A menudo, se puede utilizar una iteración de este tipo para resolver ecuaciones. \n",
    "\n",
    "(i) Inventa una iteración de la forma $x_{n+1} = f(x_n)$ para resolver la ecuación $x^2 + x - 1 = 0$. ¿Para cuáles $x_0$ funciona? ¿A cuál solución converge?\n",
    "\n",
    "(ii) Inventa otra. ¿Funciona para $x_0$ diferentes?\n",
    "\n",
    "(iii) Nota que hay algunas iteraciones que **no converjan**. Por ejemplo, ¿qué ocurre con la iteración $x_{n+1} = 1 - x_n^2$?"
   ]
  },
  {
   "cell_type": "markdown",
   "metadata": {},
   "source": [
    "- De nuestro polinomio original, queremos obtener una expresión de la forma \n",
    "$$x = f(x)$$\n",
    "por lo que primero probaremos haciendo el siguiente despeje:\n",
    "$$x = 1 - x^2$$"
   ]
  },
  {
   "cell_type": "code",
   "execution_count": 32,
   "metadata": {},
   "outputs": [
    {
     "data": {
      "text/plain": [
       "f4 (generic function with 1 method)"
      ]
     },
     "execution_count": 32,
     "metadata": {},
     "output_type": "execute_result"
    }
   ],
   "source": [
    "f4(x) = 1 - x^2"
   ]
  },
  {
   "cell_type": "code",
   "execution_count": 33,
   "metadata": {},
   "outputs": [
    {
     "data": {
      "text/plain": [
       "100-element Array{Any,1}:\n",
       "                  -24\n",
       "                 -575\n",
       "              -330624\n",
       "        -109312229375\n",
       "  4326668831176556544\n",
       "  -360084870849888255\n",
       "  -432751762907070464\n",
       " -4611686018427387903\n",
       " -9223372036854775808\n",
       "                    1\n",
       "                    0\n",
       "                    1\n",
       "                    0\n",
       "                    ⋮\n",
       "                    0\n",
       "                    1\n",
       "                    0\n",
       "                    1\n",
       "                    0\n",
       "                    1\n",
       "                    0\n",
       "                    1\n",
       "                    0\n",
       "                    1\n",
       "                    0\n",
       "                    1"
      ]
     },
     "execution_count": 33,
     "metadata": {},
     "output_type": "execute_result"
    }
   ],
   "source": [
    "iterar(f4, 5, 100)"
   ]
  },
  {
   "cell_type": "code",
   "execution_count": 60,
   "metadata": {
    "scrolled": true
   },
   "outputs": [
    {
     "data": {
      "text/html": [],
      "text/plain": [
       "Interact.Options{:SelectionSlider,Float64}(25: \"input-7\" = 2.0 Float64 , \"x0\", 2.0, \"2.0\", Interact.OptionDict(DataStructures.OrderedDict(\"-1.0\"=>-1.0,\"-0.99\"=>-0.99,\"-0.98\"=>-0.98,\"-0.97\"=>-0.97,\"-0.96\"=>-0.96,\"-0.95\"=>-0.95,\"-0.94\"=>-0.94,\"-0.93\"=>-0.93,\"-0.92\"=>-0.92,\"-0.91\"=>-0.91…), Dict(1.19=>\"1.19\",0.89=>\"0.89\",4.14=>\"4.14\",-0.8=>\"-0.8\",1.35=>\"1.35\",4.23=>\"4.23\",4.56=>\"4.56\",2.62=>\"2.62\",3.51=>\"3.51\",0.58=>\"0.58\"…)), Any[], Any[], true, \"horizontal\")"
      ]
     },
     "metadata": {},
     "output_type": "display_data"
    },
    {
     "data": {
      "text/html": [
       "<?xml version=\"1.0\" encoding=\"utf-8\"?>\n",
       "<svg xmlns=\"http://www.w3.org/2000/svg\" xmlns:xlink=\"http://www.w3.org/1999/xlink\" width=\"600\" height=\"400\" viewBox=\"0 0 600 400\">\n",
       "<defs>\n",
       "  <clipPath id=\"clip00\">\n",
       "    <rect x=\"0\" y=\"0\" width=\"600\" height=\"400\"/>\n",
       "  </clipPath>\n",
       "</defs>\n",
       "<polygon clip-path=\"url(#clip00)\" points=\"\n",
       "0,400 600,400 600,0 0,0 \n",
       "  \" fill=\"#ffffff\" fill-opacity=\"1\"/>\n",
       "<defs>\n",
       "  <clipPath id=\"clip01\">\n",
       "    <rect x=\"120\" y=\"0\" width=\"421\" height=\"400\"/>\n",
       "  </clipPath>\n",
       "</defs>\n",
       "<polygon clip-path=\"url(#clip00)\" points=\"\n",
       "39.3701,376.378 592.126,376.378 592.126,7.87402 39.3701,7.87402 \n",
       "  \" fill=\"#ffffff\" fill-opacity=\"1\"/>\n",
       "<defs>\n",
       "  <clipPath id=\"clip02\">\n",
       "    <rect x=\"39\" y=\"7\" width=\"554\" height=\"370\"/>\n",
       "  </clipPath>\n",
       "</defs>\n",
       "<g clip-path=\"url(#clip00)\">\n",
       "<text style=\"fill:#000000; fill-opacity:1; font-family:Arial,Helvetica Neue,Helvetica,sans-serif; font-size:12; text-anchor:middle;\" transform=\"rotate(0, nan, nan)\" x=\"nan\" y=\"nan\">0</text>\n",
       "</g>\n",
       "<g clip-path=\"url(#clip00)\">\n",
       "<text style=\"fill:#000000; fill-opacity:1; font-family:Arial,Helvetica Neue,Helvetica,sans-serif; font-size:12; text-anchor:middle;\" transform=\"rotate(0, nan, nan)\" x=\"nan\" y=\"nan\">50</text>\n",
       "</g>\n",
       "<g clip-path=\"url(#clip00)\">\n",
       "<text style=\"fill:#000000; fill-opacity:1; font-family:Arial,Helvetica Neue,Helvetica,sans-serif; font-size:12; text-anchor:middle;\" transform=\"rotate(0, nan, nan)\" x=\"nan\" y=\"nan\">100</text>\n",
       "</g>\n",
       "<polygon clip-path=\"url(#clip00)\" points=\"\n",
       "501.61,58.994 574.126,58.994 574.126,28.754 501.61,28.754 \n",
       "  \" fill=\"#ffffff\" fill-opacity=\"1\"/>\n",
       "<polyline clip-path=\"url(#clip00)\" style=\"stroke:#000000; stroke-width:1; stroke-opacity:1; fill:none\" points=\"\n",
       "  501.61,58.994 574.126,58.994 574.126,28.754 501.61,28.754 501.61,58.994 \n",
       "  \"/>\n",
       "<circle clip-path=\"url(#clip00)\" style=\"fill:#000000; stroke:none; fill-opacity:1\" cx=\"528.61\" cy=\"43.874\" r=\"6\"/>\n",
       "<circle clip-path=\"url(#clip00)\" style=\"fill:#009af9; stroke:none; fill-opacity:1\" cx=\"528.61\" cy=\"43.874\" r=\"5\"/>\n",
       "<g clip-path=\"url(#clip00)\">\n",
       "<text style=\"fill:#000000; fill-opacity:1; font-family:Arial,Helvetica Neue,Helvetica,sans-serif; font-size:12; text-anchor:start;\" transform=\"rotate(0, 549.61, 48.374)\" x=\"549.61\" y=\"48.374\">y1</text>\n",
       "</g>\n",
       "</svg>\n"
      ]
     },
     "execution_count": 60,
     "metadata": {
      "comm_id": "e1fadc53-ffa5-4d18-8ceb-ce8e144261cd",
      "reactive": true
     },
     "output_type": "execute_result"
    }
   ],
   "source": [
    "@manipulate for x0 in -1:0.01:5\n",
    "scatter(iterar(f4, x0, 100))\n",
    "end"
   ]
  },
  {
   "cell_type": "markdown",
   "metadata": {},
   "source": [
    "- Esta función no converge a ningún punto, por lo tanto no es una solución que nos funcione. Así que probamos hacer un despeje distinto de nuestra misma ecuación. Por ejemplo:\n",
    "$$x = \\frac{1}{x} - 1$$"
   ]
  },
  {
   "cell_type": "code",
   "execution_count": 35,
   "metadata": {},
   "outputs": [
    {
     "data": {
      "text/plain": [
       "f5 (generic function with 1 method)"
      ]
     },
     "execution_count": 35,
     "metadata": {},
     "output_type": "execute_result"
    }
   ],
   "source": [
    "f5(x) = 1/x - 1"
   ]
  },
  {
   "cell_type": "code",
   "execution_count": 36,
   "metadata": {
    "scrolled": true
   },
   "outputs": [
    {
     "data": {
      "text/html": [],
      "text/plain": [
       "Interact.Options{:SelectionSlider,Float64}(17: \"input-5\" = 0.0 Float64 , \"x0\", 0.0, \"0.0\", Interact.OptionDict(DataStructures.OrderedDict(\"-10.0\"=>-10.0,\"-9.99\"=>-9.99,\"-9.98\"=>-9.98,\"-9.97\"=>-9.97,\"-9.96\"=>-9.96,\"-9.95\"=>-9.95,\"-9.94\"=>-9.94,\"-9.93\"=>-9.93,\"-9.92\"=>-9.92,\"-9.91\"=>-9.91…), Dict(-2.03=>\"-2.03\",-6.32=>\"-6.32\",9.84=>\"9.84\",-2.43=>\"-2.43\",8.66=>\"8.66\",1.19=>\"1.19\",7.4=>\"7.4\",7.72=>\"7.72\",-2.13=>\"-2.13\",-5.25=>\"-5.25\"…)), Any[], Any[], true, \"horizontal\")"
      ]
     },
     "metadata": {},
     "output_type": "display_data"
    },
    {
     "data": {
      "text/html": [
       "<?xml version=\"1.0\" encoding=\"utf-8\"?>\n",
       "<svg xmlns=\"http://www.w3.org/2000/svg\" xmlns:xlink=\"http://www.w3.org/1999/xlink\" width=\"600\" height=\"400\" viewBox=\"0 0 600 400\">\n",
       "<defs>\n",
       "  <clipPath id=\"clip00\">\n",
       "    <rect x=\"0\" y=\"0\" width=\"600\" height=\"400\"/>\n",
       "  </clipPath>\n",
       "</defs>\n",
       "<polygon clip-path=\"url(#clip00)\" points=\"\n",
       "0,400 600,400 600,0 0,0 \n",
       "  \" fill=\"#ffffff\" fill-opacity=\"1\"/>\n",
       "<defs>\n",
       "  <clipPath id=\"clip01\">\n",
       "    <rect x=\"120\" y=\"0\" width=\"421\" height=\"400\"/>\n",
       "  </clipPath>\n",
       "</defs>\n",
       "<polygon clip-path=\"url(#clip00)\" points=\"\n",
       "39.3701,376.378 592.126,376.378 592.126,7.87402 39.3701,7.87402 \n",
       "  \" fill=\"#ffffff\" fill-opacity=\"1\"/>\n",
       "<defs>\n",
       "  <clipPath id=\"clip02\">\n",
       "    <rect x=\"39\" y=\"7\" width=\"554\" height=\"370\"/>\n",
       "  </clipPath>\n",
       "</defs>\n",
       "<g clip-path=\"url(#clip00)\">\n",
       "<text style=\"fill:#000000; fill-opacity:1; font-family:Arial,Helvetica Neue,Helvetica,sans-serif; font-size:12; text-anchor:middle;\" transform=\"rotate(0, nan, nan)\" x=\"nan\" y=\"nan\">0</text>\n",
       "</g>\n",
       "<g clip-path=\"url(#clip00)\">\n",
       "<text style=\"fill:#000000; fill-opacity:1; font-family:Arial,Helvetica Neue,Helvetica,sans-serif; font-size:12; text-anchor:middle;\" transform=\"rotate(0, nan, nan)\" x=\"nan\" y=\"nan\">50</text>\n",
       "</g>\n",
       "<g clip-path=\"url(#clip00)\">\n",
       "<text style=\"fill:#000000; fill-opacity:1; font-family:Arial,Helvetica Neue,Helvetica,sans-serif; font-size:12; text-anchor:middle;\" transform=\"rotate(0, nan, nan)\" x=\"nan\" y=\"nan\">100</text>\n",
       "</g>\n",
       "<polygon clip-path=\"url(#clip00)\" points=\"\n",
       "501.61,58.994 574.126,58.994 574.126,28.754 501.61,28.754 \n",
       "  \" fill=\"#ffffff\" fill-opacity=\"1\"/>\n",
       "<polyline clip-path=\"url(#clip00)\" style=\"stroke:#000000; stroke-width:1; stroke-opacity:1; fill:none\" points=\"\n",
       "  501.61,58.994 574.126,58.994 574.126,28.754 501.61,28.754 501.61,58.994 \n",
       "  \"/>\n",
       "<circle clip-path=\"url(#clip00)\" style=\"fill:#000000; stroke:none; fill-opacity:1\" cx=\"528.61\" cy=\"43.874\" r=\"6\"/>\n",
       "<circle clip-path=\"url(#clip00)\" style=\"fill:#009af9; stroke:none; fill-opacity:1\" cx=\"528.61\" cy=\"43.874\" r=\"5\"/>\n",
       "<g clip-path=\"url(#clip00)\">\n",
       "<text style=\"fill:#000000; fill-opacity:1; font-family:Arial,Helvetica Neue,Helvetica,sans-serif; font-size:12; text-anchor:start;\" transform=\"rotate(0, 549.61, 48.374)\" x=\"549.61\" y=\"48.374\">y1</text>\n",
       "</g>\n",
       "</svg>\n"
      ]
     },
     "execution_count": 36,
     "metadata": {
      "comm_id": "a40a4a43-bdd0-438b-b141-73c5b993c6a3",
      "reactive": true
     },
     "output_type": "execute_result"
    }
   ],
   "source": [
    "@manipulate for x0 in -10:0.01:10\n",
    "scatter(iterar(f5, x0, 100))\n",
    "end"
   ]
  },
  {
   "cell_type": "markdown",
   "metadata": {},
   "source": [
    "- La función $\\frac{1}{x} - 1$ sí converge al valor $x_{\\infty} = -1.618033988749895$ y funciona para cualquier valor inicial $x_0$ que tomemos"
   ]
  },
  {
   "cell_type": "code",
   "execution_count": 37,
   "metadata": {},
   "outputs": [
    {
     "data": {
      "text/plain": [
       "-1.618033988749895"
      ]
     },
     "execution_count": 37,
     "metadata": {},
     "output_type": "execute_result"
    }
   ],
   "source": [
    "f5(orbita(f5, 5, 100))"
   ]
  },
  {
   "cell_type": "code",
   "execution_count": 38,
   "metadata": {},
   "outputs": [
    {
     "data": {
      "text/plain": [
       "0.0"
      ]
     },
     "execution_count": 38,
     "metadata": {},
     "output_type": "execute_result"
    }
   ],
   "source": [
    "(-1.618033988749895)^2 + (-1.618033988749895) - 1"
   ]
  },
  {
   "cell_type": "code",
   "execution_count": 61,
   "metadata": {},
   "outputs": [
    {
     "data": {
      "text/plain": [
       "100-element Array{Any,1}:\n",
       " -0.8    \n",
       " -2.25   \n",
       " -1.44444\n",
       " -1.69231\n",
       " -1.59091\n",
       " -1.62857\n",
       " -1.61404\n",
       " -1.61957\n",
       " -1.61745\n",
       " -1.61826\n",
       " -1.61795\n",
       " -1.61807\n",
       " -1.61802\n",
       "  ⋮      \n",
       " -1.61803\n",
       " -1.61803\n",
       " -1.61803\n",
       " -1.61803\n",
       " -1.61803\n",
       " -1.61803\n",
       " -1.61803\n",
       " -1.61803\n",
       " -1.61803\n",
       " -1.61803\n",
       " -1.61803\n",
       " -1.61803"
      ]
     },
     "execution_count": 61,
     "metadata": {},
     "output_type": "execute_result"
    }
   ],
   "source": [
    "iterar(f5, 5, 100)"
   ]
  },
  {
   "cell_type": "markdown",
   "metadata": {},
   "source": [
    "- Finalmente, probamos una última posibilidad de despeje:\n",
    "$$x = \\sqrt{1 - x}$$"
   ]
  },
  {
   "cell_type": "code",
   "execution_count": 40,
   "metadata": {},
   "outputs": [
    {
     "data": {
      "text/plain": [
       "f6 (generic function with 1 method)"
      ]
     },
     "execution_count": 40,
     "metadata": {},
     "output_type": "execute_result"
    }
   ],
   "source": [
    "f6(x) = sqrt(1 - x)"
   ]
  },
  {
   "cell_type": "code",
   "execution_count": 41,
   "metadata": {},
   "outputs": [
    {
     "data": {
      "text/html": [],
      "text/plain": [
       "Interact.Options{:SelectionSlider,Float64}(21: \"input-6\" = 0.0 Float64 , \"x0\", 0.0, \"0.0\", Interact.OptionDict(DataStructures.OrderedDict(\"-2.0\"=>-2.0,\"-1.99\"=>-1.99,\"-1.98\"=>-1.98,\"-1.97\"=>-1.97,\"-1.96\"=>-1.96,\"-1.95\"=>-1.95,\"-1.94\"=>-1.94,\"-1.93\"=>-1.93,\"-1.92\"=>-1.92,\"-1.91\"=>-1.91…), Dict(-0.92=>\"-0.92\",1.2=>\"1.2\",1.68=>\"1.68\",-0.22=>\"-0.22\",-1.78=>\"-1.78\",1.19=>\"1.19\",-1.23=>\"-1.23\",0.22=>\"0.22\",-1.16=>\"-1.16\",0.2=>\"0.2\"…)), Any[], Any[], true, \"horizontal\")"
      ]
     },
     "metadata": {},
     "output_type": "display_data"
    },
    {
     "data": {
      "text/html": [
       "<?xml version=\"1.0\" encoding=\"utf-8\"?>\n",
       "<svg xmlns=\"http://www.w3.org/2000/svg\" xmlns:xlink=\"http://www.w3.org/1999/xlink\" width=\"600\" height=\"400\" viewBox=\"0 0 600 400\">\n",
       "<defs>\n",
       "  <clipPath id=\"clip00\">\n",
       "    <rect x=\"0\" y=\"0\" width=\"600\" height=\"400\"/>\n",
       "  </clipPath>\n",
       "</defs>\n",
       "<polygon clip-path=\"url(#clip00)\" points=\"\n",
       "0,400 600,400 600,0 0,0 \n",
       "  \" fill=\"#ffffff\" fill-opacity=\"1\"/>\n",
       "<defs>\n",
       "  <clipPath id=\"clip01\">\n",
       "    <rect x=\"120\" y=\"0\" width=\"421\" height=\"400\"/>\n",
       "  </clipPath>\n",
       "</defs>\n",
       "<polygon clip-path=\"url(#clip00)\" points=\"\n",
       "39.3701,376.378 592.126,376.378 592.126,7.87402 39.3701,7.87402 \n",
       "  \" fill=\"#ffffff\" fill-opacity=\"1\"/>\n",
       "<defs>\n",
       "  <clipPath id=\"clip02\">\n",
       "    <rect x=\"39\" y=\"7\" width=\"554\" height=\"370\"/>\n",
       "  </clipPath>\n",
       "</defs>\n",
       "<polyline clip-path=\"url(#clip02)\" style=\"stroke:#000000; stroke-width:1; stroke-opacity:0.5; fill:none\" stroke-dasharray=\"1, 2\" points=\"\n",
       "  49.7468,370.85 49.7468,13.4016 \n",
       "  \"/>\n",
       "<polyline clip-path=\"url(#clip02)\" style=\"stroke:#000000; stroke-width:1; stroke-opacity:0.5; fill:none\" stroke-dasharray=\"1, 2\" points=\"\n",
       "  313.114,370.85 313.114,13.4016 \n",
       "  \"/>\n",
       "<polyline clip-path=\"url(#clip02)\" style=\"stroke:#000000; stroke-width:1; stroke-opacity:0.5; fill:none\" stroke-dasharray=\"1, 2\" points=\"\n",
       "  576.482,370.85 576.482,13.4016 \n",
       "  \"/>\n",
       "<polyline clip-path=\"url(#clip02)\" style=\"stroke:#000000; stroke-width:1; stroke-opacity:0.5; fill:none\" stroke-dasharray=\"1, 2\" points=\"\n",
       "  47.6614,365.949 583.835,365.949 \n",
       "  \"/>\n",
       "<polyline clip-path=\"url(#clip02)\" style=\"stroke:#000000; stroke-width:1; stroke-opacity:0.5; fill:none\" stroke-dasharray=\"1, 2\" points=\"\n",
       "  47.6614,192.126 583.835,192.126 \n",
       "  \"/>\n",
       "<polyline clip-path=\"url(#clip02)\" style=\"stroke:#000000; stroke-width:1; stroke-opacity:0.5; fill:none\" stroke-dasharray=\"1, 2\" points=\"\n",
       "  47.6614,18.3034 583.835,18.3034 \n",
       "  \"/>\n",
       "<polyline clip-path=\"url(#clip00)\" style=\"stroke:#000000; stroke-width:1; stroke-opacity:1; fill:none\" points=\"\n",
       "  39.3701,376.378 592.126,376.378 \n",
       "  \"/>\n",
       "<polyline clip-path=\"url(#clip00)\" style=\"stroke:#000000; stroke-width:1; stroke-opacity:1; fill:none\" points=\"\n",
       "  49.7468,376.378 49.7468,370.85 \n",
       "  \"/>\n",
       "<polyline clip-path=\"url(#clip00)\" style=\"stroke:#000000; stroke-width:1; stroke-opacity:1; fill:none\" points=\"\n",
       "  313.114,376.378 313.114,370.85 \n",
       "  \"/>\n",
       "<polyline clip-path=\"url(#clip00)\" style=\"stroke:#000000; stroke-width:1; stroke-opacity:1; fill:none\" points=\"\n",
       "  576.482,376.378 576.482,370.85 \n",
       "  \"/>\n",
       "<polyline clip-path=\"url(#clip00)\" style=\"stroke:#000000; stroke-width:1; stroke-opacity:1; fill:none\" points=\"\n",
       "  39.3701,376.378 39.3701,7.87402 \n",
       "  \"/>\n",
       "<polyline clip-path=\"url(#clip00)\" style=\"stroke:#000000; stroke-width:1; stroke-opacity:1; fill:none\" points=\"\n",
       "  39.3701,365.949 47.6614,365.949 \n",
       "  \"/>\n",
       "<polyline clip-path=\"url(#clip00)\" style=\"stroke:#000000; stroke-width:1; stroke-opacity:1; fill:none\" points=\"\n",
       "  39.3701,192.126 47.6614,192.126 \n",
       "  \"/>\n",
       "<polyline clip-path=\"url(#clip00)\" style=\"stroke:#000000; stroke-width:1; stroke-opacity:1; fill:none\" points=\"\n",
       "  39.3701,18.3034 47.6614,18.3034 \n",
       "  \"/>\n",
       "<g clip-path=\"url(#clip00)\">\n",
       "<text style=\"fill:#000000; fill-opacity:1; font-family:Arial,Helvetica Neue,Helvetica,sans-serif; font-size:12; text-anchor:middle;\" transform=\"rotate(0, 49.7468, 390.178)\" x=\"49.7468\" y=\"390.178\">0</text>\n",
       "</g>\n",
       "<g clip-path=\"url(#clip00)\">\n",
       "<text style=\"fill:#000000; fill-opacity:1; font-family:Arial,Helvetica Neue,Helvetica,sans-serif; font-size:12; text-anchor:middle;\" transform=\"rotate(0, 313.114, 390.178)\" x=\"313.114\" y=\"390.178\">50</text>\n",
       "</g>\n",
       "<g clip-path=\"url(#clip00)\">\n",
       "<text style=\"fill:#000000; fill-opacity:1; font-family:Arial,Helvetica Neue,Helvetica,sans-serif; font-size:12; text-anchor:middle;\" transform=\"rotate(0, 576.482, 390.178)\" x=\"576.482\" y=\"390.178\">100</text>\n",
       "</g>\n",
       "<g clip-path=\"url(#clip00)\">\n",
       "<text style=\"fill:#000000; fill-opacity:1; font-family:Arial,Helvetica Neue,Helvetica,sans-serif; font-size:12; text-anchor:end;\" transform=\"rotate(0, 33.3701, 370.449)\" x=\"33.3701\" y=\"370.449\">0.0</text>\n",
       "</g>\n",
       "<g clip-path=\"url(#clip00)\">\n",
       "<text style=\"fill:#000000; fill-opacity:1; font-family:Arial,Helvetica Neue,Helvetica,sans-serif; font-size:12; text-anchor:end;\" transform=\"rotate(0, 33.3701, 196.626)\" x=\"33.3701\" y=\"196.626\">0.5</text>\n",
       "</g>\n",
       "<g clip-path=\"url(#clip00)\">\n",
       "<text style=\"fill:#000000; fill-opacity:1; font-family:Arial,Helvetica Neue,Helvetica,sans-serif; font-size:12; text-anchor:end;\" transform=\"rotate(0, 33.3701, 22.8034)\" x=\"33.3701\" y=\"22.8034\">1.0</text>\n",
       "</g>\n",
       "<circle clip-path=\"url(#clip02)\" style=\"fill:#000000; stroke:none; fill-opacity:1\" cx=\"55.0141\" cy=\"18.3034\" r=\"4\"/>\n",
       "<circle clip-path=\"url(#clip02)\" style=\"fill:#009af9; stroke:none; fill-opacity:1\" cx=\"55.0141\" cy=\"18.3034\" r=\"3\"/>\n",
       "<circle clip-path=\"url(#clip02)\" style=\"fill:#000000; stroke:none; fill-opacity:1\" cx=\"60.2815\" cy=\"365.949\" r=\"4\"/>\n",
       "<circle clip-path=\"url(#clip02)\" style=\"fill:#009af9; stroke:none; fill-opacity:1\" cx=\"60.2815\" cy=\"365.949\" r=\"3\"/>\n",
       "<circle clip-path=\"url(#clip02)\" style=\"fill:#000000; stroke:none; fill-opacity:1\" cx=\"65.5488\" cy=\"18.3034\" r=\"4\"/>\n",
       "<circle clip-path=\"url(#clip02)\" style=\"fill:#009af9; stroke:none; fill-opacity:1\" cx=\"65.5488\" cy=\"18.3034\" r=\"3\"/>\n",
       "<circle clip-path=\"url(#clip02)\" style=\"fill:#000000; stroke:none; fill-opacity:1\" cx=\"70.8162\" cy=\"365.949\" r=\"4\"/>\n",
       "<circle clip-path=\"url(#clip02)\" style=\"fill:#009af9; stroke:none; fill-opacity:1\" cx=\"70.8162\" cy=\"365.949\" r=\"3\"/>\n",
       "<circle clip-path=\"url(#clip02)\" style=\"fill:#000000; stroke:none; fill-opacity:1\" cx=\"76.0835\" cy=\"18.3034\" r=\"4\"/>\n",
       "<circle clip-path=\"url(#clip02)\" style=\"fill:#009af9; stroke:none; fill-opacity:1\" cx=\"76.0835\" cy=\"18.3034\" r=\"3\"/>\n",
       "<circle clip-path=\"url(#clip02)\" style=\"fill:#000000; stroke:none; fill-opacity:1\" cx=\"81.3509\" cy=\"365.949\" r=\"4\"/>\n",
       "<circle clip-path=\"url(#clip02)\" style=\"fill:#009af9; stroke:none; fill-opacity:1\" cx=\"81.3509\" cy=\"365.949\" r=\"3\"/>\n",
       "<circle clip-path=\"url(#clip02)\" style=\"fill:#000000; stroke:none; fill-opacity:1\" cx=\"86.6182\" cy=\"18.3034\" r=\"4\"/>\n",
       "<circle clip-path=\"url(#clip02)\" style=\"fill:#009af9; stroke:none; fill-opacity:1\" cx=\"86.6182\" cy=\"18.3034\" r=\"3\"/>\n",
       "<circle clip-path=\"url(#clip02)\" style=\"fill:#000000; stroke:none; fill-opacity:1\" cx=\"91.8856\" cy=\"365.949\" r=\"4\"/>\n",
       "<circle clip-path=\"url(#clip02)\" style=\"fill:#009af9; stroke:none; fill-opacity:1\" cx=\"91.8856\" cy=\"365.949\" r=\"3\"/>\n",
       "<circle clip-path=\"url(#clip02)\" style=\"fill:#000000; stroke:none; fill-opacity:1\" cx=\"97.1529\" cy=\"18.3034\" r=\"4\"/>\n",
       "<circle clip-path=\"url(#clip02)\" style=\"fill:#009af9; stroke:none; fill-opacity:1\" cx=\"97.1529\" cy=\"18.3034\" r=\"3\"/>\n",
       "<circle clip-path=\"url(#clip02)\" style=\"fill:#000000; stroke:none; fill-opacity:1\" cx=\"102.42\" cy=\"365.949\" r=\"4\"/>\n",
       "<circle clip-path=\"url(#clip02)\" style=\"fill:#009af9; stroke:none; fill-opacity:1\" cx=\"102.42\" cy=\"365.949\" r=\"3\"/>\n",
       "<circle clip-path=\"url(#clip02)\" style=\"fill:#000000; stroke:none; fill-opacity:1\" cx=\"107.688\" cy=\"18.3034\" r=\"4\"/>\n",
       "<circle clip-path=\"url(#clip02)\" style=\"fill:#009af9; stroke:none; fill-opacity:1\" cx=\"107.688\" cy=\"18.3034\" r=\"3\"/>\n",
       "<circle clip-path=\"url(#clip02)\" style=\"fill:#000000; stroke:none; fill-opacity:1\" cx=\"112.955\" cy=\"365.949\" r=\"4\"/>\n",
       "<circle clip-path=\"url(#clip02)\" style=\"fill:#009af9; stroke:none; fill-opacity:1\" cx=\"112.955\" cy=\"365.949\" r=\"3\"/>\n",
       "<circle clip-path=\"url(#clip02)\" style=\"fill:#000000; stroke:none; fill-opacity:1\" cx=\"118.222\" cy=\"18.3034\" r=\"4\"/>\n",
       "<circle clip-path=\"url(#clip02)\" style=\"fill:#009af9; stroke:none; fill-opacity:1\" cx=\"118.222\" cy=\"18.3034\" r=\"3\"/>\n",
       "<circle clip-path=\"url(#clip02)\" style=\"fill:#000000; stroke:none; fill-opacity:1\" cx=\"123.49\" cy=\"365.949\" r=\"4\"/>\n",
       "<circle clip-path=\"url(#clip02)\" style=\"fill:#009af9; stroke:none; fill-opacity:1\" cx=\"123.49\" cy=\"365.949\" r=\"3\"/>\n",
       "<circle clip-path=\"url(#clip02)\" style=\"fill:#000000; stroke:none; fill-opacity:1\" cx=\"128.757\" cy=\"18.3034\" r=\"4\"/>\n",
       "<circle clip-path=\"url(#clip02)\" style=\"fill:#009af9; stroke:none; fill-opacity:1\" cx=\"128.757\" cy=\"18.3034\" r=\"3\"/>\n",
       "<circle clip-path=\"url(#clip02)\" style=\"fill:#000000; stroke:none; fill-opacity:1\" cx=\"134.024\" cy=\"365.949\" r=\"4\"/>\n",
       "<circle clip-path=\"url(#clip02)\" style=\"fill:#009af9; stroke:none; fill-opacity:1\" cx=\"134.024\" cy=\"365.949\" r=\"3\"/>\n",
       "<circle clip-path=\"url(#clip02)\" style=\"fill:#000000; stroke:none; fill-opacity:1\" cx=\"139.292\" cy=\"18.3034\" r=\"4\"/>\n",
       "<circle clip-path=\"url(#clip02)\" style=\"fill:#009af9; stroke:none; fill-opacity:1\" cx=\"139.292\" cy=\"18.3034\" r=\"3\"/>\n",
       "<circle clip-path=\"url(#clip02)\" style=\"fill:#000000; stroke:none; fill-opacity:1\" cx=\"144.559\" cy=\"365.949\" r=\"4\"/>\n",
       "<circle clip-path=\"url(#clip02)\" style=\"fill:#009af9; stroke:none; fill-opacity:1\" cx=\"144.559\" cy=\"365.949\" r=\"3\"/>\n",
       "<circle clip-path=\"url(#clip02)\" style=\"fill:#000000; stroke:none; fill-opacity:1\" cx=\"149.826\" cy=\"18.3034\" r=\"4\"/>\n",
       "<circle clip-path=\"url(#clip02)\" style=\"fill:#009af9; stroke:none; fill-opacity:1\" cx=\"149.826\" cy=\"18.3034\" r=\"3\"/>\n",
       "<circle clip-path=\"url(#clip02)\" style=\"fill:#000000; stroke:none; fill-opacity:1\" cx=\"155.094\" cy=\"365.949\" r=\"4\"/>\n",
       "<circle clip-path=\"url(#clip02)\" style=\"fill:#009af9; stroke:none; fill-opacity:1\" cx=\"155.094\" cy=\"365.949\" r=\"3\"/>\n",
       "<circle clip-path=\"url(#clip02)\" style=\"fill:#000000; stroke:none; fill-opacity:1\" cx=\"160.361\" cy=\"18.3034\" r=\"4\"/>\n",
       "<circle clip-path=\"url(#clip02)\" style=\"fill:#009af9; stroke:none; fill-opacity:1\" cx=\"160.361\" cy=\"18.3034\" r=\"3\"/>\n",
       "<circle clip-path=\"url(#clip02)\" style=\"fill:#000000; stroke:none; fill-opacity:1\" cx=\"165.629\" cy=\"365.949\" r=\"4\"/>\n",
       "<circle clip-path=\"url(#clip02)\" style=\"fill:#009af9; stroke:none; fill-opacity:1\" cx=\"165.629\" cy=\"365.949\" r=\"3\"/>\n",
       "<circle clip-path=\"url(#clip02)\" style=\"fill:#000000; stroke:none; fill-opacity:1\" cx=\"170.896\" cy=\"18.3034\" r=\"4\"/>\n",
       "<circle clip-path=\"url(#clip02)\" style=\"fill:#009af9; stroke:none; fill-opacity:1\" cx=\"170.896\" cy=\"18.3034\" r=\"3\"/>\n",
       "<circle clip-path=\"url(#clip02)\" style=\"fill:#000000; stroke:none; fill-opacity:1\" cx=\"176.163\" cy=\"365.949\" r=\"4\"/>\n",
       "<circle clip-path=\"url(#clip02)\" style=\"fill:#009af9; stroke:none; fill-opacity:1\" cx=\"176.163\" cy=\"365.949\" r=\"3\"/>\n",
       "<circle clip-path=\"url(#clip02)\" style=\"fill:#000000; stroke:none; fill-opacity:1\" cx=\"181.431\" cy=\"18.3034\" r=\"4\"/>\n",
       "<circle clip-path=\"url(#clip02)\" style=\"fill:#009af9; stroke:none; fill-opacity:1\" cx=\"181.431\" cy=\"18.3034\" r=\"3\"/>\n",
       "<circle clip-path=\"url(#clip02)\" style=\"fill:#000000; stroke:none; fill-opacity:1\" cx=\"186.698\" cy=\"365.949\" r=\"4\"/>\n",
       "<circle clip-path=\"url(#clip02)\" style=\"fill:#009af9; stroke:none; fill-opacity:1\" cx=\"186.698\" cy=\"365.949\" r=\"3\"/>\n",
       "<circle clip-path=\"url(#clip02)\" style=\"fill:#000000; stroke:none; fill-opacity:1\" cx=\"191.965\" cy=\"18.3034\" r=\"4\"/>\n",
       "<circle clip-path=\"url(#clip02)\" style=\"fill:#009af9; stroke:none; fill-opacity:1\" cx=\"191.965\" cy=\"18.3034\" r=\"3\"/>\n",
       "<circle clip-path=\"url(#clip02)\" style=\"fill:#000000; stroke:none; fill-opacity:1\" cx=\"197.233\" cy=\"365.949\" r=\"4\"/>\n",
       "<circle clip-path=\"url(#clip02)\" style=\"fill:#009af9; stroke:none; fill-opacity:1\" cx=\"197.233\" cy=\"365.949\" r=\"3\"/>\n",
       "<circle clip-path=\"url(#clip02)\" style=\"fill:#000000; stroke:none; fill-opacity:1\" cx=\"202.5\" cy=\"18.3034\" r=\"4\"/>\n",
       "<circle clip-path=\"url(#clip02)\" style=\"fill:#009af9; stroke:none; fill-opacity:1\" cx=\"202.5\" cy=\"18.3034\" r=\"3\"/>\n",
       "<circle clip-path=\"url(#clip02)\" style=\"fill:#000000; stroke:none; fill-opacity:1\" cx=\"207.767\" cy=\"365.949\" r=\"4\"/>\n",
       "<circle clip-path=\"url(#clip02)\" style=\"fill:#009af9; stroke:none; fill-opacity:1\" cx=\"207.767\" cy=\"365.949\" r=\"3\"/>\n",
       "<circle clip-path=\"url(#clip02)\" style=\"fill:#000000; stroke:none; fill-opacity:1\" cx=\"213.035\" cy=\"18.3034\" r=\"4\"/>\n",
       "<circle clip-path=\"url(#clip02)\" style=\"fill:#009af9; stroke:none; fill-opacity:1\" cx=\"213.035\" cy=\"18.3034\" r=\"3\"/>\n",
       "<circle clip-path=\"url(#clip02)\" style=\"fill:#000000; stroke:none; fill-opacity:1\" cx=\"218.302\" cy=\"365.949\" r=\"4\"/>\n",
       "<circle clip-path=\"url(#clip02)\" style=\"fill:#009af9; stroke:none; fill-opacity:1\" cx=\"218.302\" cy=\"365.949\" r=\"3\"/>\n",
       "<circle clip-path=\"url(#clip02)\" style=\"fill:#000000; stroke:none; fill-opacity:1\" cx=\"223.569\" cy=\"18.3034\" r=\"4\"/>\n",
       "<circle clip-path=\"url(#clip02)\" style=\"fill:#009af9; stroke:none; fill-opacity:1\" cx=\"223.569\" cy=\"18.3034\" r=\"3\"/>\n",
       "<circle clip-path=\"url(#clip02)\" style=\"fill:#000000; stroke:none; fill-opacity:1\" cx=\"228.837\" cy=\"365.949\" r=\"4\"/>\n",
       "<circle clip-path=\"url(#clip02)\" style=\"fill:#009af9; stroke:none; fill-opacity:1\" cx=\"228.837\" cy=\"365.949\" r=\"3\"/>\n",
       "<circle clip-path=\"url(#clip02)\" style=\"fill:#000000; stroke:none; fill-opacity:1\" cx=\"234.104\" cy=\"18.3034\" r=\"4\"/>\n",
       "<circle clip-path=\"url(#clip02)\" style=\"fill:#009af9; stroke:none; fill-opacity:1\" cx=\"234.104\" cy=\"18.3034\" r=\"3\"/>\n",
       "<circle clip-path=\"url(#clip02)\" style=\"fill:#000000; stroke:none; fill-opacity:1\" cx=\"239.371\" cy=\"365.949\" r=\"4\"/>\n",
       "<circle clip-path=\"url(#clip02)\" style=\"fill:#009af9; stroke:none; fill-opacity:1\" cx=\"239.371\" cy=\"365.949\" r=\"3\"/>\n",
       "<circle clip-path=\"url(#clip02)\" style=\"fill:#000000; stroke:none; fill-opacity:1\" cx=\"244.639\" cy=\"18.3034\" r=\"4\"/>\n",
       "<circle clip-path=\"url(#clip02)\" style=\"fill:#009af9; stroke:none; fill-opacity:1\" cx=\"244.639\" cy=\"18.3034\" r=\"3\"/>\n",
       "<circle clip-path=\"url(#clip02)\" style=\"fill:#000000; stroke:none; fill-opacity:1\" cx=\"249.906\" cy=\"365.949\" r=\"4\"/>\n",
       "<circle clip-path=\"url(#clip02)\" style=\"fill:#009af9; stroke:none; fill-opacity:1\" cx=\"249.906\" cy=\"365.949\" r=\"3\"/>\n",
       "<circle clip-path=\"url(#clip02)\" style=\"fill:#000000; stroke:none; fill-opacity:1\" cx=\"255.173\" cy=\"18.3034\" r=\"4\"/>\n",
       "<circle clip-path=\"url(#clip02)\" style=\"fill:#009af9; stroke:none; fill-opacity:1\" cx=\"255.173\" cy=\"18.3034\" r=\"3\"/>\n",
       "<circle clip-path=\"url(#clip02)\" style=\"fill:#000000; stroke:none; fill-opacity:1\" cx=\"260.441\" cy=\"365.949\" r=\"4\"/>\n",
       "<circle clip-path=\"url(#clip02)\" style=\"fill:#009af9; stroke:none; fill-opacity:1\" cx=\"260.441\" cy=\"365.949\" r=\"3\"/>\n",
       "<circle clip-path=\"url(#clip02)\" style=\"fill:#000000; stroke:none; fill-opacity:1\" cx=\"265.708\" cy=\"18.3034\" r=\"4\"/>\n",
       "<circle clip-path=\"url(#clip02)\" style=\"fill:#009af9; stroke:none; fill-opacity:1\" cx=\"265.708\" cy=\"18.3034\" r=\"3\"/>\n",
       "<circle clip-path=\"url(#clip02)\" style=\"fill:#000000; stroke:none; fill-opacity:1\" cx=\"270.976\" cy=\"365.949\" r=\"4\"/>\n",
       "<circle clip-path=\"url(#clip02)\" style=\"fill:#009af9; stroke:none; fill-opacity:1\" cx=\"270.976\" cy=\"365.949\" r=\"3\"/>\n",
       "<circle clip-path=\"url(#clip02)\" style=\"fill:#000000; stroke:none; fill-opacity:1\" cx=\"276.243\" cy=\"18.3034\" r=\"4\"/>\n",
       "<circle clip-path=\"url(#clip02)\" style=\"fill:#009af9; stroke:none; fill-opacity:1\" cx=\"276.243\" cy=\"18.3034\" r=\"3\"/>\n",
       "<circle clip-path=\"url(#clip02)\" style=\"fill:#000000; stroke:none; fill-opacity:1\" cx=\"281.51\" cy=\"365.949\" r=\"4\"/>\n",
       "<circle clip-path=\"url(#clip02)\" style=\"fill:#009af9; stroke:none; fill-opacity:1\" cx=\"281.51\" cy=\"365.949\" r=\"3\"/>\n",
       "<circle clip-path=\"url(#clip02)\" style=\"fill:#000000; stroke:none; fill-opacity:1\" cx=\"286.778\" cy=\"18.3034\" r=\"4\"/>\n",
       "<circle clip-path=\"url(#clip02)\" style=\"fill:#009af9; stroke:none; fill-opacity:1\" cx=\"286.778\" cy=\"18.3034\" r=\"3\"/>\n",
       "<circle clip-path=\"url(#clip02)\" style=\"fill:#000000; stroke:none; fill-opacity:1\" cx=\"292.045\" cy=\"365.949\" r=\"4\"/>\n",
       "<circle clip-path=\"url(#clip02)\" style=\"fill:#009af9; stroke:none; fill-opacity:1\" cx=\"292.045\" cy=\"365.949\" r=\"3\"/>\n",
       "<circle clip-path=\"url(#clip02)\" style=\"fill:#000000; stroke:none; fill-opacity:1\" cx=\"297.312\" cy=\"18.3034\" r=\"4\"/>\n",
       "<circle clip-path=\"url(#clip02)\" style=\"fill:#009af9; stroke:none; fill-opacity:1\" cx=\"297.312\" cy=\"18.3034\" r=\"3\"/>\n",
       "<circle clip-path=\"url(#clip02)\" style=\"fill:#000000; stroke:none; fill-opacity:1\" cx=\"302.58\" cy=\"365.949\" r=\"4\"/>\n",
       "<circle clip-path=\"url(#clip02)\" style=\"fill:#009af9; stroke:none; fill-opacity:1\" cx=\"302.58\" cy=\"365.949\" r=\"3\"/>\n",
       "<circle clip-path=\"url(#clip02)\" style=\"fill:#000000; stroke:none; fill-opacity:1\" cx=\"307.847\" cy=\"18.3034\" r=\"4\"/>\n",
       "<circle clip-path=\"url(#clip02)\" style=\"fill:#009af9; stroke:none; fill-opacity:1\" cx=\"307.847\" cy=\"18.3034\" r=\"3\"/>\n",
       "<circle clip-path=\"url(#clip02)\" style=\"fill:#000000; stroke:none; fill-opacity:1\" cx=\"313.114\" cy=\"365.949\" r=\"4\"/>\n",
       "<circle clip-path=\"url(#clip02)\" style=\"fill:#009af9; stroke:none; fill-opacity:1\" cx=\"313.114\" cy=\"365.949\" r=\"3\"/>\n",
       "<circle clip-path=\"url(#clip02)\" style=\"fill:#000000; stroke:none; fill-opacity:1\" cx=\"318.382\" cy=\"18.3034\" r=\"4\"/>\n",
       "<circle clip-path=\"url(#clip02)\" style=\"fill:#009af9; stroke:none; fill-opacity:1\" cx=\"318.382\" cy=\"18.3034\" r=\"3\"/>\n",
       "<circle clip-path=\"url(#clip02)\" style=\"fill:#000000; stroke:none; fill-opacity:1\" cx=\"323.649\" cy=\"365.949\" r=\"4\"/>\n",
       "<circle clip-path=\"url(#clip02)\" style=\"fill:#009af9; stroke:none; fill-opacity:1\" cx=\"323.649\" cy=\"365.949\" r=\"3\"/>\n",
       "<circle clip-path=\"url(#clip02)\" style=\"fill:#000000; stroke:none; fill-opacity:1\" cx=\"328.916\" cy=\"18.3034\" r=\"4\"/>\n",
       "<circle clip-path=\"url(#clip02)\" style=\"fill:#009af9; stroke:none; fill-opacity:1\" cx=\"328.916\" cy=\"18.3034\" r=\"3\"/>\n",
       "<circle clip-path=\"url(#clip02)\" style=\"fill:#000000; stroke:none; fill-opacity:1\" cx=\"334.184\" cy=\"365.949\" r=\"4\"/>\n",
       "<circle clip-path=\"url(#clip02)\" style=\"fill:#009af9; stroke:none; fill-opacity:1\" cx=\"334.184\" cy=\"365.949\" r=\"3\"/>\n",
       "<circle clip-path=\"url(#clip02)\" style=\"fill:#000000; stroke:none; fill-opacity:1\" cx=\"339.451\" cy=\"18.3034\" r=\"4\"/>\n",
       "<circle clip-path=\"url(#clip02)\" style=\"fill:#009af9; stroke:none; fill-opacity:1\" cx=\"339.451\" cy=\"18.3034\" r=\"3\"/>\n",
       "<circle clip-path=\"url(#clip02)\" style=\"fill:#000000; stroke:none; fill-opacity:1\" cx=\"344.718\" cy=\"365.949\" r=\"4\"/>\n",
       "<circle clip-path=\"url(#clip02)\" style=\"fill:#009af9; stroke:none; fill-opacity:1\" cx=\"344.718\" cy=\"365.949\" r=\"3\"/>\n",
       "<circle clip-path=\"url(#clip02)\" style=\"fill:#000000; stroke:none; fill-opacity:1\" cx=\"349.986\" cy=\"18.3034\" r=\"4\"/>\n",
       "<circle clip-path=\"url(#clip02)\" style=\"fill:#009af9; stroke:none; fill-opacity:1\" cx=\"349.986\" cy=\"18.3034\" r=\"3\"/>\n",
       "<circle clip-path=\"url(#clip02)\" style=\"fill:#000000; stroke:none; fill-opacity:1\" cx=\"355.253\" cy=\"365.949\" r=\"4\"/>\n",
       "<circle clip-path=\"url(#clip02)\" style=\"fill:#009af9; stroke:none; fill-opacity:1\" cx=\"355.253\" cy=\"365.949\" r=\"3\"/>\n",
       "<circle clip-path=\"url(#clip02)\" style=\"fill:#000000; stroke:none; fill-opacity:1\" cx=\"360.521\" cy=\"18.3034\" r=\"4\"/>\n",
       "<circle clip-path=\"url(#clip02)\" style=\"fill:#009af9; stroke:none; fill-opacity:1\" cx=\"360.521\" cy=\"18.3034\" r=\"3\"/>\n",
       "<circle clip-path=\"url(#clip02)\" style=\"fill:#000000; stroke:none; fill-opacity:1\" cx=\"365.788\" cy=\"365.949\" r=\"4\"/>\n",
       "<circle clip-path=\"url(#clip02)\" style=\"fill:#009af9; stroke:none; fill-opacity:1\" cx=\"365.788\" cy=\"365.949\" r=\"3\"/>\n",
       "<circle clip-path=\"url(#clip02)\" style=\"fill:#000000; stroke:none; fill-opacity:1\" cx=\"371.055\" cy=\"18.3034\" r=\"4\"/>\n",
       "<circle clip-path=\"url(#clip02)\" style=\"fill:#009af9; stroke:none; fill-opacity:1\" cx=\"371.055\" cy=\"18.3034\" r=\"3\"/>\n",
       "<circle clip-path=\"url(#clip02)\" style=\"fill:#000000; stroke:none; fill-opacity:1\" cx=\"376.323\" cy=\"365.949\" r=\"4\"/>\n",
       "<circle clip-path=\"url(#clip02)\" style=\"fill:#009af9; stroke:none; fill-opacity:1\" cx=\"376.323\" cy=\"365.949\" r=\"3\"/>\n",
       "<circle clip-path=\"url(#clip02)\" style=\"fill:#000000; stroke:none; fill-opacity:1\" cx=\"381.59\" cy=\"18.3034\" r=\"4\"/>\n",
       "<circle clip-path=\"url(#clip02)\" style=\"fill:#009af9; stroke:none; fill-opacity:1\" cx=\"381.59\" cy=\"18.3034\" r=\"3\"/>\n",
       "<circle clip-path=\"url(#clip02)\" style=\"fill:#000000; stroke:none; fill-opacity:1\" cx=\"386.857\" cy=\"365.949\" r=\"4\"/>\n",
       "<circle clip-path=\"url(#clip02)\" style=\"fill:#009af9; stroke:none; fill-opacity:1\" cx=\"386.857\" cy=\"365.949\" r=\"3\"/>\n",
       "<circle clip-path=\"url(#clip02)\" style=\"fill:#000000; stroke:none; fill-opacity:1\" cx=\"392.125\" cy=\"18.3034\" r=\"4\"/>\n",
       "<circle clip-path=\"url(#clip02)\" style=\"fill:#009af9; stroke:none; fill-opacity:1\" cx=\"392.125\" cy=\"18.3034\" r=\"3\"/>\n",
       "<circle clip-path=\"url(#clip02)\" style=\"fill:#000000; stroke:none; fill-opacity:1\" cx=\"397.392\" cy=\"365.949\" r=\"4\"/>\n",
       "<circle clip-path=\"url(#clip02)\" style=\"fill:#009af9; stroke:none; fill-opacity:1\" cx=\"397.392\" cy=\"365.949\" r=\"3\"/>\n",
       "<circle clip-path=\"url(#clip02)\" style=\"fill:#000000; stroke:none; fill-opacity:1\" cx=\"402.659\" cy=\"18.3034\" r=\"4\"/>\n",
       "<circle clip-path=\"url(#clip02)\" style=\"fill:#009af9; stroke:none; fill-opacity:1\" cx=\"402.659\" cy=\"18.3034\" r=\"3\"/>\n",
       "<circle clip-path=\"url(#clip02)\" style=\"fill:#000000; stroke:none; fill-opacity:1\" cx=\"407.927\" cy=\"365.949\" r=\"4\"/>\n",
       "<circle clip-path=\"url(#clip02)\" style=\"fill:#009af9; stroke:none; fill-opacity:1\" cx=\"407.927\" cy=\"365.949\" r=\"3\"/>\n",
       "<circle clip-path=\"url(#clip02)\" style=\"fill:#000000; stroke:none; fill-opacity:1\" cx=\"413.194\" cy=\"18.3034\" r=\"4\"/>\n",
       "<circle clip-path=\"url(#clip02)\" style=\"fill:#009af9; stroke:none; fill-opacity:1\" cx=\"413.194\" cy=\"18.3034\" r=\"3\"/>\n",
       "<circle clip-path=\"url(#clip02)\" style=\"fill:#000000; stroke:none; fill-opacity:1\" cx=\"418.461\" cy=\"365.949\" r=\"4\"/>\n",
       "<circle clip-path=\"url(#clip02)\" style=\"fill:#009af9; stroke:none; fill-opacity:1\" cx=\"418.461\" cy=\"365.949\" r=\"3\"/>\n",
       "<circle clip-path=\"url(#clip02)\" style=\"fill:#000000; stroke:none; fill-opacity:1\" cx=\"423.729\" cy=\"18.3034\" r=\"4\"/>\n",
       "<circle clip-path=\"url(#clip02)\" style=\"fill:#009af9; stroke:none; fill-opacity:1\" cx=\"423.729\" cy=\"18.3034\" r=\"3\"/>\n",
       "<circle clip-path=\"url(#clip02)\" style=\"fill:#000000; stroke:none; fill-opacity:1\" cx=\"428.996\" cy=\"365.949\" r=\"4\"/>\n",
       "<circle clip-path=\"url(#clip02)\" style=\"fill:#009af9; stroke:none; fill-opacity:1\" cx=\"428.996\" cy=\"365.949\" r=\"3\"/>\n",
       "<circle clip-path=\"url(#clip02)\" style=\"fill:#000000; stroke:none; fill-opacity:1\" cx=\"434.263\" cy=\"18.3034\" r=\"4\"/>\n",
       "<circle clip-path=\"url(#clip02)\" style=\"fill:#009af9; stroke:none; fill-opacity:1\" cx=\"434.263\" cy=\"18.3034\" r=\"3\"/>\n",
       "<circle clip-path=\"url(#clip02)\" style=\"fill:#000000; stroke:none; fill-opacity:1\" cx=\"439.531\" cy=\"365.949\" r=\"4\"/>\n",
       "<circle clip-path=\"url(#clip02)\" style=\"fill:#009af9; stroke:none; fill-opacity:1\" cx=\"439.531\" cy=\"365.949\" r=\"3\"/>\n",
       "<circle clip-path=\"url(#clip02)\" style=\"fill:#000000; stroke:none; fill-opacity:1\" cx=\"444.798\" cy=\"18.3034\" r=\"4\"/>\n",
       "<circle clip-path=\"url(#clip02)\" style=\"fill:#009af9; stroke:none; fill-opacity:1\" cx=\"444.798\" cy=\"18.3034\" r=\"3\"/>\n",
       "<circle clip-path=\"url(#clip02)\" style=\"fill:#000000; stroke:none; fill-opacity:1\" cx=\"450.066\" cy=\"365.949\" r=\"4\"/>\n",
       "<circle clip-path=\"url(#clip02)\" style=\"fill:#009af9; stroke:none; fill-opacity:1\" cx=\"450.066\" cy=\"365.949\" r=\"3\"/>\n",
       "<circle clip-path=\"url(#clip02)\" style=\"fill:#000000; stroke:none; fill-opacity:1\" cx=\"455.333\" cy=\"18.3034\" r=\"4\"/>\n",
       "<circle clip-path=\"url(#clip02)\" style=\"fill:#009af9; stroke:none; fill-opacity:1\" cx=\"455.333\" cy=\"18.3034\" r=\"3\"/>\n",
       "<circle clip-path=\"url(#clip02)\" style=\"fill:#000000; stroke:none; fill-opacity:1\" cx=\"460.6\" cy=\"365.949\" r=\"4\"/>\n",
       "<circle clip-path=\"url(#clip02)\" style=\"fill:#009af9; stroke:none; fill-opacity:1\" cx=\"460.6\" cy=\"365.949\" r=\"3\"/>\n",
       "<circle clip-path=\"url(#clip02)\" style=\"fill:#000000; stroke:none; fill-opacity:1\" cx=\"465.868\" cy=\"18.3034\" r=\"4\"/>\n",
       "<circle clip-path=\"url(#clip02)\" style=\"fill:#009af9; stroke:none; fill-opacity:1\" cx=\"465.868\" cy=\"18.3034\" r=\"3\"/>\n",
       "<circle clip-path=\"url(#clip02)\" style=\"fill:#000000; stroke:none; fill-opacity:1\" cx=\"471.135\" cy=\"365.949\" r=\"4\"/>\n",
       "<circle clip-path=\"url(#clip02)\" style=\"fill:#009af9; stroke:none; fill-opacity:1\" cx=\"471.135\" cy=\"365.949\" r=\"3\"/>\n",
       "<circle clip-path=\"url(#clip02)\" style=\"fill:#000000; stroke:none; fill-opacity:1\" cx=\"476.402\" cy=\"18.3034\" r=\"4\"/>\n",
       "<circle clip-path=\"url(#clip02)\" style=\"fill:#009af9; stroke:none; fill-opacity:1\" cx=\"476.402\" cy=\"18.3034\" r=\"3\"/>\n",
       "<circle clip-path=\"url(#clip02)\" style=\"fill:#000000; stroke:none; fill-opacity:1\" cx=\"481.67\" cy=\"365.949\" r=\"4\"/>\n",
       "<circle clip-path=\"url(#clip02)\" style=\"fill:#009af9; stroke:none; fill-opacity:1\" cx=\"481.67\" cy=\"365.949\" r=\"3\"/>\n",
       "<circle clip-path=\"url(#clip02)\" style=\"fill:#000000; stroke:none; fill-opacity:1\" cx=\"486.937\" cy=\"18.3034\" r=\"4\"/>\n",
       "<circle clip-path=\"url(#clip02)\" style=\"fill:#009af9; stroke:none; fill-opacity:1\" cx=\"486.937\" cy=\"18.3034\" r=\"3\"/>\n",
       "<circle clip-path=\"url(#clip02)\" style=\"fill:#000000; stroke:none; fill-opacity:1\" cx=\"492.204\" cy=\"365.949\" r=\"4\"/>\n",
       "<circle clip-path=\"url(#clip02)\" style=\"fill:#009af9; stroke:none; fill-opacity:1\" cx=\"492.204\" cy=\"365.949\" r=\"3\"/>\n",
       "<circle clip-path=\"url(#clip02)\" style=\"fill:#000000; stroke:none; fill-opacity:1\" cx=\"497.472\" cy=\"18.3034\" r=\"4\"/>\n",
       "<circle clip-path=\"url(#clip02)\" style=\"fill:#009af9; stroke:none; fill-opacity:1\" cx=\"497.472\" cy=\"18.3034\" r=\"3\"/>\n",
       "<circle clip-path=\"url(#clip02)\" style=\"fill:#000000; stroke:none; fill-opacity:1\" cx=\"502.739\" cy=\"365.949\" r=\"4\"/>\n",
       "<circle clip-path=\"url(#clip02)\" style=\"fill:#009af9; stroke:none; fill-opacity:1\" cx=\"502.739\" cy=\"365.949\" r=\"3\"/>\n",
       "<circle clip-path=\"url(#clip02)\" style=\"fill:#000000; stroke:none; fill-opacity:1\" cx=\"508.006\" cy=\"18.3034\" r=\"4\"/>\n",
       "<circle clip-path=\"url(#clip02)\" style=\"fill:#009af9; stroke:none; fill-opacity:1\" cx=\"508.006\" cy=\"18.3034\" r=\"3\"/>\n",
       "<circle clip-path=\"url(#clip02)\" style=\"fill:#000000; stroke:none; fill-opacity:1\" cx=\"513.274\" cy=\"365.949\" r=\"4\"/>\n",
       "<circle clip-path=\"url(#clip02)\" style=\"fill:#009af9; stroke:none; fill-opacity:1\" cx=\"513.274\" cy=\"365.949\" r=\"3\"/>\n",
       "<circle clip-path=\"url(#clip02)\" style=\"fill:#000000; stroke:none; fill-opacity:1\" cx=\"518.541\" cy=\"18.3034\" r=\"4\"/>\n",
       "<circle clip-path=\"url(#clip02)\" style=\"fill:#009af9; stroke:none; fill-opacity:1\" cx=\"518.541\" cy=\"18.3034\" r=\"3\"/>\n",
       "<circle clip-path=\"url(#clip02)\" style=\"fill:#000000; stroke:none; fill-opacity:1\" cx=\"523.808\" cy=\"365.949\" r=\"4\"/>\n",
       "<circle clip-path=\"url(#clip02)\" style=\"fill:#009af9; stroke:none; fill-opacity:1\" cx=\"523.808\" cy=\"365.949\" r=\"3\"/>\n",
       "<circle clip-path=\"url(#clip02)\" style=\"fill:#000000; stroke:none; fill-opacity:1\" cx=\"529.076\" cy=\"18.3034\" r=\"4\"/>\n",
       "<circle clip-path=\"url(#clip02)\" style=\"fill:#009af9; stroke:none; fill-opacity:1\" cx=\"529.076\" cy=\"18.3034\" r=\"3\"/>\n",
       "<circle clip-path=\"url(#clip02)\" style=\"fill:#000000; stroke:none; fill-opacity:1\" cx=\"534.343\" cy=\"365.949\" r=\"4\"/>\n",
       "<circle clip-path=\"url(#clip02)\" style=\"fill:#009af9; stroke:none; fill-opacity:1\" cx=\"534.343\" cy=\"365.949\" r=\"3\"/>\n",
       "<circle clip-path=\"url(#clip02)\" style=\"fill:#000000; stroke:none; fill-opacity:1\" cx=\"539.61\" cy=\"18.3034\" r=\"4\"/>\n",
       "<circle clip-path=\"url(#clip02)\" style=\"fill:#009af9; stroke:none; fill-opacity:1\" cx=\"539.61\" cy=\"18.3034\" r=\"3\"/>\n",
       "<circle clip-path=\"url(#clip02)\" style=\"fill:#000000; stroke:none; fill-opacity:1\" cx=\"544.878\" cy=\"365.949\" r=\"4\"/>\n",
       "<circle clip-path=\"url(#clip02)\" style=\"fill:#009af9; stroke:none; fill-opacity:1\" cx=\"544.878\" cy=\"365.949\" r=\"3\"/>\n",
       "<circle clip-path=\"url(#clip02)\" style=\"fill:#000000; stroke:none; fill-opacity:1\" cx=\"550.145\" cy=\"18.3034\" r=\"4\"/>\n",
       "<circle clip-path=\"url(#clip02)\" style=\"fill:#009af9; stroke:none; fill-opacity:1\" cx=\"550.145\" cy=\"18.3034\" r=\"3\"/>\n",
       "<circle clip-path=\"url(#clip02)\" style=\"fill:#000000; stroke:none; fill-opacity:1\" cx=\"555.413\" cy=\"365.949\" r=\"4\"/>\n",
       "<circle clip-path=\"url(#clip02)\" style=\"fill:#009af9; stroke:none; fill-opacity:1\" cx=\"555.413\" cy=\"365.949\" r=\"3\"/>\n",
       "<circle clip-path=\"url(#clip02)\" style=\"fill:#000000; stroke:none; fill-opacity:1\" cx=\"560.68\" cy=\"18.3034\" r=\"4\"/>\n",
       "<circle clip-path=\"url(#clip02)\" style=\"fill:#009af9; stroke:none; fill-opacity:1\" cx=\"560.68\" cy=\"18.3034\" r=\"3\"/>\n",
       "<circle clip-path=\"url(#clip02)\" style=\"fill:#000000; stroke:none; fill-opacity:1\" cx=\"565.947\" cy=\"365.949\" r=\"4\"/>\n",
       "<circle clip-path=\"url(#clip02)\" style=\"fill:#009af9; stroke:none; fill-opacity:1\" cx=\"565.947\" cy=\"365.949\" r=\"3\"/>\n",
       "<circle clip-path=\"url(#clip02)\" style=\"fill:#000000; stroke:none; fill-opacity:1\" cx=\"571.215\" cy=\"18.3034\" r=\"4\"/>\n",
       "<circle clip-path=\"url(#clip02)\" style=\"fill:#009af9; stroke:none; fill-opacity:1\" cx=\"571.215\" cy=\"18.3034\" r=\"3\"/>\n",
       "<circle clip-path=\"url(#clip02)\" style=\"fill:#000000; stroke:none; fill-opacity:1\" cx=\"576.482\" cy=\"365.949\" r=\"4\"/>\n",
       "<circle clip-path=\"url(#clip02)\" style=\"fill:#009af9; stroke:none; fill-opacity:1\" cx=\"576.482\" cy=\"365.949\" r=\"3\"/>\n",
       "<polygon clip-path=\"url(#clip00)\" points=\"\n",
       "501.61,58.994 574.126,58.994 574.126,28.754 501.61,28.754 \n",
       "  \" fill=\"#ffffff\" fill-opacity=\"1\"/>\n",
       "<polyline clip-path=\"url(#clip00)\" style=\"stroke:#000000; stroke-width:1; stroke-opacity:1; fill:none\" points=\"\n",
       "  501.61,58.994 574.126,58.994 574.126,28.754 501.61,28.754 501.61,58.994 \n",
       "  \"/>\n",
       "<circle clip-path=\"url(#clip00)\" style=\"fill:#000000; stroke:none; fill-opacity:1\" cx=\"528.61\" cy=\"43.874\" r=\"6\"/>\n",
       "<circle clip-path=\"url(#clip00)\" style=\"fill:#009af9; stroke:none; fill-opacity:1\" cx=\"528.61\" cy=\"43.874\" r=\"5\"/>\n",
       "<g clip-path=\"url(#clip00)\">\n",
       "<text style=\"fill:#000000; fill-opacity:1; font-family:Arial,Helvetica Neue,Helvetica,sans-serif; font-size:12; text-anchor:start;\" transform=\"rotate(0, 549.61, 48.374)\" x=\"549.61\" y=\"48.374\">y1</text>\n",
       "</g>\n",
       "</svg>\n"
      ]
     },
     "execution_count": 41,
     "metadata": {
      "comm_id": "0db7cf3e-9d88-4d21-959c-fb68a5f2641f",
      "reactive": true
     },
     "output_type": "execute_result"
    },
    {
     "name": "stderr",
     "output_type": "stream",
     "text": [
      "Failed to push!\n",
      "    1.19\n",
      "to node\n",
      "    21: \"input-6\" = 1.19 Float64 (active)\n",
      "\n",
      "error at node: 23: \"map(input-6)-2\" = Plot{Plots.GRBackend() n=1} Any (active)\n",
      "DomainError:\n",
      "iterar(::#f6, ::Float64, ::Int64) at ./In[15]:7\n",
      "#37 at ./In[41]:2 [inlined]\n",
      "(::Reactive.##33#34{##37#38,Reactive.Signal{Any},Tuple{Reactive.Signal{Float64}}})() at /Users/Valentina/.julia/v0.6/Reactive/src/operators.jl:39\n",
      "foreach(::Reactive.#runaction, ::Array{Function,1}) at ./abstractarray.jl:1731\n",
      "run_node(::Reactive.Signal{Any}) at /Users/Valentina/.julia/v0.6/Reactive/src/core.jl:312\n",
      "run_push(::Reactive.Signal{Float64}, ::Float64, ::Reactive.#print_error, ::Bool) at /Users/Valentina/.julia/v0.6/Reactive/src/core.jl:330\n",
      "run_push(::Reactive.Signal{Float64}, ::Float64, ::Function) at /Users/Valentina/.julia/v0.6/Reactive/src/core.jl:317\n",
      "run(::Int64) at /Users/Valentina/.julia/v0.6/Reactive/src/core.jl:277\n",
      "(::Reactive.##27#29)() at ./task.jl:335\n",
      "Failed to push!\n",
      "    1.34\n",
      "to node\n",
      "    21: \"input-6\" = 1.34 Float64 (active)\n",
      "\n",
      "error at node: 23: \"map(input-6)-2\" = Plot{Plots.GRBackend() n=1} Any (active)\n",
      "DomainError:\n",
      "iterar(::#f6, ::Float64, ::Int64) at ./In[15]:7\n",
      "#37 at ./In[41]:2 [inlined]\n",
      "(::Reactive.##33#34{##37#38,Reactive.Signal{Any},Tuple{Reactive.Signal{Float64}}})() at /Users/Valentina/.julia/v0.6/Reactive/src/operators.jl:39\n",
      "foreach(::Reactive.#runaction, ::Array{Function,1}) at ./abstractarray.jl:1731\n",
      "run_node(::Reactive.Signal{Any}) at /Users/Valentina/.julia/v0.6/Reactive/src/core.jl:312\n",
      "run_push(::Reactive.Signal{Float64}, ::Float64, ::Reactive.#print_error, ::Bool) at /Users/Valentina/.julia/v0.6/Reactive/src/core.jl:330\n",
      "run_push(::Reactive.Signal{Float64}, ::Float64, ::Function) at /Users/Valentina/.julia/v0.6/Reactive/src/core.jl:317\n",
      "run(::Int64) at /Users/Valentina/.julia/v0.6/Reactive/src/core.jl:277\n",
      "(::Reactive.##27#29)() at ./task.jl:335\n",
      "Failed to push!\n",
      "    1.38\n",
      "to node\n",
      "    21: \"input-6\" = 1.38 Float64 (active)\n",
      "\n",
      "error at node: 23: \"map(input-6)-2\" = Plot{Plots.GRBackend() n=1} Any (active)\n",
      "DomainError:\n",
      "iterar(::#f6, ::Float64, ::Int64) at ./In[15]:7\n",
      "#37 at ./In[41]:2 [inlined]\n",
      "(::Reactive.##33#34{##37#38,Reactive.Signal{Any},Tuple{Reactive.Signal{Float64}}})() at /Users/Valentina/.julia/v0.6/Reactive/src/operators.jl:39\n",
      "foreach(::Reactive.#runaction, ::Array{Function,1}) at ./abstractarray.jl:1731\n",
      "run_node(::Reactive.Signal{Any}) at /Users/Valentina/.julia/v0.6/Reactive/src/core.jl:312\n",
      "run_push(::Reactive.Signal{Float64}, ::Float64, ::Reactive.#print_error, ::Bool) at /Users/Valentina/.julia/v0.6/Reactive/src/core.jl:330\n",
      "run_push(::Reactive.Signal{Float64}, ::Float64, ::Function) at /Users/Valentina/.julia/v0.6/Reactive/src/core.jl:317\n",
      "run(::Int64) at /Users/Valentina/.julia/v0.6/Reactive/src/core.jl:277\n",
      "(::Reactive.##27#29)() at ./task.jl:335\n",
      "Failed to push!\n",
      "    1.5\n",
      "to node\n",
      "    21: \"input-6\" = 1.5 Float64 (active)\n",
      "\n",
      "error at node: 23: \"map(input-6)-2\" = Plot{Plots.GRBackend() n=1} Any (active)\n",
      "DomainError:\n",
      "iterar(::#f6, ::Float64, ::Int64) at ./In[15]:7\n",
      "#37 at ./In[41]:2 [inlined]\n",
      "(::Reactive.##33#34{##37#38,Reactive.Signal{Any},Tuple{Reactive.Signal{Float64}}})() at /Users/Valentina/.julia/v0.6/Reactive/src/operators.jl:39\n",
      "foreach(::Reactive.#runaction, ::Array{Function,1}) at ./abstractarray.jl:1731\n",
      "run_node(::Reactive.Signal{Any}) at /Users/Valentina/.julia/v0.6/Reactive/src/core.jl:312\n",
      "run_push(::Reactive.Signal{Float64}, ::Float64, ::Reactive.#print_error, ::Bool) at /Users/Valentina/.julia/v0.6/Reactive/src/core.jl:330\n",
      "run_push(::Reactive.Signal{Float64}, ::Float64, ::Function) at /Users/Valentina/.julia/v0.6/Reactive/src/core.jl:317\n",
      "run(::Int64) at /Users/Valentina/.julia/v0.6/Reactive/src/core.jl:277\n",
      "(::Reactive.##27#29)() at ./task.jl:335\n",
      "Failed to push!\n",
      "    -0.09\n",
      "to node\n",
      "    21: \"input-6\" = -0.09 Float64 (active)\n",
      "\n",
      "error at node: 23: \"map(input-6)-2\" = Plot{Plots.GRBackend() n=1} Any (active)\n",
      "DomainError:\n",
      "iterar(::#f6, ::Float64, ::Int64) at ./In[15]:7\n",
      "#37 at ./In[41]:2 [inlined]\n",
      "(::Reactive.##33#34{##37#38,Reactive.Signal{Any},Tuple{Reactive.Signal{Float64}}})() at /Users/Valentina/.julia/v0.6/Reactive/src/operators.jl:39\n",
      "foreach(::Reactive.#runaction, ::Array{Function,1}) at ./abstractarray.jl:1731\n",
      "run_node(::Reactive.Signal{Any}) at /Users/Valentina/.julia/v0.6/Reactive/src/core.jl:312\n",
      "run_push(::Reactive.Signal{Float64}, ::Float64, ::Reactive.#print_error, ::Bool) at /Users/Valentina/.julia/v0.6/Reactive/src/core.jl:330\n",
      "run_push(::Reactive.Signal{Float64}, ::Float64, ::Function) at /Users/Valentina/.julia/v0.6/Reactive/src/core.jl:317\n",
      "run(::Int64) at /Users/Valentina/.julia/v0.6/Reactive/src/core.jl:277\n",
      "(::Reactive.##27#29)() at ./task.jl:335\n",
      "Failed to push!\n",
      "    -0.12\n",
      "to node\n",
      "    21: \"input-6\" = -0.12 Float64 (active)\n",
      "\n",
      "error at node: 23: \"map(input-6)-2\" = Plot{Plots.GRBackend() n=1} Any (active)\n",
      "DomainError:\n",
      "iterar(::#f6, ::Float64, ::Int64) at ./In[15]:7\n",
      "#37 at ./In[41]:2 [inlined]\n",
      "(::Reactive.##33#34{##37#38,Reactive.Signal{Any},Tuple{Reactive.Signal{Float64}}})() at /Users/Valentina/.julia/v0.6/Reactive/src/operators.jl:39\n",
      "foreach(::Reactive.#runaction, ::Array{Function,1}) at ./abstractarray.jl:1731\n",
      "run_node(::Reactive.Signal{Any}) at /Users/Valentina/.julia/v0.6/Reactive/src/core.jl:312\n",
      "run_push(::Reactive.Signal{Float64}, ::Float64, ::Reactive.#print_error, ::Bool) at /Users/Valentina/.julia/v0.6/Reactive/src/core.jl:330\n",
      "run_push(::Reactive.Signal{Float64}, ::Float64, ::Function) at /Users/Valentina/.julia/v0.6/Reactive/src/core.jl:317\n",
      "run(::Int64) at /Users/Valentina/.julia/v0.6/Reactive/src/core.jl:277\n",
      "(::Reactive.##27#29)() at ./task.jl:335\n",
      "Failed to push!\n",
      "    -0.19\n",
      "to node\n",
      "    21: \"input-6\" = -0.19 Float64 (active)\n",
      "\n",
      "error at node: 23: \"map(input-6)-2\" = Plot{Plots.GRBackend() n=1} Any (active)\n",
      "DomainError:\n",
      "iterar(::#f6, ::Float64, ::Int64) at ./In[15]:7\n",
      "#37 at ./In[41]:2 [inlined]\n",
      "(::Reactive.##33#34{##37#38,Reactive.Signal{Any},Tuple{Reactive.Signal{Float64}}})() at /Users/Valentina/.julia/v0.6/Reactive/src/operators.jl:39\n",
      "foreach(::Reactive.#runaction, ::Array{Function,1}) at ./abstractarray.jl:1731\n",
      "run_node(::Reactive.Signal{Any}) at /Users/Valentina/.julia/v0.6/Reactive/src/core.jl:312\n",
      "run_push(::Reactive.Signal{Float64}, ::Float64, ::Reactive.#print_error, ::Bool) at /Users/Valentina/.julia/v0.6/Reactive/src/core.jl:330\n",
      "run_push(::Reactive.Signal{Float64}, ::Float64, ::Function) at /Users/Valentina/.julia/v0.6/Reactive/src/core.jl:317\n",
      "run(::Int64) at /Users/Valentina/.julia/v0.6/Reactive/src/core.jl:277\n",
      "(::Reactive.##27#29)() at ./task.jl:335\n",
      "Failed to push!\n",
      "    -0.91\n",
      "to node\n",
      "    21: \"input-6\" = -0.91 Float64 (active)\n",
      "\n",
      "error at node: 23: \"map(input-6)-2\" = Plot{Plots.GRBackend() n=1} Any (active)\n",
      "DomainError:\n",
      "iterar(::#f6, ::Float64, ::Int64) at ./In[15]:7\n",
      "#37 at ./In[41]:2 [inlined]\n",
      "(::Reactive.##33#34{##37#38,Reactive.Signal{Any},Tuple{Reactive.Signal{Float64}}})() at /Users/Valentina/.julia/v0.6/Reactive/src/operators.jl:39\n",
      "foreach(::Reactive.#runaction, ::Array{Function,1}) at ./abstractarray.jl:1731\n",
      "run_node(::Reactive.Signal{Any}) at /Users/Valentina/.julia/v0.6/Reactive/src/core.jl:312\n",
      "run_push(::Reactive.Signal{Float64}, ::Float64, ::Reactive.#print_error, ::Bool) at /Users/Valentina/.julia/v0.6/Reactive/src/core.jl:330\n",
      "run_push(::Reactive.Signal{Float64}, ::Float64, ::Function) at /Users/Valentina/.julia/v0.6/Reactive/src/core.jl:317\n",
      "run(::Int64) at /Users/Valentina/.julia/v0.6/Reactive/src/core.jl:277\n",
      "(::Reactive.##27#29)() at ./task.jl:335\n",
      "Failed to push!\n",
      "    -0.51\n",
      "to node\n",
      "    21: \"input-6\" = -0.51 Float64 (active)\n",
      "\n",
      "error at node: 23: \"map(input-6)-2\" = Plot{Plots.GRBackend() n=1} Any (active)\n",
      "DomainError:\n",
      "iterar(::#f6, ::Float64, ::Int64) at ./In[15]:7\n",
      "#37 at ./In[41]:2 [inlined]\n",
      "(::Reactive.##33#34{##37#38,Reactive.Signal{Any},Tuple{Reactive.Signal{Float64}}})() at /Users/Valentina/.julia/v0.6/Reactive/src/operators.jl:39\n",
      "foreach(::Reactive.#runaction, ::Array{Function,1}) at ./abstractarray.jl:1731\n",
      "run_node(::Reactive.Signal{Any}) at /Users/Valentina/.julia/v0.6/Reactive/src/core.jl:312\n",
      "run_push(::Reactive.Signal{Float64}, ::Float64, ::Reactive.#print_error, ::Bool) at /Users/Valentina/.julia/v0.6/Reactive/src/core.jl:330\n",
      "run_push(::Reactive.Signal{Float64}, ::Float64, ::Function) at /Users/Valentina/.julia/v0.6/Reactive/src/core.jl:317\n",
      "run(::Int64) at /Users/Valentina/.julia/v0.6/Reactive/src/core.jl:277\n",
      "(::Reactive.##27#29)() at ./task.jl:335\n"
     ]
    },
    {
     "name": "stderr",
     "output_type": "stream",
     "text": [
      "Failed to push!\n",
      "    -0.14\n",
      "to node\n",
      "    21: \"input-6\" = -0.14 Float64 (active)\n",
      "\n",
      "error at node: 23: \"map(input-6)-2\" = Plot{Plots.GRBackend() n=1} Any (active)\n",
      "DomainError:\n",
      "iterar(::#f6, ::Float64, ::Int64) at ./In[15]:7\n",
      "#37 at ./In[41]:2 [inlined]\n",
      "(::Reactive.##33#34{##37#38,Reactive.Signal{Any},Tuple{Reactive.Signal{Float64}}})() at /Users/Valentina/.julia/v0.6/Reactive/src/operators.jl:39\n",
      "foreach(::Reactive.#runaction, ::Array{Function,1}) at ./abstractarray.jl:1731\n",
      "run_node(::Reactive.Signal{Any}) at /Users/Valentina/.julia/v0.6/Reactive/src/core.jl:312\n",
      "run_push(::Reactive.Signal{Float64}, ::Float64, ::Reactive.#print_error, ::Bool) at /Users/Valentina/.julia/v0.6/Reactive/src/core.jl:330\n",
      "run_push(::Reactive.Signal{Float64}, ::Float64, ::Function) at /Users/Valentina/.julia/v0.6/Reactive/src/core.jl:317\n",
      "run(::Int64) at /Users/Valentina/.julia/v0.6/Reactive/src/core.jl:277\n",
      "(::Reactive.##27#29)() at ./task.jl:335\n",
      "Failed to push!\n",
      "    -0.42\n",
      "to node\n",
      "    21: \"input-6\" = -0.42 Float64 (active)\n",
      "\n",
      "error at node: 23: \"map(input-6)-2\" = Plot{Plots.GRBackend() n=1} Any (active)\n",
      "DomainError:\n",
      "iterar(::#f6, ::Float64, ::Int64) at ./In[15]:7\n",
      "#37 at ./In[41]:2 [inlined]\n",
      "(::Reactive.##33#34{##37#38,Reactive.Signal{Any},Tuple{Reactive.Signal{Float64}}})() at /Users/Valentina/.julia/v0.6/Reactive/src/operators.jl:39\n",
      "foreach(::Reactive.#runaction, ::Array{Function,1}) at ./abstractarray.jl:1731\n",
      "run_node(::Reactive.Signal{Any}) at /Users/Valentina/.julia/v0.6/Reactive/src/core.jl:312\n",
      "run_push(::Reactive.Signal{Float64}, ::Float64, ::Reactive.#print_error, ::Bool) at /Users/Valentina/.julia/v0.6/Reactive/src/core.jl:330\n",
      "run_push(::Reactive.Signal{Float64}, ::Float64, ::Function) at /Users/Valentina/.julia/v0.6/Reactive/src/core.jl:317\n",
      "run(::Int64) at /Users/Valentina/.julia/v0.6/Reactive/src/core.jl:277\n",
      "(::Reactive.##27#29)() at ./task.jl:335\n",
      "Failed to push!\n",
      "    -1.86\n",
      "to node\n",
      "    21: \"input-6\" = -1.86 Float64 (active)\n",
      "\n",
      "error at node: 23: \"map(input-6)-2\" = Plot{Plots.GRBackend() n=1} Any (active)\n",
      "DomainError:\n",
      "iterar(::#f6, ::Float64, ::Int64) at ./In[15]:7\n",
      "#37 at ./In[41]:2 [inlined]\n",
      "(::Reactive.##33#34{##37#38,Reactive.Signal{Any},Tuple{Reactive.Signal{Float64}}})() at /Users/Valentina/.julia/v0.6/Reactive/src/operators.jl:39\n",
      "foreach(::Reactive.#runaction, ::Array{Function,1}) at ./abstractarray.jl:1731\n",
      "run_node(::Reactive.Signal{Any}) at /Users/Valentina/.julia/v0.6/Reactive/src/core.jl:312\n",
      "run_push(::Reactive.Signal{Float64}, ::Float64, ::Reactive.#print_error, ::Bool) at /Users/Valentina/.julia/v0.6/Reactive/src/core.jl:330\n",
      "run_push(::Reactive.Signal{Float64}, ::Float64, ::Function) at /Users/Valentina/.julia/v0.6/Reactive/src/core.jl:317\n",
      "run(::Int64) at /Users/Valentina/.julia/v0.6/Reactive/src/core.jl:277\n",
      "(::Reactive.##27#29)() at ./task.jl:335\n",
      "Failed to push!\n",
      "    -0.86\n",
      "to node\n",
      "    21: \"input-6\" = -0.86 Float64 (active)\n",
      "\n",
      "error at node: 23: \"map(input-6)-2\" = Plot{Plots.GRBackend() n=1} Any (active)\n",
      "DomainError:\n",
      "iterar(::#f6, ::Float64, ::Int64) at ./In[15]:7\n",
      "#37 at ./In[41]:2 [inlined]\n",
      "(::Reactive.##33#34{##37#38,Reactive.Signal{Any},Tuple{Reactive.Signal{Float64}}})() at /Users/Valentina/.julia/v0.6/Reactive/src/operators.jl:39\n",
      "foreach(::Reactive.#runaction, ::Array{Function,1}) at ./abstractarray.jl:1731\n",
      "run_node(::Reactive.Signal{Any}) at /Users/Valentina/.julia/v0.6/Reactive/src/core.jl:312\n",
      "run_push(::Reactive.Signal{Float64}, ::Float64, ::Reactive.#print_error, ::Bool) at /Users/Valentina/.julia/v0.6/Reactive/src/core.jl:330\n",
      "run_push(::Reactive.Signal{Float64}, ::Float64, ::Function) at /Users/Valentina/.julia/v0.6/Reactive/src/core.jl:317\n",
      "run(::Int64) at /Users/Valentina/.julia/v0.6/Reactive/src/core.jl:277\n",
      "(::Reactive.##27#29)() at ./task.jl:335\n",
      "Failed to push!\n",
      "    -0.82\n",
      "to node\n",
      "    21: \"input-6\" = -0.82 Float64 (active)\n",
      "\n",
      "error at node: 23: \"map(input-6)-2\" = Plot{Plots.GRBackend() n=1} Any (active)\n",
      "DomainError:\n",
      "iterar(::#f6, ::Float64, ::Int64) at ./In[15]:7\n",
      "#37 at ./In[41]:2 [inlined]\n",
      "(::Reactive.##33#34{##37#38,Reactive.Signal{Any},Tuple{Reactive.Signal{Float64}}})() at /Users/Valentina/.julia/v0.6/Reactive/src/operators.jl:39\n",
      "foreach(::Reactive.#runaction, ::Array{Function,1}) at ./abstractarray.jl:1731\n",
      "run_node(::Reactive.Signal{Any}) at /Users/Valentina/.julia/v0.6/Reactive/src/core.jl:312\n",
      "run_push(::Reactive.Signal{Float64}, ::Float64, ::Reactive.#print_error, ::Bool) at /Users/Valentina/.julia/v0.6/Reactive/src/core.jl:330\n",
      "run_push(::Reactive.Signal{Float64}, ::Float64, ::Function) at /Users/Valentina/.julia/v0.6/Reactive/src/core.jl:317\n",
      "run(::Int64) at /Users/Valentina/.julia/v0.6/Reactive/src/core.jl:277\n",
      "(::Reactive.##27#29)() at ./task.jl:335\n",
      "Failed to push!\n",
      "    -0.25\n",
      "to node\n",
      "    21: \"input-6\" = -0.25 Float64 (active)\n",
      "\n",
      "error at node: 23: \"map(input-6)-2\" = Plot{Plots.GRBackend() n=1} Any (active)\n",
      "DomainError:\n",
      "iterar(::#f6, ::Float64, ::Int64) at ./In[15]:7\n",
      "#37 at ./In[41]:2 [inlined]\n",
      "(::Reactive.##33#34{##37#38,Reactive.Signal{Any},Tuple{Reactive.Signal{Float64}}})() at /Users/Valentina/.julia/v0.6/Reactive/src/operators.jl:39\n",
      "foreach(::Reactive.#runaction, ::Array{Function,1}) at ./abstractarray.jl:1731\n",
      "run_node(::Reactive.Signal{Any}) at /Users/Valentina/.julia/v0.6/Reactive/src/core.jl:312\n",
      "run_push(::Reactive.Signal{Float64}, ::Float64, ::Reactive.#print_error, ::Bool) at /Users/Valentina/.julia/v0.6/Reactive/src/core.jl:330\n",
      "run_push(::Reactive.Signal{Float64}, ::Float64, ::Function) at /Users/Valentina/.julia/v0.6/Reactive/src/core.jl:317\n",
      "run(::Int64) at /Users/Valentina/.julia/v0.6/Reactive/src/core.jl:277\n",
      "(::Reactive.##27#29)() at ./task.jl:335\n",
      "Failed to push!\n",
      "    -0.21\n",
      "to node\n",
      "    21: \"input-6\" = -0.21 Float64 (active)\n",
      "\n",
      "error at node: 23: \"map(input-6)-2\" = Plot{Plots.GRBackend() n=1} Any (active)\n",
      "DomainError:\n",
      "iterar(::#f6, ::Float64, ::Int64) at ./In[15]:7\n",
      "#37 at ./In[41]:2 [inlined]\n",
      "(::Reactive.##33#34{##37#38,Reactive.Signal{Any},Tuple{Reactive.Signal{Float64}}})() at /Users/Valentina/.julia/v0.6/Reactive/src/operators.jl:39\n",
      "foreach(::Reactive.#runaction, ::Array{Function,1}) at ./abstractarray.jl:1731\n",
      "run_node(::Reactive.Signal{Any}) at /Users/Valentina/.julia/v0.6/Reactive/src/core.jl:312\n",
      "run_push(::Reactive.Signal{Float64}, ::Float64, ::Reactive.#print_error, ::Bool) at /Users/Valentina/.julia/v0.6/Reactive/src/core.jl:330\n",
      "run_push(::Reactive.Signal{Float64}, ::Float64, ::Function) at /Users/Valentina/.julia/v0.6/Reactive/src/core.jl:317\n",
      "run(::Int64) at /Users/Valentina/.julia/v0.6/Reactive/src/core.jl:277\n",
      "(::Reactive.##27#29)() at ./task.jl:335\n"
     ]
    }
   ],
   "source": [
    "@manipulate for x0 in -2:0.01:2\n",
    "scatter(iterar(f6, x0, 100))\n",
    "end"
   ]
  },
  {
   "cell_type": "code",
   "execution_count": 65,
   "metadata": {},
   "outputs": [
    {
     "data": {
      "text/plain": [
       "100-element Array{Any,1}:\n",
       " 0.774597\n",
       " 0.474767\n",
       " 0.72473 \n",
       " 0.524662\n",
       " 0.689448\n",
       " 0.557272\n",
       " 0.665378\n",
       " 0.578465\n",
       " 0.649257\n",
       " 0.592236\n",
       " 0.638564\n",
       " 0.601195\n",
       " 0.63151 \n",
       " ⋮       \n",
       " 0.618034\n",
       " 0.618034\n",
       " 0.618034\n",
       " 0.618034\n",
       " 0.618034\n",
       " 0.618034\n",
       " 0.618034\n",
       " 0.618034\n",
       " 0.618034\n",
       " 0.618034\n",
       " 0.618034\n",
       " 0.618034"
      ]
     },
     "execution_count": 65,
     "metadata": {},
     "output_type": "execute_result"
    }
   ],
   "source": [
    "iterar(f6, 0.4, 100)"
   ]
  },
  {
   "cell_type": "markdown",
   "metadata": {},
   "source": [
    "- Esta función converge al mismo valor que la anterior, sin embargo, sólo puede evaluarse en valores de `x` entre el 0 y el 1, ya que es el único intervalo en donde la función está bien definida"
   ]
  },
  {
   "cell_type": "code",
   "execution_count": 42,
   "metadata": {},
   "outputs": [
    {
     "data": {
      "text/plain": [
       "0.6180339887068027"
      ]
     },
     "execution_count": 42,
     "metadata": {},
     "output_type": "execute_result"
    }
   ],
   "source": [
    "f6(orbita(f6, 0.7, 100))"
   ]
  },
  {
   "cell_type": "markdown",
   "metadata": {},
   "source": [
    "## Bucles `while`"
   ]
  },
  {
   "cell_type": "markdown",
   "metadata": {},
   "source": [
    "En lo anterior, usamos un bucle `for`, que requiere que sepamos de antemano el número de iteraciones que queramos.\n",
    "Sin embargo, en este tipo de problemas, es más natural esperar **hasta que** converja, sin saber cuánto tiempo tomará.\n",
    "\n",
    "Para esto, podemos ocupar otro tipo de bucle, un bucle `while` (\"mientras\", en español). Un bucle de este tipo repite los comandos en el cuerpo del bucle **mientras** una condición siga cierta. Su sintaxis es como sigue:"
   ]
  },
  {
   "cell_type": "markdown",
   "metadata": {},
   "source": [
    "```\n",
    "while <condicion>\n",
    "    [haz esto]\n",
    "    [y esto]\n",
    "end\n",
    "```\n",
    "\n",
    "Sin embargo, para evitar bucles infinitos, a menudo es sensato incluir un contador para que no pueda haber demasiadas (posiblemente infinitas) iteraciones."
   ]
  },
  {
   "cell_type": "markdown",
   "metadata": {},
   "source": [
    "Mientras que en un bucle `for` hay un contador que se actualiza automáticamente, en un bucle `while` **nosotros somos los responsables** de tener una variable que actúe como contador."
   ]
  },
  {
   "cell_type": "markdown",
   "metadata": {},
   "source": [
    "- En un bucle 'for': de antemano sabemos cuántas veces se va a iterar\n",
    "- En un bucle 'while': No necesariamente; más bien, vamos verificando si sigue cumpliéndose una cierta condición cada vez."
   ]
  },
  {
   "cell_type": "markdown",
   "metadata": {},
   "source": [
    "**[7]** (i) Utilice un bucle `while` para contar de 1 a 10.\n",
    "\n",
    "(ii) Utilice un bucle `while` para encontrar la potencia de 2 más grande debajo de un número dado.\n",
    "\n",
    "(iii) Repite lo mismo con un bucle `for`, usando la palabra clave `break` para salir del bucle cuando una cierta condición se satisfaga."
   ]
  },
  {
   "cell_type": "code",
   "execution_count": 43,
   "metadata": {},
   "outputs": [
    {
     "name": "stdout",
     "output_type": "stream",
     "text": [
      "n = 2\n",
      "n = 3\n",
      "n = 4\n",
      "n = 5\n",
      "n = 6\n",
      "n = 7\n",
      "n = 8\n",
      "n = 9\n",
      "n = 10\n"
     ]
    }
   ],
   "source": [
    "n = 1\n",
    "\n",
    "while n != 10\n",
    "    \n",
    "    n += 1\n",
    "    @show n\n",
    "    \n",
    "end"
   ]
  },
  {
   "cell_type": "code",
   "execution_count": 44,
   "metadata": {},
   "outputs": [
    {
     "data": {
      "text/plain": [
       "potenciawhile (generic function with 1 method)"
      ]
     },
     "execution_count": 44,
     "metadata": {},
     "output_type": "execute_result"
    }
   ],
   "source": [
    "function potenciawhile(p)\n",
    "    \n",
    "    n = 1\n",
    "    c = 0\n",
    "    \n",
    "    while n <= p/2\n",
    "    \n",
    "        n *= 2\n",
    "        c += 1\n",
    "    end\n",
    "    \n",
    "    return(c, n)\n",
    "end"
   ]
  },
  {
   "cell_type": "code",
   "execution_count": 45,
   "metadata": {},
   "outputs": [
    {
     "data": {
      "text/plain": [
       "(6, 64)"
      ]
     },
     "execution_count": 45,
     "metadata": {},
     "output_type": "execute_result"
    }
   ],
   "source": [
    "potenciawhile(100)"
   ]
  },
  {
   "cell_type": "code",
   "execution_count": 46,
   "metadata": {},
   "outputs": [
    {
     "data": {
      "text/plain": [
       "potenciafor (generic function with 1 method)"
      ]
     },
     "execution_count": 46,
     "metadata": {},
     "output_type": "execute_result"
    }
   ],
   "source": [
    "function potenciafor(p)\n",
    "   \n",
    "    n = 1\n",
    "    c = 0\n",
    "    \n",
    "    for i in 1:100\n",
    "            \n",
    "        n *= 2\n",
    "        c += 1\n",
    "        \n",
    "        if n > p/2\n",
    "            break\n",
    "        end\n",
    "        \n",
    "    end\n",
    "    \n",
    "    return(c, n)\n",
    "    \n",
    "end"
   ]
  },
  {
   "cell_type": "code",
   "execution_count": 47,
   "metadata": {},
   "outputs": [
    {
     "data": {
      "text/plain": [
       "(6, 64)"
      ]
     },
     "execution_count": 47,
     "metadata": {},
     "output_type": "execute_result"
    }
   ],
   "source": [
    "potenciafor(100)"
   ]
  },
  {
   "cell_type": "markdown",
   "metadata": {},
   "source": [
    "## Bucles while e iteraciones de punto fijo"
   ]
  },
  {
   "cell_type": "markdown",
   "metadata": {},
   "source": [
    "**[8]** Utiliza un bucle `while` para la iteración de la función $f_1$. Fija una **tolerancia** razonable, y repite la iteración **hasta que** la distancia entre un iterado y el siguiente sea menor a la tolerancia. [Pista: ¿Cuál función matemática da la distancia entre dos números en una dimensión. Encuentra la función de Julia que lo hace.] \n",
    "\n",
    "**[9]** De la misma forma, escribe una versión nueva de la función `iterar`, que utiliza un `while` y acepta una tolerancia como argumento."
   ]
  },
  {
   "cell_type": "code",
   "execution_count": 49,
   "metadata": {},
   "outputs": [
    {
     "data": {
      "text/plain": [
       "iterar (generic function with 2 methods)"
      ]
     },
     "execution_count": 49,
     "metadata": {},
     "output_type": "execute_result"
    }
   ],
   "source": [
    "function iterar(f,x0)\n",
    "    \n",
    "    x_actual = x0\n",
    "    x_nuevo = f(x_actual)\n",
    "    a = 1 #damos un valor inicial cualquiera (que cumpla con la condición del bucle while) para a\n",
    "    \n",
    "    while a > 0.00000000000000001\n",
    " \n",
    "        x_nuevo = f(x_actual) \n",
    "        a = abs(x_actual - x_nuevo) #define el valor de a como la distancia entre x_actual y x_nuevo, que será el que se pruebe para cumplir la condición para continuar en el bucle\n",
    "        x_actual = x_nuevo #y después redefine a x_actual para volver al principio del bucle    \n",
    "    end\n",
    "    \n",
    "    return x_nuevo\n",
    "end"
   ]
  },
  {
   "cell_type": "code",
   "execution_count": 50,
   "metadata": {},
   "outputs": [
    {
     "data": {
      "text/plain": [
       "0.7390851332151607"
      ]
     },
     "execution_count": 50,
     "metadata": {},
     "output_type": "execute_result"
    }
   ],
   "source": [
    "iterar(cos,1)"
   ]
  },
  {
   "cell_type": "markdown",
   "metadata": {},
   "source": [
    "## Haz tu propia biblioteca "
   ]
  },
  {
   "cell_type": "markdown",
   "metadata": {},
   "source": [
    "Guarda la función `iterar` en un archivo que se llama `herramientas.jl`. Iremos agregando más métodos a este archivo.\n",
    "\n",
    "Se incluye en un notebook o un script de Julia con `include(\"herramientas.jl\")`."
   ]
  },
  {
   "cell_type": "code",
   "execution_count": 51,
   "metadata": {},
   "outputs": [
    {
     "name": "stderr",
     "output_type": "stream",
     "text": [
      "\u001b[1m\u001b[33mWARNING: \u001b[39m\u001b[22m\u001b[33mreplacing docs for 'iterar :: Tuple{Any,Any}' in module 'Main'.\u001b[39m\n"
     ]
    },
    {
     "data": {
      "text/plain": [
       "iterar"
      ]
     },
     "execution_count": 51,
     "metadata": {},
     "output_type": "execute_result"
    }
   ],
   "source": [
    "doc\"\"\"La función `iterar(f, x)` toma a la función `f` evaluada en el punto `x` y la itera en si misma cuantas veces sea necesario hasta que la función converja a un valor fijo.\"\"\"\n",
    "\n",
    "function iterar(f,x0)\n",
    "    \n",
    "    x_actual = x0\n",
    "    x_nuevo = f(x_actual)\n",
    "    a = 1 #damos un valor inicial cualquiera (que cumpla con la condición del bucle while) para a\n",
    "    \n",
    "    while a > 0.00000000000000001\n",
    " \n",
    "        x_nuevo = f(x_actual) \n",
    "        a = abs(x_actual - x_nuevo) #define el valor de a como la distancia entre x_actual y x_nuevo, que será el que se pruebe para cumplir la condición para continuar en el bucle\n",
    "        x_actual = x_nuevo #y después redefine a x_actual para volver al principio del bucle    \n",
    "    end\n",
    "    \n",
    "    return x_nuevo\n",
    "end"
   ]
  },
  {
   "cell_type": "code",
   "execution_count": 52,
   "metadata": {},
   "outputs": [
    {
     "name": "stdout",
     "output_type": "stream",
     "text": [
      "search: \u001b[1mI\u001b[22m\u001b[1mt\u001b[22m\u001b[1me\u001b[22m\u001b[1mr\u001b[22m\u001b[1ma\u001b[22mto\u001b[1mr\u001b[22ms \u001b[1mI\u001b[22mn\u001b[1mt\u001b[22m\u001b[1me\u001b[22m\u001b[1mr\u001b[22m\u001b[1ma\u001b[22mct \u001b[1mi\u001b[22msin\u001b[1mt\u001b[22m\u001b[1me\u001b[22m\u001b[1mr\u001b[22m\u001b[1ma\u001b[22mctive we\u001b[1mi\u001b[22mgh\u001b[1mt\u001b[22m\u001b[1me\u001b[22md_colo\u001b[1mr\u001b[22m_me\u001b[1ma\u001b[22mn\n",
      "\n"
     ]
    },
    {
     "data": {
      "text/markdown": [
       "La función `iterar(f, x)` toma a la función `f` evaluada en el punto `x` y la itera en si misma cuantas veces sea necesario hasta que la función converja a un valor fijo.\n"
      ],
      "text/plain": [
       "La función `iterar(f, x)` toma a la función `f` evaluada en el punto `x` y la itera en si misma cuantas veces sea necesario hasta que la función converja a un valor fijo.\n"
      ]
     },
     "execution_count": 52,
     "metadata": {},
     "output_type": "execute_result"
    }
   ],
   "source": [
    "?iterar"
   ]
  }
 ],
 "metadata": {
  "kernelspec": {
   "display_name": "Julia 0.6.0",
   "language": "julia",
   "name": "julia-0.6"
  },
  "language_info": {
   "file_extension": ".jl",
   "mimetype": "application/julia",
   "name": "julia",
   "version": "0.6.0"
  }
 },
 "nbformat": 4,
 "nbformat_minor": 1
}
